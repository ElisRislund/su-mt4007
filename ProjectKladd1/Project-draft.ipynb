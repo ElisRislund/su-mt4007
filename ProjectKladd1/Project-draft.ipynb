{
 "cells": [
  {
   "cell_type": "markdown",
   "id": "c8a309d6-ae9a-4431-8f88-2ab02973cc03",
   "metadata": {},
   "source": [
    "# Project draft"
   ]
  },
  {
   "cell_type": "code",
   "execution_count": 1,
   "id": "c7f8bfa0-5b50-4c56-a79e-a80b6f412922",
   "metadata": {},
   "outputs": [],
   "source": [
    "suppressWarnings(suppressMessages({\n",
    "    library(rvest)\n",
    "    library(readr)\n",
    "    library(dplyr)\n",
    "    }))"
   ]
  },
  {
   "cell_type": "code",
   "execution_count": 2,
   "id": "e095c34c-a83c-4f3d-99ce-d84b02cea220",
   "metadata": {},
   "outputs": [
    {
     "name": "stdout",
     "output_type": "stream",
     "text": [
      "\u001b[90m# A tibble: 20 × 11\u001b[39m\n",
      "     Pos Team                      Pld     W     D     L    GF    GA GD    Pts  \n",
      "   \u001b[3m\u001b[90m<int>\u001b[39m\u001b[23m \u001b[3m\u001b[90m<chr>\u001b[39m\u001b[23m                   \u001b[3m\u001b[90m<int>\u001b[39m\u001b[23m \u001b[3m\u001b[90m<int>\u001b[39m\u001b[23m \u001b[3m\u001b[90m<int>\u001b[39m\u001b[23m \u001b[3m\u001b[90m<int>\u001b[39m\u001b[23m \u001b[3m\u001b[90m<int>\u001b[39m\u001b[23m \u001b[3m\u001b[90m<int>\u001b[39m\u001b[23m \u001b[3m\u001b[90m<chr>\u001b[39m\u001b[23m \u001b[3m\u001b[90m<chr>\u001b[39m\u001b[23m\n",
      "\u001b[90m 1\u001b[39m     1 Manchester City (C)        38    28     7     3    96    34 +62   91   \n",
      "\u001b[90m 2\u001b[39m     2 Arsenal                    38    28     5     5    91    29 +62   89   \n",
      "\u001b[90m 3\u001b[39m     3 Liverpool                  38    24    10     4    86    41 +45   82   \n",
      "\u001b[90m 4\u001b[39m     4 Aston Villa                38    20     8    10    76    61 +15   68   \n",
      "\u001b[90m 5\u001b[39m     5 Tottenham Hotspur          38    20     6    12    74    61 +13   66   \n",
      "\u001b[90m 6\u001b[39m     6 Chelsea                    38    18     9    11    77    63 +14   63   \n",
      "\u001b[90m 7\u001b[39m     7 Newcastle United           38    18     6    14    85    62 +23   60   \n",
      "\u001b[90m 8\u001b[39m     8 Manchester United          38    18     6    14    57    58 −1    60   \n",
      "\u001b[90m 9\u001b[39m     9 West Ham United            38    14    10    14    60    74 −14   52   \n",
      "\u001b[90m10\u001b[39m    10 Crystal Palace             38    13    10    15    57    58 −1    49   \n",
      "\u001b[90m11\u001b[39m    11 Brighton & Hove Albion     38    12    12    14    55    62 −7    48   \n",
      "\u001b[90m12\u001b[39m    12 Bournemouth                38    13     9    16    54    67 −13   48   \n",
      "\u001b[90m13\u001b[39m    13 Fulham                     38    13     8    17    55    61 −6    47   \n",
      "\u001b[90m14\u001b[39m    14 Wolverhampton Wanderers    38    13     7    18    50    65 −15   46   \n",
      "\u001b[90m15\u001b[39m    15 Everton                    38    13     9    16    40    51 −11   40[c]\n",
      "\u001b[90m16\u001b[39m    16 Brentford                  38    10     9    19    56    65 −9    39   \n",
      "\u001b[90m17\u001b[39m    17 Nottingham Forest          38     9     9    20    49    67 −18   32[d]\n",
      "\u001b[90m18\u001b[39m    18 Luton Town (R)             38     6     8    24    52    85 −33   26   \n",
      "\u001b[90m19\u001b[39m    19 Burnley (R)                38     5     9    24    41    78 −37   24   \n",
      "\u001b[90m20\u001b[39m    20 Sheffield United (R)       38     3     7    28    35   104 −69   16   \n",
      "\u001b[90m# ℹ 1 more variable: `Qualification or relegation` <chr>\u001b[39m\n"
     ]
    }
   ],
   "source": [
    "\n",
    "\n",
    "# Define the URL\n",
    "url <- \"https://en.wikipedia.org/wiki/2023%E2%80%9324_Premier_League\"\n",
    "\n",
    "# Read the HTML content of the page\n",
    "page <- read_html(url)\n",
    "\n",
    "# Extract tables with class \"wikitable\"\n",
    "tables <- page %>%\n",
    "  html_nodes(\"table.wikitable\") %>%  # Select all tables with class 'wikitable'\n",
    "  html_table(fill = TRUE)  # Convert them to data frames and fill missing values\n",
    "\n",
    "# Select the 4th table\n",
    "fourth_table <- tables[[4]]\n",
    "\n",
    "# Print the 4th table\n",
    "print(fourth_table)"
   ]
  },
  {
   "cell_type": "code",
   "execution_count": 3,
   "id": "2e429aab-91fb-4a86-8578-963df53cfcb9",
   "metadata": {},
   "outputs": [
    {
     "name": "stdout",
     "output_type": "stream",
     "text": [
      "\u001b[90m# A tibble: 20 × 11\u001b[39m\n",
      "     Pos Team                    Pld     W     D     L    GF    GA GD      Pts\n",
      "   \u001b[3m\u001b[90m<int>\u001b[39m\u001b[23m \u001b[3m\u001b[90m<chr>\u001b[39m\u001b[23m                 \u001b[3m\u001b[90m<int>\u001b[39m\u001b[23m \u001b[3m\u001b[90m<int>\u001b[39m\u001b[23m \u001b[3m\u001b[90m<int>\u001b[39m\u001b[23m \u001b[3m\u001b[90m<int>\u001b[39m\u001b[23m \u001b[3m\u001b[90m<int>\u001b[39m\u001b[23m \u001b[3m\u001b[90m<int>\u001b[39m\u001b[23m \u001b[3m\u001b[90m<chr>\u001b[39m\u001b[23m \u001b[3m\u001b[90m<int>\u001b[39m\u001b[23m\n",
      "\u001b[90m 1\u001b[39m     1 Manchester United (C)    38    22    13     3    80    37 +43      79\n",
      "\u001b[90m 2\u001b[39m     2 Arsenal                  38    22    12     4    59    17 +42      78\n",
      "\u001b[90m 3\u001b[39m     3 Chelsea                  38    20    15     3    57    30 +27      75\n",
      "\u001b[90m 4\u001b[39m     4 Leeds United             38    18    13     7    62    34 +28      67\n",
      "\u001b[90m 5\u001b[39m     5 West Ham United          38    16     9    13    46    53 −7       57\n",
      "\u001b[90m 6\u001b[39m     6 Aston Villa              38    15    10    13    51    46 +5       55\n",
      "\u001b[90m 7\u001b[39m     7 Liverpool                38    15     9    14    68    49 +19      54\n",
      "\u001b[90m 8\u001b[39m     8 Derby County             38    13    13    12    40    45 −5       52\n",
      "\u001b[90m 9\u001b[39m     9 Middlesbrough            38    12    15    11    48    54 −6       51\n",
      "\u001b[90m10\u001b[39m    10 Leicester City           38    12    13    13    40    46 −6       49\n",
      "\u001b[90m11\u001b[39m    11 Tottenham Hotspur        38    11    14    13    47    50 −3       47\n",
      "\u001b[90m12\u001b[39m    12 Sheffield Wednesday      38    13     7    18    41    42 −1       46\n",
      "\u001b[90m13\u001b[39m    13 Newcastle United         38    11    13    14    48    54 −6       46\n",
      "\u001b[90m14\u001b[39m    14 Everton                  38    11    10    17    42    47 −5       43\n",
      "\u001b[90m15\u001b[39m    15 Coventry City            38    11     9    18    39    51 −12      42\n",
      "\u001b[90m16\u001b[39m    16 Wimbledon                38    10    12    16    40    63 −23      42\n",
      "\u001b[90m17\u001b[39m    17 Southampton              38    11     8    19    37    64 −27      41\n",
      "\u001b[90m18\u001b[39m    18 Charlton Athletic (R)    38     8    12    18    41    56 −15      36\n",
      "\u001b[90m19\u001b[39m    19 Blackburn Rovers (R)     38     7    14    17    38    52 −14      35\n",
      "\u001b[90m20\u001b[39m    20 Nottingham Forest (R)    38     7     9    22    35    69 −34      30\n",
      "\u001b[90m# ℹ 1 more variable: `Qualification or relegation` <chr>\u001b[39m\n"
     ]
    }
   ],
   "source": [
    "# Define the URL\n",
    "url <- \"https://en.wikipedia.org/wiki/1998%E2%80%9399_FA_Premier_League\"\n",
    "\n",
    "# Read the HTML content of the page\n",
    "page <- read_html(url)\n",
    "\n",
    "# Extract tables with class \"wikitable\"\n",
    "tables <- page %>%\n",
    "  html_nodes(\"table.wikitable\") %>%  # Select all tables with class 'wikitable'\n",
    "  html_table(fill = TRUE)  # Convert them to data frames and fill missing values\n",
    "\n",
    "# Select the 4th table\n",
    "fourth_table <- tables[[4]]\n",
    "\n",
    "# Print the 4th table\n",
    "print(fourth_table)"
   ]
  },
  {
   "cell_type": "code",
   "execution_count": 4,
   "id": "14896de5-3bcc-4621-a5fb-203d13899f99",
   "metadata": {},
   "outputs": [
    {
     "name": "stdout",
     "output_type": "stream",
     "text": [
      "\u001b[90m# A tibble: 24 × 11\u001b[39m\n",
      "     Pos Team                      Pld     W     D     L    GF    GA GD      Pts\n",
      "   \u001b[3m\u001b[90m<int>\u001b[39m\u001b[23m \u001b[3m\u001b[90m<chr>\u001b[39m\u001b[23m                   \u001b[3m\u001b[90m<int>\u001b[39m\u001b[23m \u001b[3m\u001b[90m<int>\u001b[39m\u001b[23m \u001b[3m\u001b[90m<int>\u001b[39m\u001b[23m \u001b[3m\u001b[90m<int>\u001b[39m\u001b[23m \u001b[3m\u001b[90m<int>\u001b[39m\u001b[23m \u001b[3m\u001b[90m<int>\u001b[39m\u001b[23m \u001b[3m\u001b[90m<chr>\u001b[39m\u001b[23m \u001b[3m\u001b[90m<int>\u001b[39m\u001b[23m\n",
      "\u001b[90m 1\u001b[39m     1 Ipswich Town (C, P)        46    24    12    10    70    50 +20      84\n",
      "\u001b[90m 2\u001b[39m     2 Middlesbrough (P)          46    23    11    12    58    41 +17      80\n",
      "\u001b[90m 3\u001b[39m     3 Derby County               46    23     9    14    69    51 +18      78\n",
      "\u001b[90m 4\u001b[39m     4 Leicester City             46    23     8    15    62    55 +7       77\n",
      "\u001b[90m 5\u001b[39m     5 Cambridge United           46    19    17    10    65    47 +18      74\n",
      "\u001b[90m 6\u001b[39m     6 Blackburn Rovers (O, P)    46    21    11    14    70    53 +17      74\n",
      "\u001b[90m 7\u001b[39m     7 Charlton Athletic          46    20    11    15    54    48 +6       71\n",
      "\u001b[90m 8\u001b[39m     8 Swindon Town               46    18    15    13    69    55 +14      69\n",
      "\u001b[90m 9\u001b[39m     9 Portsmouth                 46    19    12    15    65    51 +14      69\n",
      "\u001b[90m10\u001b[39m    10 Watford                    46    18    11    17    51    48 +3       65\n",
      "\u001b[90m# ℹ 14 more rows\u001b[39m\n",
      "\u001b[90m# ℹ 1 more variable: `Qualification or relegation` <chr>\u001b[39m\n"
     ]
    }
   ],
   "source": [
    "\n",
    "\n",
    "# Define the URL\n",
    "url <- \"https://en.wikipedia.org/wiki/1991%E2%80%9392_Football_League\"\n",
    "\n",
    "# Read the HTML content of the page\n",
    "page <- read_html(url)\n",
    "\n",
    "# Extract tables with class \"wikitable\"\n",
    "tables <- page %>%\n",
    "  html_nodes(\"table.wikitable\") %>%  # Select all tables with class 'wikitable'\n",
    "  html_table(fill = TRUE)  # Convert them to data frames and fill missing values\n",
    "\n",
    "# Select the 4th table\n",
    "fourth_table <- tables[[3]]\n",
    "\n",
    "# Print the 4th table\n",
    "print(fourth_table)"
   ]
  },
  {
   "cell_type": "markdown",
   "id": "a4627791-285a-4cf9-bea0-254766fd8a8b",
   "metadata": {},
   "source": [
    "# Byter från FA till utan\n",
    "\n",
    "https://en.wikipedia.org/wiki/1992%E2%80%9393_FA_Premier_League\n",
    "\n",
    "https://en.wikipedia.org/wiki/2006%E2%80%9307_FA_Premier_League\n",
    "\n",
    "\n",
    "\n",
    "https://en.wikipedia.org/wiki/2007%E2%80%9308_Premier_League\n",
    "\n",
    "https://en.wikipedia.org/wiki/2023%E2%80%9324_Premier_League\n",
    "\n",
    "\n",
    "https://en.wikipedia.org/wiki/1999%E2%80%932000_FA_Premier_League\n",
    "https://en.wikipedia.org/wiki/2000%E2%80%9301_FA_Premier_League\n",
    "\n",
    "\n",
    "https://en.wikipedia.org/wiki/2000-01_FA_Premier_League\n",
    "# Football league\n",
    "\n",
    "https://en.wikipedia.org/wiki/1950%E2%80%9351_Football_League\n",
    "https://en.wikipedia.org/wiki/1991%E2%80%9392_Football_League\n"
   ]
  },
  {
   "cell_type": "code",
   "execution_count": 5,
   "id": "946524a8-ed85-4191-91b5-69d0f830266d",
   "metadata": {},
   "outputs": [
    {
     "data": {
      "text/html": [
       "'https://en.wikipedia.org/wiki/08%E2%80%9309_FA_Premier_League'"
      ],
      "text/latex": [
       "'https://en.wikipedia.org/wiki/08\\%E2\\%80\\%9309\\_FA\\_Premier\\_League'"
      ],
      "text/markdown": [
       "'https://en.wikipedia.org/wiki/08%E2%80%9309_FA_Premier_League'"
      ],
      "text/plain": [
       "[1] \"https://en.wikipedia.org/wiki/08%E2%80%9309_FA_Premier_League\""
      ]
     },
     "metadata": {},
     "output_type": "display_data"
    },
    {
     "name": "stdout",
     "output_type": "stream",
     "text": [
      " [1] \"01\" \"02\" \"03\" \"04\" \"05\" \"06\" \"07\" \"08\" \"09\" \"10\" \"11\" \"12\" \"13\" \"14\" \"15\"\n",
      "[16] \"16\" \"17\" \"18\" \"19\" \"20\"\n"
     ]
    },
    {
     "data": {
      "text/html": [
       "<style>\n",
       ".list-inline {list-style: none; margin:0; padding: 0}\n",
       ".list-inline>li {display: inline-block}\n",
       ".list-inline>li:not(:last-child)::after {content: \"\\00b7\"; padding: 0 .5ex}\n",
       "</style>\n",
       "<ol class=list-inline><li>'1992'</li><li>'1993'</li><li>'1994'</li><li>'1995'</li><li>'1996'</li><li>'1997'</li><li>'1998'</li></ol>\n"
      ],
      "text/latex": [
       "\\begin{enumerate*}\n",
       "\\item '1992'\n",
       "\\item '1993'\n",
       "\\item '1994'\n",
       "\\item '1995'\n",
       "\\item '1996'\n",
       "\\item '1997'\n",
       "\\item '1998'\n",
       "\\end{enumerate*}\n"
      ],
      "text/markdown": [
       "1. '1992'\n",
       "2. '1993'\n",
       "3. '1994'\n",
       "4. '1995'\n",
       "5. '1996'\n",
       "6. '1997'\n",
       "7. '1998'\n",
       "\n",
       "\n"
      ],
      "text/plain": [
       "[1] \"1992\" \"1993\" \"1994\" \"1995\" \"1996\" \"1997\" \"1998\""
      ]
     },
     "metadata": {},
     "output_type": "display_data"
    },
    {
     "data": {
      "text/html": [
       "<style>\n",
       ".list-inline {list-style: none; margin:0; padding: 0}\n",
       ".list-inline>li {display: inline-block}\n",
       ".list-inline>li:not(:last-child)::after {content: \"\\00b7\"; padding: 0 .5ex}\n",
       "</style>\n",
       "<ol class=list-inline><li>'93'</li><li>'94'</li><li>'95'</li><li>'96'</li><li>'97'</li><li>'98'</li><li>'99'</li></ol>\n"
      ],
      "text/latex": [
       "\\begin{enumerate*}\n",
       "\\item '93'\n",
       "\\item '94'\n",
       "\\item '95'\n",
       "\\item '96'\n",
       "\\item '97'\n",
       "\\item '98'\n",
       "\\item '99'\n",
       "\\end{enumerate*}\n"
      ],
      "text/markdown": [
       "1. '93'\n",
       "2. '94'\n",
       "3. '95'\n",
       "4. '96'\n",
       "5. '97'\n",
       "6. '98'\n",
       "7. '99'\n",
       "\n",
       "\n"
      ],
      "text/plain": [
       "[1] \"93\" \"94\" \"95\" \"96\" \"97\" \"98\" \"99\""
      ]
     },
     "metadata": {},
     "output_type": "display_data"
    },
    {
     "data": {
      "text/html": [
       "'95'"
      ],
      "text/latex": [
       "'95'"
      ],
      "text/markdown": [
       "'95'"
      ],
      "text/plain": [
       "[1] \"95\""
      ]
     },
     "metadata": {},
     "output_type": "display_data"
    },
    {
     "data": {
      "text/html": [
       "'1994'"
      ],
      "text/latex": [
       "'1994'"
      ],
      "text/markdown": [
       "'1994'"
      ],
      "text/plain": [
       "[1] \"1994\""
      ]
     },
     "metadata": {},
     "output_type": "display_data"
    },
    {
     "data": {
      "text/html": [
       "'https://en.wikipedia.org/wiki/1994%E2%80%9395_FA_Premier_League'"
      ],
      "text/latex": [
       "'https://en.wikipedia.org/wiki/1994\\%E2\\%80\\%9395\\_FA\\_Premier\\_League'"
      ],
      "text/markdown": [
       "'https://en.wikipedia.org/wiki/1994%E2%80%9395_FA_Premier_League'"
      ],
      "text/plain": [
       "[1] \"https://en.wikipedia.org/wiki/1994%E2%80%9395_FA_Premier_League\""
      ]
     },
     "metadata": {},
     "output_type": "display_data"
    },
    {
     "data": {
      "text/html": [
       "'https://en.wikipedia.org/wiki/1994%E2%80%9395_FA_Premier_League'"
      ],
      "text/latex": [
       "'https://en.wikipedia.org/wiki/1994\\%E2\\%80\\%9395\\_FA\\_Premier\\_League'"
      ],
      "text/markdown": [
       "'https://en.wikipedia.org/wiki/1994%E2%80%9395_FA_Premier_League'"
      ],
      "text/plain": [
       "[1] \"https://en.wikipedia.org/wiki/1994%E2%80%9395_FA_Premier_League\""
      ]
     },
     "metadata": {},
     "output_type": "display_data"
    }
   ],
   "source": [
    "a <- \"https://en.wikipedia.org/wiki/\"\n",
    "\n",
    "b <- \"08\"\n",
    "\n",
    "c <- \"%E2%80%93\"\n",
    "\n",
    "d <- \"09\"\n",
    "\n",
    "e <- \"_FA_Premier_League\"\n",
    "\n",
    "paste0(a,b,c,d,e)\n",
    "\n",
    "\n",
    "numbers <- sprintf(\"%02d\", 1:20)\n",
    "print(numbers)\n",
    "\n",
    "years1 <- as.character(seq(1992, 1998))\n",
    "years2 <- as.character(seq(93, 99))\n",
    "years1\n",
    "years2\n",
    "\n",
    "years2[3]\n",
    "years1[3]\n",
    "paste0(a,years1[3],c,years2[3],e)\n",
    "\n",
    "\"https://en.wikipedia.org/wiki/1994%E2%80%9395_FA_Premier_League\""
   ]
  },
  {
   "cell_type": "code",
   "execution_count": 6,
   "id": "38be4e17-34ca-4c85-a663-4af3552868d6",
   "metadata": {},
   "outputs": [
    {
     "data": {
      "text/html": [
       "<style>\n",
       ".list-inline {list-style: none; margin:0; padding: 0}\n",
       ".list-inline>li {display: inline-block}\n",
       ".list-inline>li:not(:last-child)::after {content: \"\\00b7\"; padding: 0 .5ex}\n",
       "</style>\n",
       "<ol class=list-inline><li>'https://en.wikipedia.org/wiki/1992%E2%80%9393_FA_Premier_League'</li><li>'https://en.wikipedia.org/wiki/1993%E2%80%9394_FA_Premier_League'</li><li>'https://en.wikipedia.org/wiki/1994%E2%80%9395_FA_Premier_League'</li><li>'https://en.wikipedia.org/wiki/1995%E2%80%9396_FA_Premier_League'</li><li>'https://en.wikipedia.org/wiki/1996%E2%80%9397_FA_Premier_League'</li><li>'https://en.wikipedia.org/wiki/1997%E2%80%9398_FA_Premier_League'</li><li>'https://en.wikipedia.org/wiki/1998%E2%80%9399_FA_Premier_League'</li></ol>\n"
      ],
      "text/latex": [
       "\\begin{enumerate*}\n",
       "\\item 'https://en.wikipedia.org/wiki/1992\\%E2\\%80\\%9393\\_FA\\_Premier\\_League'\n",
       "\\item 'https://en.wikipedia.org/wiki/1993\\%E2\\%80\\%9394\\_FA\\_Premier\\_League'\n",
       "\\item 'https://en.wikipedia.org/wiki/1994\\%E2\\%80\\%9395\\_FA\\_Premier\\_League'\n",
       "\\item 'https://en.wikipedia.org/wiki/1995\\%E2\\%80\\%9396\\_FA\\_Premier\\_League'\n",
       "\\item 'https://en.wikipedia.org/wiki/1996\\%E2\\%80\\%9397\\_FA\\_Premier\\_League'\n",
       "\\item 'https://en.wikipedia.org/wiki/1997\\%E2\\%80\\%9398\\_FA\\_Premier\\_League'\n",
       "\\item 'https://en.wikipedia.org/wiki/1998\\%E2\\%80\\%9399\\_FA\\_Premier\\_League'\n",
       "\\end{enumerate*}\n"
      ],
      "text/markdown": [
       "1. 'https://en.wikipedia.org/wiki/1992%E2%80%9393_FA_Premier_League'\n",
       "2. 'https://en.wikipedia.org/wiki/1993%E2%80%9394_FA_Premier_League'\n",
       "3. 'https://en.wikipedia.org/wiki/1994%E2%80%9395_FA_Premier_League'\n",
       "4. 'https://en.wikipedia.org/wiki/1995%E2%80%9396_FA_Premier_League'\n",
       "5. 'https://en.wikipedia.org/wiki/1996%E2%80%9397_FA_Premier_League'\n",
       "6. 'https://en.wikipedia.org/wiki/1997%E2%80%9398_FA_Premier_League'\n",
       "7. 'https://en.wikipedia.org/wiki/1998%E2%80%9399_FA_Premier_League'\n",
       "\n",
       "\n"
      ],
      "text/plain": [
       "[1] \"https://en.wikipedia.org/wiki/1992%E2%80%9393_FA_Premier_League\"\n",
       "[2] \"https://en.wikipedia.org/wiki/1993%E2%80%9394_FA_Premier_League\"\n",
       "[3] \"https://en.wikipedia.org/wiki/1994%E2%80%9395_FA_Premier_League\"\n",
       "[4] \"https://en.wikipedia.org/wiki/1995%E2%80%9396_FA_Premier_League\"\n",
       "[5] \"https://en.wikipedia.org/wiki/1996%E2%80%9397_FA_Premier_League\"\n",
       "[6] \"https://en.wikipedia.org/wiki/1997%E2%80%9398_FA_Premier_League\"\n",
       "[7] \"https://en.wikipedia.org/wiki/1998%E2%80%9399_FA_Premier_League\""
      ]
     },
     "metadata": {},
     "output_type": "display_data"
    }
   ],
   "source": [
    "years <- c()\n",
    "for (i in 1:7){\n",
    "    next_url <- paste0(a,years1[i],c,years2[i],e)\n",
    "    years <- c(years,next_url)\n",
    "    }\n",
    "years"
   ]
  },
  {
   "cell_type": "code",
   "execution_count": 7,
   "id": "c2ddf6c2-e04a-4887-83d8-407a534c898a",
   "metadata": {},
   "outputs": [
    {
     "data": {
      "text/html": [
       "'https://en.wikipedia.org/wiki/1999%E2%80%932000_FA_Premier_League'"
      ],
      "text/latex": [
       "'https://en.wikipedia.org/wiki/1999\\%E2\\%80\\%932000\\_FA\\_Premier\\_League'"
      ],
      "text/markdown": [
       "'https://en.wikipedia.org/wiki/1999%E2%80%932000_FA_Premier_League'"
      ],
      "text/plain": [
       "[1] \"https://en.wikipedia.org/wiki/1999%E2%80%932000_FA_Premier_League\""
      ]
     },
     "metadata": {},
     "output_type": "display_data"
    }
   ],
   "source": [
    "'https://en.wikipedia.org/wiki/1999%E2%80%932000_FA_Premier_League'"
   ]
  },
  {
   "cell_type": "code",
   "execution_count": 8,
   "id": "9ac348b8-c9c2-47b9-b5cf-43e489ab6562",
   "metadata": {},
   "outputs": [
    {
     "data": {
      "text/html": [
       "<style>\n",
       ".list-inline {list-style: none; margin:0; padding: 0}\n",
       ".list-inline>li {display: inline-block}\n",
       ".list-inline>li:not(:last-child)::after {content: \"\\00b7\"; padding: 0 .5ex}\n",
       "</style>\n",
       "<ol class=list-inline><li>'https://en.wikipedia.org/wiki/2000%E2%80%9301_FA_Premier_League'</li><li>'https://en.wikipedia.org/wiki/2001%E2%80%9302_FA_Premier_League'</li><li>'https://en.wikipedia.org/wiki/2002%E2%80%9303_FA_Premier_League'</li><li>'https://en.wikipedia.org/wiki/2003%E2%80%9304_FA_Premier_League'</li><li>'https://en.wikipedia.org/wiki/2004%E2%80%9305_FA_Premier_League'</li><li>'https://en.wikipedia.org/wiki/2005%E2%80%9306_FA_Premier_League'</li><li>'https://en.wikipedia.org/wiki/2006%E2%80%9307_FA_Premier_League'</li></ol>\n"
      ],
      "text/latex": [
       "\\begin{enumerate*}\n",
       "\\item 'https://en.wikipedia.org/wiki/2000\\%E2\\%80\\%9301\\_FA\\_Premier\\_League'\n",
       "\\item 'https://en.wikipedia.org/wiki/2001\\%E2\\%80\\%9302\\_FA\\_Premier\\_League'\n",
       "\\item 'https://en.wikipedia.org/wiki/2002\\%E2\\%80\\%9303\\_FA\\_Premier\\_League'\n",
       "\\item 'https://en.wikipedia.org/wiki/2003\\%E2\\%80\\%9304\\_FA\\_Premier\\_League'\n",
       "\\item 'https://en.wikipedia.org/wiki/2004\\%E2\\%80\\%9305\\_FA\\_Premier\\_League'\n",
       "\\item 'https://en.wikipedia.org/wiki/2005\\%E2\\%80\\%9306\\_FA\\_Premier\\_League'\n",
       "\\item 'https://en.wikipedia.org/wiki/2006\\%E2\\%80\\%9307\\_FA\\_Premier\\_League'\n",
       "\\end{enumerate*}\n"
      ],
      "text/markdown": [
       "1. 'https://en.wikipedia.org/wiki/2000%E2%80%9301_FA_Premier_League'\n",
       "2. 'https://en.wikipedia.org/wiki/2001%E2%80%9302_FA_Premier_League'\n",
       "3. 'https://en.wikipedia.org/wiki/2002%E2%80%9303_FA_Premier_League'\n",
       "4. 'https://en.wikipedia.org/wiki/2003%E2%80%9304_FA_Premier_League'\n",
       "5. 'https://en.wikipedia.org/wiki/2004%E2%80%9305_FA_Premier_League'\n",
       "6. 'https://en.wikipedia.org/wiki/2005%E2%80%9306_FA_Premier_League'\n",
       "7. 'https://en.wikipedia.org/wiki/2006%E2%80%9307_FA_Premier_League'\n",
       "\n",
       "\n"
      ],
      "text/plain": [
       "[1] \"https://en.wikipedia.org/wiki/2000%E2%80%9301_FA_Premier_League\"\n",
       "[2] \"https://en.wikipedia.org/wiki/2001%E2%80%9302_FA_Premier_League\"\n",
       "[3] \"https://en.wikipedia.org/wiki/2002%E2%80%9303_FA_Premier_League\"\n",
       "[4] \"https://en.wikipedia.org/wiki/2003%E2%80%9304_FA_Premier_League\"\n",
       "[5] \"https://en.wikipedia.org/wiki/2004%E2%80%9305_FA_Premier_League\"\n",
       "[6] \"https://en.wikipedia.org/wiki/2005%E2%80%9306_FA_Premier_League\"\n",
       "[7] \"https://en.wikipedia.org/wiki/2006%E2%80%9307_FA_Premier_League\""
      ]
     },
     "metadata": {},
     "output_type": "display_data"
    }
   ],
   "source": [
    "years1h <- as.character(seq(2000, 2006))\n",
    "years2h <- sprintf(\"%02d\",1:7)\n",
    "numbers <- sprintf(\"%02d\", 1:20)\n",
    "yearsh <- c()\n",
    "for (i in 1:7){\n",
    "    next_url <- paste0(a,years1h[i],c,years2h[i],e)\n",
    "    yearsh <- c(yearsh,next_url)\n",
    "    }\n",
    "yearsh"
   ]
  },
  {
   "cell_type": "code",
   "execution_count": 9,
   "id": "4c21d803-e9a9-4aa4-b4dd-330965fb81a6",
   "metadata": {},
   "outputs": [
    {
     "data": {
      "text/html": [
       "<style>\n",
       ".list-inline {list-style: none; margin:0; padding: 0}\n",
       ".list-inline>li {display: inline-block}\n",
       ".list-inline>li:not(:last-child)::after {content: \"\\00b7\"; padding: 0 .5ex}\n",
       "</style>\n",
       "<ol class=list-inline><li>'https://en.wikipedia.org/wiki/2007%E2%80%9308_Premier_League'</li><li>'https://en.wikipedia.org/wiki/2008%E2%80%9309_Premier_League'</li><li>'https://en.wikipedia.org/wiki/2009%E2%80%9310_Premier_League'</li><li>'https://en.wikipedia.org/wiki/2010%E2%80%9311_Premier_League'</li><li>'https://en.wikipedia.org/wiki/2011%E2%80%9312_Premier_League'</li><li>'https://en.wikipedia.org/wiki/2012%E2%80%9313_Premier_League'</li><li>'https://en.wikipedia.org/wiki/2013%E2%80%9314_Premier_League'</li><li>'https://en.wikipedia.org/wiki/2014%E2%80%9315_Premier_League'</li><li>'https://en.wikipedia.org/wiki/2015%E2%80%9316_Premier_League'</li><li>'https://en.wikipedia.org/wiki/2016%E2%80%9317_Premier_League'</li><li>'https://en.wikipedia.org/wiki/2017%E2%80%9318_Premier_League'</li><li>'https://en.wikipedia.org/wiki/2018%E2%80%9319_Premier_League'</li><li>'https://en.wikipedia.org/wiki/2019%E2%80%9320_Premier_League'</li><li>'https://en.wikipedia.org/wiki/2020%E2%80%9321_Premier_League'</li><li>'https://en.wikipedia.org/wiki/2021%E2%80%9322_Premier_League'</li><li>'https://en.wikipedia.org/wiki/2022%E2%80%9323_Premier_League'</li><li>'https://en.wikipedia.org/wiki/2023%E2%80%9324_Premier_League'</li></ol>\n"
      ],
      "text/latex": [
       "\\begin{enumerate*}\n",
       "\\item 'https://en.wikipedia.org/wiki/2007\\%E2\\%80\\%9308\\_Premier\\_League'\n",
       "\\item 'https://en.wikipedia.org/wiki/2008\\%E2\\%80\\%9309\\_Premier\\_League'\n",
       "\\item 'https://en.wikipedia.org/wiki/2009\\%E2\\%80\\%9310\\_Premier\\_League'\n",
       "\\item 'https://en.wikipedia.org/wiki/2010\\%E2\\%80\\%9311\\_Premier\\_League'\n",
       "\\item 'https://en.wikipedia.org/wiki/2011\\%E2\\%80\\%9312\\_Premier\\_League'\n",
       "\\item 'https://en.wikipedia.org/wiki/2012\\%E2\\%80\\%9313\\_Premier\\_League'\n",
       "\\item 'https://en.wikipedia.org/wiki/2013\\%E2\\%80\\%9314\\_Premier\\_League'\n",
       "\\item 'https://en.wikipedia.org/wiki/2014\\%E2\\%80\\%9315\\_Premier\\_League'\n",
       "\\item 'https://en.wikipedia.org/wiki/2015\\%E2\\%80\\%9316\\_Premier\\_League'\n",
       "\\item 'https://en.wikipedia.org/wiki/2016\\%E2\\%80\\%9317\\_Premier\\_League'\n",
       "\\item 'https://en.wikipedia.org/wiki/2017\\%E2\\%80\\%9318\\_Premier\\_League'\n",
       "\\item 'https://en.wikipedia.org/wiki/2018\\%E2\\%80\\%9319\\_Premier\\_League'\n",
       "\\item 'https://en.wikipedia.org/wiki/2019\\%E2\\%80\\%9320\\_Premier\\_League'\n",
       "\\item 'https://en.wikipedia.org/wiki/2020\\%E2\\%80\\%9321\\_Premier\\_League'\n",
       "\\item 'https://en.wikipedia.org/wiki/2021\\%E2\\%80\\%9322\\_Premier\\_League'\n",
       "\\item 'https://en.wikipedia.org/wiki/2022\\%E2\\%80\\%9323\\_Premier\\_League'\n",
       "\\item 'https://en.wikipedia.org/wiki/2023\\%E2\\%80\\%9324\\_Premier\\_League'\n",
       "\\end{enumerate*}\n"
      ],
      "text/markdown": [
       "1. 'https://en.wikipedia.org/wiki/2007%E2%80%9308_Premier_League'\n",
       "2. 'https://en.wikipedia.org/wiki/2008%E2%80%9309_Premier_League'\n",
       "3. 'https://en.wikipedia.org/wiki/2009%E2%80%9310_Premier_League'\n",
       "4. 'https://en.wikipedia.org/wiki/2010%E2%80%9311_Premier_League'\n",
       "5. 'https://en.wikipedia.org/wiki/2011%E2%80%9312_Premier_League'\n",
       "6. 'https://en.wikipedia.org/wiki/2012%E2%80%9313_Premier_League'\n",
       "7. 'https://en.wikipedia.org/wiki/2013%E2%80%9314_Premier_League'\n",
       "8. 'https://en.wikipedia.org/wiki/2014%E2%80%9315_Premier_League'\n",
       "9. 'https://en.wikipedia.org/wiki/2015%E2%80%9316_Premier_League'\n",
       "10. 'https://en.wikipedia.org/wiki/2016%E2%80%9317_Premier_League'\n",
       "11. 'https://en.wikipedia.org/wiki/2017%E2%80%9318_Premier_League'\n",
       "12. 'https://en.wikipedia.org/wiki/2018%E2%80%9319_Premier_League'\n",
       "13. 'https://en.wikipedia.org/wiki/2019%E2%80%9320_Premier_League'\n",
       "14. 'https://en.wikipedia.org/wiki/2020%E2%80%9321_Premier_League'\n",
       "15. 'https://en.wikipedia.org/wiki/2021%E2%80%9322_Premier_League'\n",
       "16. 'https://en.wikipedia.org/wiki/2022%E2%80%9323_Premier_League'\n",
       "17. 'https://en.wikipedia.org/wiki/2023%E2%80%9324_Premier_League'\n",
       "\n",
       "\n"
      ],
      "text/plain": [
       " [1] \"https://en.wikipedia.org/wiki/2007%E2%80%9308_Premier_League\"\n",
       " [2] \"https://en.wikipedia.org/wiki/2008%E2%80%9309_Premier_League\"\n",
       " [3] \"https://en.wikipedia.org/wiki/2009%E2%80%9310_Premier_League\"\n",
       " [4] \"https://en.wikipedia.org/wiki/2010%E2%80%9311_Premier_League\"\n",
       " [5] \"https://en.wikipedia.org/wiki/2011%E2%80%9312_Premier_League\"\n",
       " [6] \"https://en.wikipedia.org/wiki/2012%E2%80%9313_Premier_League\"\n",
       " [7] \"https://en.wikipedia.org/wiki/2013%E2%80%9314_Premier_League\"\n",
       " [8] \"https://en.wikipedia.org/wiki/2014%E2%80%9315_Premier_League\"\n",
       " [9] \"https://en.wikipedia.org/wiki/2015%E2%80%9316_Premier_League\"\n",
       "[10] \"https://en.wikipedia.org/wiki/2016%E2%80%9317_Premier_League\"\n",
       "[11] \"https://en.wikipedia.org/wiki/2017%E2%80%9318_Premier_League\"\n",
       "[12] \"https://en.wikipedia.org/wiki/2018%E2%80%9319_Premier_League\"\n",
       "[13] \"https://en.wikipedia.org/wiki/2019%E2%80%9320_Premier_League\"\n",
       "[14] \"https://en.wikipedia.org/wiki/2020%E2%80%9321_Premier_League\"\n",
       "[15] \"https://en.wikipedia.org/wiki/2021%E2%80%9322_Premier_League\"\n",
       "[16] \"https://en.wikipedia.org/wiki/2022%E2%80%9323_Premier_League\"\n",
       "[17] \"https://en.wikipedia.org/wiki/2023%E2%80%9324_Premier_League\""
      ]
     },
     "metadata": {},
     "output_type": "display_data"
    }
   ],
   "source": [
    "years1c <- as.character(seq(2007, 2023))\n",
    "years2c <- sprintf(\"%02d\",8:24)\n",
    "yearsc <- c()\n",
    "f <- \"_Premier_League\"\n",
    "\n",
    "for (i in 1:17){\n",
    "    next_url <- paste0(a,years1c[i],c,years2c[i],f)\n",
    "    yearsc <- c(yearsc,next_url)\n",
    "    }\n",
    "yearsc"
   ]
  },
  {
   "cell_type": "code",
   "execution_count": 10,
   "id": "f1bdaa03-ffee-40f4-812b-67d19c446146",
   "metadata": {},
   "outputs": [
    {
     "data": {
      "text/html": [
       "<style>\n",
       ".list-inline {list-style: none; margin:0; padding: 0}\n",
       ".list-inline>li {display: inline-block}\n",
       ".list-inline>li:not(:last-child)::after {content: \"\\00b7\"; padding: 0 .5ex}\n",
       "</style>\n",
       "<ol class=list-inline><li>'https://en.wikipedia.org/wiki/1950%E2%80%9351_Football_League'</li><li>'https://en.wikipedia.org/wiki/1951%E2%80%9352_Football_League'</li><li>'https://en.wikipedia.org/wiki/1952%E2%80%9353_Football_League'</li><li>'https://en.wikipedia.org/wiki/1953%E2%80%9354_Football_League'</li><li>'https://en.wikipedia.org/wiki/1954%E2%80%9355_Football_League'</li><li>'https://en.wikipedia.org/wiki/1955%E2%80%9356_Football_League'</li><li>'https://en.wikipedia.org/wiki/1956%E2%80%9357_Football_League'</li><li>'https://en.wikipedia.org/wiki/1957%E2%80%9358_Football_League'</li><li>'https://en.wikipedia.org/wiki/1958%E2%80%9359_Football_League'</li><li>'https://en.wikipedia.org/wiki/1959%E2%80%9360_Football_League'</li><li>'https://en.wikipedia.org/wiki/1960%E2%80%9361_Football_League'</li><li>'https://en.wikipedia.org/wiki/1961%E2%80%9362_Football_League'</li><li>'https://en.wikipedia.org/wiki/1962%E2%80%9363_Football_League'</li><li>'https://en.wikipedia.org/wiki/1963%E2%80%9364_Football_League'</li><li>'https://en.wikipedia.org/wiki/1964%E2%80%9365_Football_League'</li><li>'https://en.wikipedia.org/wiki/1965%E2%80%9366_Football_League'</li><li>'https://en.wikipedia.org/wiki/1966%E2%80%9367_Football_League'</li><li>'https://en.wikipedia.org/wiki/1967%E2%80%9368_Football_League'</li><li>'https://en.wikipedia.org/wiki/1968%E2%80%9369_Football_League'</li><li>'https://en.wikipedia.org/wiki/1969%E2%80%9370_Football_League'</li><li>'https://en.wikipedia.org/wiki/1970%E2%80%9371_Football_League'</li><li>'https://en.wikipedia.org/wiki/1971%E2%80%9372_Football_League'</li><li>'https://en.wikipedia.org/wiki/1972%E2%80%9373_Football_League'</li><li>'https://en.wikipedia.org/wiki/1973%E2%80%9374_Football_League'</li><li>'https://en.wikipedia.org/wiki/1974%E2%80%9375_Football_League'</li><li>'https://en.wikipedia.org/wiki/1975%E2%80%9376_Football_League'</li><li>'https://en.wikipedia.org/wiki/1976%E2%80%9377_Football_League'</li><li>'https://en.wikipedia.org/wiki/1977%E2%80%9378_Football_League'</li><li>'https://en.wikipedia.org/wiki/1978%E2%80%9379_Football_League'</li><li>'https://en.wikipedia.org/wiki/1979%E2%80%9380_Football_League'</li><li>'https://en.wikipedia.org/wiki/1980%E2%80%9381_Football_League'</li><li>'https://en.wikipedia.org/wiki/1981%E2%80%9382_Football_League'</li><li>'https://en.wikipedia.org/wiki/1982%E2%80%9383_Football_League'</li><li>'https://en.wikipedia.org/wiki/1983%E2%80%9384_Football_League'</li><li>'https://en.wikipedia.org/wiki/1984%E2%80%9385_Football_League'</li><li>'https://en.wikipedia.org/wiki/1985%E2%80%9386_Football_League'</li><li>'https://en.wikipedia.org/wiki/1986%E2%80%9387_Football_League'</li><li>'https://en.wikipedia.org/wiki/1987%E2%80%9388_Football_League'</li><li>'https://en.wikipedia.org/wiki/1988%E2%80%9389_Football_League'</li><li>'https://en.wikipedia.org/wiki/1989%E2%80%9390_Football_League'</li><li>'https://en.wikipedia.org/wiki/1990%E2%80%9391_Football_League'</li><li>'https://en.wikipedia.org/wiki/1991%E2%80%9392_Football_League'</li></ol>\n"
      ],
      "text/latex": [
       "\\begin{enumerate*}\n",
       "\\item 'https://en.wikipedia.org/wiki/1950\\%E2\\%80\\%9351\\_Football\\_League'\n",
       "\\item 'https://en.wikipedia.org/wiki/1951\\%E2\\%80\\%9352\\_Football\\_League'\n",
       "\\item 'https://en.wikipedia.org/wiki/1952\\%E2\\%80\\%9353\\_Football\\_League'\n",
       "\\item 'https://en.wikipedia.org/wiki/1953\\%E2\\%80\\%9354\\_Football\\_League'\n",
       "\\item 'https://en.wikipedia.org/wiki/1954\\%E2\\%80\\%9355\\_Football\\_League'\n",
       "\\item 'https://en.wikipedia.org/wiki/1955\\%E2\\%80\\%9356\\_Football\\_League'\n",
       "\\item 'https://en.wikipedia.org/wiki/1956\\%E2\\%80\\%9357\\_Football\\_League'\n",
       "\\item 'https://en.wikipedia.org/wiki/1957\\%E2\\%80\\%9358\\_Football\\_League'\n",
       "\\item 'https://en.wikipedia.org/wiki/1958\\%E2\\%80\\%9359\\_Football\\_League'\n",
       "\\item 'https://en.wikipedia.org/wiki/1959\\%E2\\%80\\%9360\\_Football\\_League'\n",
       "\\item 'https://en.wikipedia.org/wiki/1960\\%E2\\%80\\%9361\\_Football\\_League'\n",
       "\\item 'https://en.wikipedia.org/wiki/1961\\%E2\\%80\\%9362\\_Football\\_League'\n",
       "\\item 'https://en.wikipedia.org/wiki/1962\\%E2\\%80\\%9363\\_Football\\_League'\n",
       "\\item 'https://en.wikipedia.org/wiki/1963\\%E2\\%80\\%9364\\_Football\\_League'\n",
       "\\item 'https://en.wikipedia.org/wiki/1964\\%E2\\%80\\%9365\\_Football\\_League'\n",
       "\\item 'https://en.wikipedia.org/wiki/1965\\%E2\\%80\\%9366\\_Football\\_League'\n",
       "\\item 'https://en.wikipedia.org/wiki/1966\\%E2\\%80\\%9367\\_Football\\_League'\n",
       "\\item 'https://en.wikipedia.org/wiki/1967\\%E2\\%80\\%9368\\_Football\\_League'\n",
       "\\item 'https://en.wikipedia.org/wiki/1968\\%E2\\%80\\%9369\\_Football\\_League'\n",
       "\\item 'https://en.wikipedia.org/wiki/1969\\%E2\\%80\\%9370\\_Football\\_League'\n",
       "\\item 'https://en.wikipedia.org/wiki/1970\\%E2\\%80\\%9371\\_Football\\_League'\n",
       "\\item 'https://en.wikipedia.org/wiki/1971\\%E2\\%80\\%9372\\_Football\\_League'\n",
       "\\item 'https://en.wikipedia.org/wiki/1972\\%E2\\%80\\%9373\\_Football\\_League'\n",
       "\\item 'https://en.wikipedia.org/wiki/1973\\%E2\\%80\\%9374\\_Football\\_League'\n",
       "\\item 'https://en.wikipedia.org/wiki/1974\\%E2\\%80\\%9375\\_Football\\_League'\n",
       "\\item 'https://en.wikipedia.org/wiki/1975\\%E2\\%80\\%9376\\_Football\\_League'\n",
       "\\item 'https://en.wikipedia.org/wiki/1976\\%E2\\%80\\%9377\\_Football\\_League'\n",
       "\\item 'https://en.wikipedia.org/wiki/1977\\%E2\\%80\\%9378\\_Football\\_League'\n",
       "\\item 'https://en.wikipedia.org/wiki/1978\\%E2\\%80\\%9379\\_Football\\_League'\n",
       "\\item 'https://en.wikipedia.org/wiki/1979\\%E2\\%80\\%9380\\_Football\\_League'\n",
       "\\item 'https://en.wikipedia.org/wiki/1980\\%E2\\%80\\%9381\\_Football\\_League'\n",
       "\\item 'https://en.wikipedia.org/wiki/1981\\%E2\\%80\\%9382\\_Football\\_League'\n",
       "\\item 'https://en.wikipedia.org/wiki/1982\\%E2\\%80\\%9383\\_Football\\_League'\n",
       "\\item 'https://en.wikipedia.org/wiki/1983\\%E2\\%80\\%9384\\_Football\\_League'\n",
       "\\item 'https://en.wikipedia.org/wiki/1984\\%E2\\%80\\%9385\\_Football\\_League'\n",
       "\\item 'https://en.wikipedia.org/wiki/1985\\%E2\\%80\\%9386\\_Football\\_League'\n",
       "\\item 'https://en.wikipedia.org/wiki/1986\\%E2\\%80\\%9387\\_Football\\_League'\n",
       "\\item 'https://en.wikipedia.org/wiki/1987\\%E2\\%80\\%9388\\_Football\\_League'\n",
       "\\item 'https://en.wikipedia.org/wiki/1988\\%E2\\%80\\%9389\\_Football\\_League'\n",
       "\\item 'https://en.wikipedia.org/wiki/1989\\%E2\\%80\\%9390\\_Football\\_League'\n",
       "\\item 'https://en.wikipedia.org/wiki/1990\\%E2\\%80\\%9391\\_Football\\_League'\n",
       "\\item 'https://en.wikipedia.org/wiki/1991\\%E2\\%80\\%9392\\_Football\\_League'\n",
       "\\end{enumerate*}\n"
      ],
      "text/markdown": [
       "1. 'https://en.wikipedia.org/wiki/1950%E2%80%9351_Football_League'\n",
       "2. 'https://en.wikipedia.org/wiki/1951%E2%80%9352_Football_League'\n",
       "3. 'https://en.wikipedia.org/wiki/1952%E2%80%9353_Football_League'\n",
       "4. 'https://en.wikipedia.org/wiki/1953%E2%80%9354_Football_League'\n",
       "5. 'https://en.wikipedia.org/wiki/1954%E2%80%9355_Football_League'\n",
       "6. 'https://en.wikipedia.org/wiki/1955%E2%80%9356_Football_League'\n",
       "7. 'https://en.wikipedia.org/wiki/1956%E2%80%9357_Football_League'\n",
       "8. 'https://en.wikipedia.org/wiki/1957%E2%80%9358_Football_League'\n",
       "9. 'https://en.wikipedia.org/wiki/1958%E2%80%9359_Football_League'\n",
       "10. 'https://en.wikipedia.org/wiki/1959%E2%80%9360_Football_League'\n",
       "11. 'https://en.wikipedia.org/wiki/1960%E2%80%9361_Football_League'\n",
       "12. 'https://en.wikipedia.org/wiki/1961%E2%80%9362_Football_League'\n",
       "13. 'https://en.wikipedia.org/wiki/1962%E2%80%9363_Football_League'\n",
       "14. 'https://en.wikipedia.org/wiki/1963%E2%80%9364_Football_League'\n",
       "15. 'https://en.wikipedia.org/wiki/1964%E2%80%9365_Football_League'\n",
       "16. 'https://en.wikipedia.org/wiki/1965%E2%80%9366_Football_League'\n",
       "17. 'https://en.wikipedia.org/wiki/1966%E2%80%9367_Football_League'\n",
       "18. 'https://en.wikipedia.org/wiki/1967%E2%80%9368_Football_League'\n",
       "19. 'https://en.wikipedia.org/wiki/1968%E2%80%9369_Football_League'\n",
       "20. 'https://en.wikipedia.org/wiki/1969%E2%80%9370_Football_League'\n",
       "21. 'https://en.wikipedia.org/wiki/1970%E2%80%9371_Football_League'\n",
       "22. 'https://en.wikipedia.org/wiki/1971%E2%80%9372_Football_League'\n",
       "23. 'https://en.wikipedia.org/wiki/1972%E2%80%9373_Football_League'\n",
       "24. 'https://en.wikipedia.org/wiki/1973%E2%80%9374_Football_League'\n",
       "25. 'https://en.wikipedia.org/wiki/1974%E2%80%9375_Football_League'\n",
       "26. 'https://en.wikipedia.org/wiki/1975%E2%80%9376_Football_League'\n",
       "27. 'https://en.wikipedia.org/wiki/1976%E2%80%9377_Football_League'\n",
       "28. 'https://en.wikipedia.org/wiki/1977%E2%80%9378_Football_League'\n",
       "29. 'https://en.wikipedia.org/wiki/1978%E2%80%9379_Football_League'\n",
       "30. 'https://en.wikipedia.org/wiki/1979%E2%80%9380_Football_League'\n",
       "31. 'https://en.wikipedia.org/wiki/1980%E2%80%9381_Football_League'\n",
       "32. 'https://en.wikipedia.org/wiki/1981%E2%80%9382_Football_League'\n",
       "33. 'https://en.wikipedia.org/wiki/1982%E2%80%9383_Football_League'\n",
       "34. 'https://en.wikipedia.org/wiki/1983%E2%80%9384_Football_League'\n",
       "35. 'https://en.wikipedia.org/wiki/1984%E2%80%9385_Football_League'\n",
       "36. 'https://en.wikipedia.org/wiki/1985%E2%80%9386_Football_League'\n",
       "37. 'https://en.wikipedia.org/wiki/1986%E2%80%9387_Football_League'\n",
       "38. 'https://en.wikipedia.org/wiki/1987%E2%80%9388_Football_League'\n",
       "39. 'https://en.wikipedia.org/wiki/1988%E2%80%9389_Football_League'\n",
       "40. 'https://en.wikipedia.org/wiki/1989%E2%80%9390_Football_League'\n",
       "41. 'https://en.wikipedia.org/wiki/1990%E2%80%9391_Football_League'\n",
       "42. 'https://en.wikipedia.org/wiki/1991%E2%80%9392_Football_League'\n",
       "\n",
       "\n"
      ],
      "text/plain": [
       " [1] \"https://en.wikipedia.org/wiki/1950%E2%80%9351_Football_League\"\n",
       " [2] \"https://en.wikipedia.org/wiki/1951%E2%80%9352_Football_League\"\n",
       " [3] \"https://en.wikipedia.org/wiki/1952%E2%80%9353_Football_League\"\n",
       " [4] \"https://en.wikipedia.org/wiki/1953%E2%80%9354_Football_League\"\n",
       " [5] \"https://en.wikipedia.org/wiki/1954%E2%80%9355_Football_League\"\n",
       " [6] \"https://en.wikipedia.org/wiki/1955%E2%80%9356_Football_League\"\n",
       " [7] \"https://en.wikipedia.org/wiki/1956%E2%80%9357_Football_League\"\n",
       " [8] \"https://en.wikipedia.org/wiki/1957%E2%80%9358_Football_League\"\n",
       " [9] \"https://en.wikipedia.org/wiki/1958%E2%80%9359_Football_League\"\n",
       "[10] \"https://en.wikipedia.org/wiki/1959%E2%80%9360_Football_League\"\n",
       "[11] \"https://en.wikipedia.org/wiki/1960%E2%80%9361_Football_League\"\n",
       "[12] \"https://en.wikipedia.org/wiki/1961%E2%80%9362_Football_League\"\n",
       "[13] \"https://en.wikipedia.org/wiki/1962%E2%80%9363_Football_League\"\n",
       "[14] \"https://en.wikipedia.org/wiki/1963%E2%80%9364_Football_League\"\n",
       "[15] \"https://en.wikipedia.org/wiki/1964%E2%80%9365_Football_League\"\n",
       "[16] \"https://en.wikipedia.org/wiki/1965%E2%80%9366_Football_League\"\n",
       "[17] \"https://en.wikipedia.org/wiki/1966%E2%80%9367_Football_League\"\n",
       "[18] \"https://en.wikipedia.org/wiki/1967%E2%80%9368_Football_League\"\n",
       "[19] \"https://en.wikipedia.org/wiki/1968%E2%80%9369_Football_League\"\n",
       "[20] \"https://en.wikipedia.org/wiki/1969%E2%80%9370_Football_League\"\n",
       "[21] \"https://en.wikipedia.org/wiki/1970%E2%80%9371_Football_League\"\n",
       "[22] \"https://en.wikipedia.org/wiki/1971%E2%80%9372_Football_League\"\n",
       "[23] \"https://en.wikipedia.org/wiki/1972%E2%80%9373_Football_League\"\n",
       "[24] \"https://en.wikipedia.org/wiki/1973%E2%80%9374_Football_League\"\n",
       "[25] \"https://en.wikipedia.org/wiki/1974%E2%80%9375_Football_League\"\n",
       "[26] \"https://en.wikipedia.org/wiki/1975%E2%80%9376_Football_League\"\n",
       "[27] \"https://en.wikipedia.org/wiki/1976%E2%80%9377_Football_League\"\n",
       "[28] \"https://en.wikipedia.org/wiki/1977%E2%80%9378_Football_League\"\n",
       "[29] \"https://en.wikipedia.org/wiki/1978%E2%80%9379_Football_League\"\n",
       "[30] \"https://en.wikipedia.org/wiki/1979%E2%80%9380_Football_League\"\n",
       "[31] \"https://en.wikipedia.org/wiki/1980%E2%80%9381_Football_League\"\n",
       "[32] \"https://en.wikipedia.org/wiki/1981%E2%80%9382_Football_League\"\n",
       "[33] \"https://en.wikipedia.org/wiki/1982%E2%80%9383_Football_League\"\n",
       "[34] \"https://en.wikipedia.org/wiki/1983%E2%80%9384_Football_League\"\n",
       "[35] \"https://en.wikipedia.org/wiki/1984%E2%80%9385_Football_League\"\n",
       "[36] \"https://en.wikipedia.org/wiki/1985%E2%80%9386_Football_League\"\n",
       "[37] \"https://en.wikipedia.org/wiki/1986%E2%80%9387_Football_League\"\n",
       "[38] \"https://en.wikipedia.org/wiki/1987%E2%80%9388_Football_League\"\n",
       "[39] \"https://en.wikipedia.org/wiki/1988%E2%80%9389_Football_League\"\n",
       "[40] \"https://en.wikipedia.org/wiki/1989%E2%80%9390_Football_League\"\n",
       "[41] \"https://en.wikipedia.org/wiki/1990%E2%80%9391_Football_League\"\n",
       "[42] \"https://en.wikipedia.org/wiki/1991%E2%80%9392_Football_League\""
      ]
     },
     "metadata": {},
     "output_type": "display_data"
    }
   ],
   "source": [
    "football_urls <- c()  \n",
    "years1d <- as.character(seq(1950,1999))\n",
    "years2d <- as.character(seq(51,92))\n",
    "g <- \"_Football_League\"\n",
    "\n",
    "for (i in 1:42){\n",
    "    next_url <- paste0(a,years1d[i],c,years2d[i],g)\n",
    "    football_urls <- c(football_urls, next_url)\n",
    "    }\n",
    "football_urls"
   ]
  },
  {
   "cell_type": "code",
   "execution_count": 11,
   "id": "612ef7e2-f8d0-4ddb-b844-21df5ca36b8c",
   "metadata": {},
   "outputs": [
    {
     "data": {
      "text/html": [
       "<style>\n",
       ".list-inline {list-style: none; margin:0; padding: 0}\n",
       ".list-inline>li {display: inline-block}\n",
       ".list-inline>li:not(:last-child)::after {content: \"\\00b7\"; padding: 0 .5ex}\n",
       "</style>\n",
       "<ol class=list-inline><li>'https://en.wikipedia.org/wiki/2000%E2%80%9301_FA_Premier_League'</li><li>'https://en.wikipedia.org/wiki/2001%E2%80%9302_FA_Premier_League'</li><li>'https://en.wikipedia.org/wiki/2002%E2%80%9303_FA_Premier_League'</li><li>'https://en.wikipedia.org/wiki/2003%E2%80%9304_FA_Premier_League'</li><li>'https://en.wikipedia.org/wiki/2004%E2%80%9305_FA_Premier_League'</li><li>'https://en.wikipedia.org/wiki/2005%E2%80%9306_FA_Premier_League'</li><li>'https://en.wikipedia.org/wiki/2006%E2%80%9307_FA_Premier_League'</li></ol>\n"
      ],
      "text/latex": [
       "\\begin{enumerate*}\n",
       "\\item 'https://en.wikipedia.org/wiki/2000\\%E2\\%80\\%9301\\_FA\\_Premier\\_League'\n",
       "\\item 'https://en.wikipedia.org/wiki/2001\\%E2\\%80\\%9302\\_FA\\_Premier\\_League'\n",
       "\\item 'https://en.wikipedia.org/wiki/2002\\%E2\\%80\\%9303\\_FA\\_Premier\\_League'\n",
       "\\item 'https://en.wikipedia.org/wiki/2003\\%E2\\%80\\%9304\\_FA\\_Premier\\_League'\n",
       "\\item 'https://en.wikipedia.org/wiki/2004\\%E2\\%80\\%9305\\_FA\\_Premier\\_League'\n",
       "\\item 'https://en.wikipedia.org/wiki/2005\\%E2\\%80\\%9306\\_FA\\_Premier\\_League'\n",
       "\\item 'https://en.wikipedia.org/wiki/2006\\%E2\\%80\\%9307\\_FA\\_Premier\\_League'\n",
       "\\end{enumerate*}\n"
      ],
      "text/markdown": [
       "1. 'https://en.wikipedia.org/wiki/2000%E2%80%9301_FA_Premier_League'\n",
       "2. 'https://en.wikipedia.org/wiki/2001%E2%80%9302_FA_Premier_League'\n",
       "3. 'https://en.wikipedia.org/wiki/2002%E2%80%9303_FA_Premier_League'\n",
       "4. 'https://en.wikipedia.org/wiki/2003%E2%80%9304_FA_Premier_League'\n",
       "5. 'https://en.wikipedia.org/wiki/2004%E2%80%9305_FA_Premier_League'\n",
       "6. 'https://en.wikipedia.org/wiki/2005%E2%80%9306_FA_Premier_League'\n",
       "7. 'https://en.wikipedia.org/wiki/2006%E2%80%9307_FA_Premier_League'\n",
       "\n",
       "\n"
      ],
      "text/plain": [
       "[1] \"https://en.wikipedia.org/wiki/2000%E2%80%9301_FA_Premier_League\"\n",
       "[2] \"https://en.wikipedia.org/wiki/2001%E2%80%9302_FA_Premier_League\"\n",
       "[3] \"https://en.wikipedia.org/wiki/2002%E2%80%9303_FA_Premier_League\"\n",
       "[4] \"https://en.wikipedia.org/wiki/2003%E2%80%9304_FA_Premier_League\"\n",
       "[5] \"https://en.wikipedia.org/wiki/2004%E2%80%9305_FA_Premier_League\"\n",
       "[6] \"https://en.wikipedia.org/wiki/2005%E2%80%9306_FA_Premier_League\"\n",
       "[7] \"https://en.wikipedia.org/wiki/2006%E2%80%9307_FA_Premier_League\""
      ]
     },
     "metadata": {},
     "output_type": "display_data"
    }
   ],
   "source": [
    "yearsh"
   ]
  },
  {
   "cell_type": "code",
   "execution_count": 12,
   "id": "1bdfa5db-220c-4d59-a018-a48348c7a980",
   "metadata": {},
   "outputs": [],
   "source": [
    "# Definiera en funktion som tar URLS som input och matar ut en table som är den full_joinade tablen av \n",
    "# alla individuella tables...\n",
    "\n",
    "\n",
    "\n",
    "\n",
    "table_collect <- function(url){\n",
    "    page <- read_html(url)\n",
    "\n",
    "    # Extract tables with class \"wikitable\"\n",
    "    tables <- page %>%\n",
    "      html_nodes(\"table.wikitable\") %>% \n",
    "      html_table(fill = TRUE)  \n",
    "    return(table[[4]])\n",
    "    }"
   ]
  },
  {
   "cell_type": "code",
   "execution_count": 16,
   "id": "e6ad8e05-b3f9-4e24-90dc-3956c0a1acc6",
   "metadata": {},
   "outputs": [
    {
     "ename": "ERROR",
     "evalue": "Error in table[[4]]: object of type 'closure' is not subsettable\n",
     "output_type": "error",
     "traceback": [
      "Error in table[[4]]: object of type 'closure' is not subsettable\nTraceback:\n"
     ]
    }
   ],
   "source": [
    "table_collect(\"https://en.wikipedia.org/wiki/2023%E2%80%9324_Premier_League\")"
   ]
  },
  {
   "cell_type": "code",
   "execution_count": 17,
   "id": "48b1a61b-59f3-4f69-816b-06dbab87e75c",
   "metadata": {},
   "outputs": [
    {
     "name": "stdout",
     "output_type": "stream",
     "text": [
      "\u001b[90m# A tibble: 20 × 11\u001b[39m\n",
      "     Pos Team                      Pld     W     D     L    GF    GA GD    Pts  \n",
      "   \u001b[3m\u001b[90m<int>\u001b[39m\u001b[23m \u001b[3m\u001b[90m<chr>\u001b[39m\u001b[23m                   \u001b[3m\u001b[90m<int>\u001b[39m\u001b[23m \u001b[3m\u001b[90m<int>\u001b[39m\u001b[23m \u001b[3m\u001b[90m<int>\u001b[39m\u001b[23m \u001b[3m\u001b[90m<int>\u001b[39m\u001b[23m \u001b[3m\u001b[90m<int>\u001b[39m\u001b[23m \u001b[3m\u001b[90m<int>\u001b[39m\u001b[23m \u001b[3m\u001b[90m<chr>\u001b[39m\u001b[23m \u001b[3m\u001b[90m<chr>\u001b[39m\u001b[23m\n",
      "\u001b[90m 1\u001b[39m     1 Manchester City (C)        38    28     7     3    96    34 +62   91   \n",
      "\u001b[90m 2\u001b[39m     2 Arsenal                    38    28     5     5    91    29 +62   89   \n",
      "\u001b[90m 3\u001b[39m     3 Liverpool                  38    24    10     4    86    41 +45   82   \n",
      "\u001b[90m 4\u001b[39m     4 Aston Villa                38    20     8    10    76    61 +15   68   \n",
      "\u001b[90m 5\u001b[39m     5 Tottenham Hotspur          38    20     6    12    74    61 +13   66   \n",
      "\u001b[90m 6\u001b[39m     6 Chelsea                    38    18     9    11    77    63 +14   63   \n",
      "\u001b[90m 7\u001b[39m     7 Newcastle United           38    18     6    14    85    62 +23   60   \n",
      "\u001b[90m 8\u001b[39m     8 Manchester United          38    18     6    14    57    58 −1    60   \n",
      "\u001b[90m 9\u001b[39m     9 West Ham United            38    14    10    14    60    74 −14   52   \n",
      "\u001b[90m10\u001b[39m    10 Crystal Palace             38    13    10    15    57    58 −1    49   \n",
      "\u001b[90m11\u001b[39m    11 Brighton & Hove Albion     38    12    12    14    55    62 −7    48   \n",
      "\u001b[90m12\u001b[39m    12 Bournemouth                38    13     9    16    54    67 −13   48   \n",
      "\u001b[90m13\u001b[39m    13 Fulham                     38    13     8    17    55    61 −6    47   \n",
      "\u001b[90m14\u001b[39m    14 Wolverhampton Wanderers    38    13     7    18    50    65 −15   46   \n",
      "\u001b[90m15\u001b[39m    15 Everton                    38    13     9    16    40    51 −11   40[c]\n",
      "\u001b[90m16\u001b[39m    16 Brentford                  38    10     9    19    56    65 −9    39   \n",
      "\u001b[90m17\u001b[39m    17 Nottingham Forest          38     9     9    20    49    67 −18   32[d]\n",
      "\u001b[90m18\u001b[39m    18 Luton Town (R)             38     6     8    24    52    85 −33   26   \n",
      "\u001b[90m19\u001b[39m    19 Burnley (R)                38     5     9    24    41    78 −37   24   \n",
      "\u001b[90m20\u001b[39m    20 Sheffield United (R)       38     3     7    28    35   104 −69   16   \n",
      "\u001b[90m# ℹ 1 more variable: `Qualification or relegation` <chr>\u001b[39m\n"
     ]
    }
   ],
   "source": [
    "\n",
    "\n",
    "# Define the URL\n",
    "url <- \"https://en.wikipedia.org/wiki/2023%E2%80%9324_Premier_League\"\n",
    "\n",
    "# Read the HTML content of the page\n",
    "page <- read_html(url)\n",
    "\n",
    "# Extract tables with class \"wikitable\"\n",
    "tables <- page %>%\n",
    "  html_nodes(\"table.wikitable\") %>%  # Select all tables with class 'wikitable'\n",
    "  html_table(fill = TRUE)  # Convert them to data frames and fill missing values\n",
    "\n",
    "# Select the 4th table\n",
    "fourth_table <- tables[[4]]\n",
    "\n",
    "# Print the 4th table\n",
    "print(fourth_table)"
   ]
  },
  {
   "cell_type": "code",
   "execution_count": 18,
   "id": "070103b0-7043-4747-aa40-9f04d295cf1c",
   "metadata": {},
   "outputs": [],
   "source": [
    "table_collect <- function(url){\n",
    "page <- read_html(url)\n",
    "# Extracting all tables and converting them to data frames\n",
    "tables <- page %>%\n",
    "  html_nodes(\"table.wikitable\") %>%  \n",
    "  html_table(fill = TRUE)  \n",
    "# Select the 4th table\n",
    "fourth_table <- tables[[4]]\n",
    "return(fourth_table)}"
   ]
  },
  {
   "cell_type": "code",
   "execution_count": 19,
   "id": "5243fb0b-b279-4bbf-b327-4ad3e2bebf40",
   "metadata": {},
   "outputs": [],
   "source": [
    "table23 <- table_collect(\"https://en.wikipedia.org/wiki/2022%E2%80%9323_Premier_League\")\n",
    "table24 <- table_collect(\"https://en.wikipedia.org/wiki/2023%E2%80%9324_Premier_League\")"
   ]
  },
  {
   "cell_type": "code",
   "execution_count": 20,
   "id": "14ae479b-fbaf-4afb-882a-0a87eba04f3a",
   "metadata": {},
   "outputs": [
    {
     "name": "stderr",
     "output_type": "stream",
     "text": [
      "Warning message in full_join(table23, table24, by = \"Pld\"):\n",
      "\"\u001b[1m\u001b[22mDetected an unexpected many-to-many relationship between `x` and `y`.\n",
      "\u001b[36mℹ\u001b[39m Row 1 of `x` matches multiple rows in `y`.\n",
      "\u001b[36mℹ\u001b[39m Row 1 of `y` matches multiple rows in `x`.\n",
      "\u001b[36mℹ\u001b[39m If a many-to-many relationship is expected, set `relationship = \"many-to-many\"` to silence this warning.\"\n"
     ]
    },
    {
     "data": {
      "text/html": [
       "<table class=\"dataframe\">\n",
       "<caption>A tibble: 400 × 21</caption>\n",
       "<thead>\n",
       "\t<tr><th scope=col>Pos.x</th><th scope=col>Team.x</th><th scope=col>Pld</th><th scope=col>W.x</th><th scope=col>D.x</th><th scope=col>L.x</th><th scope=col>GF.x</th><th scope=col>GA.x</th><th scope=col>GD.x</th><th scope=col>Pts.x</th><th scope=col>⋯</th><th scope=col>Pos.y</th><th scope=col>Team.y</th><th scope=col>W.y</th><th scope=col>D.y</th><th scope=col>L.y</th><th scope=col>GF.y</th><th scope=col>GA.y</th><th scope=col>GD.y</th><th scope=col>Pts.y</th><th scope=col>Qualification or relegation.y</th></tr>\n",
       "\t<tr><th scope=col>&lt;int&gt;</th><th scope=col>&lt;chr&gt;</th><th scope=col>&lt;int&gt;</th><th scope=col>&lt;int&gt;</th><th scope=col>&lt;int&gt;</th><th scope=col>&lt;int&gt;</th><th scope=col>&lt;int&gt;</th><th scope=col>&lt;int&gt;</th><th scope=col>&lt;chr&gt;</th><th scope=col>&lt;int&gt;</th><th scope=col>⋯</th><th scope=col>&lt;int&gt;</th><th scope=col>&lt;chr&gt;</th><th scope=col>&lt;int&gt;</th><th scope=col>&lt;int&gt;</th><th scope=col>&lt;int&gt;</th><th scope=col>&lt;int&gt;</th><th scope=col>&lt;int&gt;</th><th scope=col>&lt;chr&gt;</th><th scope=col>&lt;chr&gt;</th><th scope=col>&lt;chr&gt;</th></tr>\n",
       "</thead>\n",
       "<tbody>\n",
       "\t<tr><td>1</td><td>Manchester City (C)</td><td>38</td><td>28</td><td>5</td><td>5</td><td>94</td><td>33</td><td>+61</td><td>89</td><td>⋯</td><td> 1</td><td>Manchester City (C)    </td><td>28</td><td> 7</td><td> 3</td><td>96</td><td> 34</td><td>+62</td><td>91   </td><td>Qualification to Champions League league phase      </td></tr>\n",
       "\t<tr><td>1</td><td>Manchester City (C)</td><td>38</td><td>28</td><td>5</td><td>5</td><td>94</td><td>33</td><td>+61</td><td>89</td><td>⋯</td><td> 2</td><td>Arsenal                </td><td>28</td><td> 5</td><td> 5</td><td>91</td><td> 29</td><td>+62</td><td>89   </td><td>Qualification to Champions League league phase      </td></tr>\n",
       "\t<tr><td>1</td><td>Manchester City (C)</td><td>38</td><td>28</td><td>5</td><td>5</td><td>94</td><td>33</td><td>+61</td><td>89</td><td>⋯</td><td> 3</td><td>Liverpool              </td><td>24</td><td>10</td><td> 4</td><td>86</td><td> 41</td><td>+45</td><td>82   </td><td>Qualification to Champions League league phase      </td></tr>\n",
       "\t<tr><td>1</td><td>Manchester City (C)</td><td>38</td><td>28</td><td>5</td><td>5</td><td>94</td><td>33</td><td>+61</td><td>89</td><td>⋯</td><td> 4</td><td>Aston Villa            </td><td>20</td><td> 8</td><td>10</td><td>76</td><td> 61</td><td>+15</td><td>68   </td><td>Qualification to Champions League league phase      </td></tr>\n",
       "\t<tr><td>1</td><td>Manchester City (C)</td><td>38</td><td>28</td><td>5</td><td>5</td><td>94</td><td>33</td><td>+61</td><td>89</td><td>⋯</td><td> 5</td><td>Tottenham Hotspur      </td><td>20</td><td> 6</td><td>12</td><td>74</td><td> 61</td><td>+13</td><td>66   </td><td>Qualification to Europa League league phase         </td></tr>\n",
       "\t<tr><td>1</td><td>Manchester City (C)</td><td>38</td><td>28</td><td>5</td><td>5</td><td>94</td><td>33</td><td>+61</td><td>89</td><td>⋯</td><td> 6</td><td>Chelsea                </td><td>18</td><td> 9</td><td>11</td><td>77</td><td> 63</td><td>+14</td><td>63   </td><td>Qualification to Conference League play-off round[a]</td></tr>\n",
       "\t<tr><td>1</td><td>Manchester City (C)</td><td>38</td><td>28</td><td>5</td><td>5</td><td>94</td><td>33</td><td>+61</td><td>89</td><td>⋯</td><td> 7</td><td>Newcastle United       </td><td>18</td><td> 6</td><td>14</td><td>85</td><td> 62</td><td>+23</td><td>60   </td><td>                                                    </td></tr>\n",
       "\t<tr><td>1</td><td>Manchester City (C)</td><td>38</td><td>28</td><td>5</td><td>5</td><td>94</td><td>33</td><td>+61</td><td>89</td><td>⋯</td><td> 8</td><td>Manchester United      </td><td>18</td><td> 6</td><td>14</td><td>57</td><td> 58</td><td>−1 </td><td>60   </td><td>Qualification to Europa League league phase[b]      </td></tr>\n",
       "\t<tr><td>1</td><td>Manchester City (C)</td><td>38</td><td>28</td><td>5</td><td>5</td><td>94</td><td>33</td><td>+61</td><td>89</td><td>⋯</td><td> 9</td><td>West Ham United        </td><td>14</td><td>10</td><td>14</td><td>60</td><td> 74</td><td>−14</td><td>52   </td><td>                                                    </td></tr>\n",
       "\t<tr><td>1</td><td>Manchester City (C)</td><td>38</td><td>28</td><td>5</td><td>5</td><td>94</td><td>33</td><td>+61</td><td>89</td><td>⋯</td><td>10</td><td>Crystal Palace         </td><td>13</td><td>10</td><td>15</td><td>57</td><td> 58</td><td>−1 </td><td>49   </td><td>                                                    </td></tr>\n",
       "\t<tr><td>1</td><td>Manchester City (C)</td><td>38</td><td>28</td><td>5</td><td>5</td><td>94</td><td>33</td><td>+61</td><td>89</td><td>⋯</td><td>11</td><td>Brighton &amp; Hove Albion </td><td>12</td><td>12</td><td>14</td><td>55</td><td> 62</td><td>−7 </td><td><span style=white-space:pre-wrap>48   </span></td><td><span style=white-space:pre-wrap>                                                    </span></td></tr>\n",
       "\t<tr><td>1</td><td>Manchester City (C)</td><td>38</td><td>28</td><td>5</td><td>5</td><td>94</td><td>33</td><td>+61</td><td>89</td><td>⋯</td><td>12</td><td>Bournemouth            </td><td>13</td><td> 9</td><td>16</td><td>54</td><td> 67</td><td>−13</td><td>48   </td><td>                                                    </td></tr>\n",
       "\t<tr><td>1</td><td>Manchester City (C)</td><td>38</td><td>28</td><td>5</td><td>5</td><td>94</td><td>33</td><td>+61</td><td>89</td><td>⋯</td><td>13</td><td>Fulham                 </td><td>13</td><td> 8</td><td>17</td><td>55</td><td> 61</td><td>−6 </td><td>47   </td><td>                                                    </td></tr>\n",
       "\t<tr><td>1</td><td>Manchester City (C)</td><td>38</td><td>28</td><td>5</td><td>5</td><td>94</td><td>33</td><td>+61</td><td>89</td><td>⋯</td><td>14</td><td>Wolverhampton Wanderers</td><td>13</td><td> 7</td><td>18</td><td>50</td><td> 65</td><td>−15</td><td>46   </td><td>                                                    </td></tr>\n",
       "\t<tr><td>1</td><td>Manchester City (C)</td><td>38</td><td>28</td><td>5</td><td>5</td><td>94</td><td>33</td><td>+61</td><td>89</td><td>⋯</td><td>15</td><td>Everton                </td><td>13</td><td> 9</td><td>16</td><td>40</td><td> 51</td><td>−11</td><td>40[c]</td><td>                                                    </td></tr>\n",
       "\t<tr><td>1</td><td>Manchester City (C)</td><td>38</td><td>28</td><td>5</td><td>5</td><td>94</td><td>33</td><td>+61</td><td>89</td><td>⋯</td><td>16</td><td>Brentford              </td><td>10</td><td> 9</td><td>19</td><td>56</td><td> 65</td><td>−9 </td><td>39   </td><td>                                                    </td></tr>\n",
       "\t<tr><td>1</td><td>Manchester City (C)</td><td>38</td><td>28</td><td>5</td><td>5</td><td>94</td><td>33</td><td>+61</td><td>89</td><td>⋯</td><td>17</td><td>Nottingham Forest      </td><td> 9</td><td> 9</td><td>20</td><td>49</td><td> 67</td><td>−18</td><td>32[d]</td><td>                                                    </td></tr>\n",
       "\t<tr><td>1</td><td>Manchester City (C)</td><td>38</td><td>28</td><td>5</td><td>5</td><td>94</td><td>33</td><td>+61</td><td>89</td><td>⋯</td><td>18</td><td>Luton Town (R)         </td><td> 6</td><td> 8</td><td>24</td><td>52</td><td> 85</td><td>−33</td><td>26   </td><td>Relegation to EFL Championship                      </td></tr>\n",
       "\t<tr><td>1</td><td>Manchester City (C)</td><td>38</td><td>28</td><td>5</td><td>5</td><td>94</td><td>33</td><td>+61</td><td>89</td><td>⋯</td><td>19</td><td>Burnley (R)            </td><td> 5</td><td> 9</td><td>24</td><td>41</td><td> 78</td><td>−37</td><td>24   </td><td>Relegation to EFL Championship                      </td></tr>\n",
       "\t<tr><td>1</td><td>Manchester City (C)</td><td>38</td><td>28</td><td>5</td><td>5</td><td>94</td><td>33</td><td>+61</td><td>89</td><td>⋯</td><td>20</td><td>Sheffield United (R)   </td><td> 3</td><td> 7</td><td>28</td><td>35</td><td>104</td><td>−69</td><td>16   </td><td>Relegation to EFL Championship                      </td></tr>\n",
       "\t<tr><td>2</td><td>Arsenal            </td><td>38</td><td>26</td><td>6</td><td>6</td><td>88</td><td>43</td><td>+45</td><td>84</td><td>⋯</td><td> 1</td><td>Manchester City (C)    </td><td>28</td><td> 7</td><td> 3</td><td>96</td><td> 34</td><td>+62</td><td>91   </td><td>Qualification to Champions League league phase      </td></tr>\n",
       "\t<tr><td>2</td><td>Arsenal            </td><td>38</td><td>26</td><td>6</td><td>6</td><td>88</td><td>43</td><td>+45</td><td>84</td><td>⋯</td><td> 2</td><td>Arsenal                </td><td>28</td><td> 5</td><td> 5</td><td>91</td><td> 29</td><td>+62</td><td>89   </td><td>Qualification to Champions League league phase      </td></tr>\n",
       "\t<tr><td>2</td><td>Arsenal            </td><td>38</td><td>26</td><td>6</td><td>6</td><td>88</td><td>43</td><td>+45</td><td>84</td><td>⋯</td><td> 3</td><td>Liverpool              </td><td>24</td><td>10</td><td> 4</td><td>86</td><td> 41</td><td>+45</td><td>82   </td><td>Qualification to Champions League league phase      </td></tr>\n",
       "\t<tr><td>2</td><td>Arsenal            </td><td>38</td><td>26</td><td>6</td><td>6</td><td>88</td><td>43</td><td>+45</td><td>84</td><td>⋯</td><td> 4</td><td>Aston Villa            </td><td>20</td><td> 8</td><td>10</td><td>76</td><td> 61</td><td>+15</td><td>68   </td><td>Qualification to Champions League league phase      </td></tr>\n",
       "\t<tr><td>2</td><td>Arsenal            </td><td>38</td><td>26</td><td>6</td><td>6</td><td>88</td><td>43</td><td>+45</td><td>84</td><td>⋯</td><td> 5</td><td>Tottenham Hotspur      </td><td>20</td><td> 6</td><td>12</td><td>74</td><td> 61</td><td>+13</td><td>66   </td><td>Qualification to Europa League league phase         </td></tr>\n",
       "\t<tr><td>2</td><td>Arsenal            </td><td>38</td><td>26</td><td>6</td><td>6</td><td>88</td><td>43</td><td>+45</td><td>84</td><td>⋯</td><td> 6</td><td>Chelsea                </td><td>18</td><td> 9</td><td>11</td><td>77</td><td> 63</td><td>+14</td><td>63   </td><td>Qualification to Conference League play-off round[a]</td></tr>\n",
       "\t<tr><td>2</td><td>Arsenal            </td><td>38</td><td>26</td><td>6</td><td>6</td><td>88</td><td>43</td><td>+45</td><td>84</td><td>⋯</td><td> 7</td><td>Newcastle United       </td><td>18</td><td> 6</td><td>14</td><td>85</td><td> 62</td><td>+23</td><td>60   </td><td>                                                    </td></tr>\n",
       "\t<tr><td>2</td><td>Arsenal            </td><td>38</td><td>26</td><td>6</td><td>6</td><td>88</td><td>43</td><td>+45</td><td>84</td><td>⋯</td><td> 8</td><td>Manchester United      </td><td>18</td><td> 6</td><td>14</td><td>57</td><td> 58</td><td>−1 </td><td>60   </td><td>Qualification to Europa League league phase[b]      </td></tr>\n",
       "\t<tr><td>2</td><td>Arsenal            </td><td>38</td><td>26</td><td>6</td><td>6</td><td>88</td><td>43</td><td>+45</td><td>84</td><td>⋯</td><td> 9</td><td>West Ham United        </td><td>14</td><td>10</td><td>14</td><td>60</td><td> 74</td><td>−14</td><td>52   </td><td>                                                    </td></tr>\n",
       "\t<tr><td>2</td><td>Arsenal            </td><td>38</td><td>26</td><td>6</td><td>6</td><td>88</td><td>43</td><td>+45</td><td>84</td><td>⋯</td><td>10</td><td>Crystal Palace         </td><td>13</td><td>10</td><td>15</td><td>57</td><td> 58</td><td>−1 </td><td>49   </td><td>                                                    </td></tr>\n",
       "\t<tr><td>⋮</td><td>⋮</td><td>⋮</td><td>⋮</td><td>⋮</td><td>⋮</td><td>⋮</td><td>⋮</td><td>⋮</td><td>⋮</td><td>⋱</td><td>⋮</td><td>⋮</td><td>⋮</td><td>⋮</td><td>⋮</td><td>⋮</td><td>⋮</td><td>⋮</td><td>⋮</td><td>⋮</td></tr>\n",
       "\t<tr><td>19</td><td>Leeds United (R)</td><td>38</td><td>7</td><td>10</td><td>21</td><td>48</td><td>78</td><td>−30</td><td>31</td><td>⋯</td><td>11</td><td>Brighton &amp; Hove Albion </td><td>12</td><td>12</td><td>14</td><td>55</td><td> 62</td><td>−7 </td><td><span style=white-space:pre-wrap>48   </span></td><td><span style=white-space:pre-wrap>                                                    </span></td></tr>\n",
       "\t<tr><td>19</td><td>Leeds United (R)</td><td>38</td><td>7</td><td>10</td><td>21</td><td>48</td><td>78</td><td>−30</td><td>31</td><td>⋯</td><td>12</td><td>Bournemouth            </td><td>13</td><td> 9</td><td>16</td><td>54</td><td> 67</td><td>−13</td><td>48   </td><td>                                                    </td></tr>\n",
       "\t<tr><td>19</td><td>Leeds United (R)</td><td>38</td><td>7</td><td>10</td><td>21</td><td>48</td><td>78</td><td>−30</td><td>31</td><td>⋯</td><td>13</td><td>Fulham                 </td><td>13</td><td> 8</td><td>17</td><td>55</td><td> 61</td><td>−6 </td><td>47   </td><td>                                                    </td></tr>\n",
       "\t<tr><td>19</td><td>Leeds United (R)</td><td>38</td><td>7</td><td>10</td><td>21</td><td>48</td><td>78</td><td>−30</td><td>31</td><td>⋯</td><td>14</td><td>Wolverhampton Wanderers</td><td>13</td><td> 7</td><td>18</td><td>50</td><td> 65</td><td>−15</td><td>46   </td><td>                                                    </td></tr>\n",
       "\t<tr><td>19</td><td>Leeds United (R)</td><td>38</td><td>7</td><td>10</td><td>21</td><td>48</td><td>78</td><td>−30</td><td>31</td><td>⋯</td><td>15</td><td>Everton                </td><td>13</td><td> 9</td><td>16</td><td>40</td><td> 51</td><td>−11</td><td>40[c]</td><td>                                                    </td></tr>\n",
       "\t<tr><td>19</td><td>Leeds United (R)</td><td>38</td><td>7</td><td>10</td><td>21</td><td>48</td><td>78</td><td>−30</td><td>31</td><td>⋯</td><td>16</td><td>Brentford              </td><td>10</td><td> 9</td><td>19</td><td>56</td><td> 65</td><td>−9 </td><td>39   </td><td>                                                    </td></tr>\n",
       "\t<tr><td>19</td><td>Leeds United (R)</td><td>38</td><td>7</td><td>10</td><td>21</td><td>48</td><td>78</td><td>−30</td><td>31</td><td>⋯</td><td>17</td><td>Nottingham Forest      </td><td> 9</td><td> 9</td><td>20</td><td>49</td><td> 67</td><td>−18</td><td>32[d]</td><td>                                                    </td></tr>\n",
       "\t<tr><td>19</td><td>Leeds United (R)</td><td>38</td><td>7</td><td>10</td><td>21</td><td>48</td><td>78</td><td>−30</td><td>31</td><td>⋯</td><td>18</td><td>Luton Town (R)         </td><td> 6</td><td> 8</td><td>24</td><td>52</td><td> 85</td><td>−33</td><td>26   </td><td>Relegation to EFL Championship                      </td></tr>\n",
       "\t<tr><td>19</td><td>Leeds United (R)</td><td>38</td><td>7</td><td>10</td><td>21</td><td>48</td><td>78</td><td>−30</td><td>31</td><td>⋯</td><td>19</td><td>Burnley (R)            </td><td> 5</td><td> 9</td><td>24</td><td>41</td><td> 78</td><td>−37</td><td>24   </td><td>Relegation to EFL Championship                      </td></tr>\n",
       "\t<tr><td>19</td><td>Leeds United (R)</td><td>38</td><td>7</td><td>10</td><td>21</td><td>48</td><td>78</td><td>−30</td><td>31</td><td>⋯</td><td>20</td><td>Sheffield United (R)   </td><td> 3</td><td> 7</td><td>28</td><td>35</td><td>104</td><td>−69</td><td>16   </td><td>Relegation to EFL Championship                      </td></tr>\n",
       "\t<tr><td>20</td><td>Southampton (R) </td><td>38</td><td>6</td><td> 7</td><td>25</td><td>36</td><td>73</td><td>−37</td><td>25</td><td>⋯</td><td> 1</td><td>Manchester City (C)    </td><td>28</td><td> 7</td><td> 3</td><td>96</td><td> 34</td><td>+62</td><td>91   </td><td>Qualification to Champions League league phase      </td></tr>\n",
       "\t<tr><td>20</td><td>Southampton (R) </td><td>38</td><td>6</td><td> 7</td><td>25</td><td>36</td><td>73</td><td>−37</td><td>25</td><td>⋯</td><td> 2</td><td>Arsenal                </td><td>28</td><td> 5</td><td> 5</td><td>91</td><td> 29</td><td>+62</td><td>89   </td><td>Qualification to Champions League league phase      </td></tr>\n",
       "\t<tr><td>20</td><td>Southampton (R) </td><td>38</td><td>6</td><td> 7</td><td>25</td><td>36</td><td>73</td><td>−37</td><td>25</td><td>⋯</td><td> 3</td><td>Liverpool              </td><td>24</td><td>10</td><td> 4</td><td>86</td><td> 41</td><td>+45</td><td>82   </td><td>Qualification to Champions League league phase      </td></tr>\n",
       "\t<tr><td>20</td><td>Southampton (R) </td><td>38</td><td>6</td><td> 7</td><td>25</td><td>36</td><td>73</td><td>−37</td><td>25</td><td>⋯</td><td> 4</td><td>Aston Villa            </td><td>20</td><td> 8</td><td>10</td><td>76</td><td> 61</td><td>+15</td><td>68   </td><td>Qualification to Champions League league phase      </td></tr>\n",
       "\t<tr><td>20</td><td>Southampton (R) </td><td>38</td><td>6</td><td> 7</td><td>25</td><td>36</td><td>73</td><td>−37</td><td>25</td><td>⋯</td><td> 5</td><td>Tottenham Hotspur      </td><td>20</td><td> 6</td><td>12</td><td>74</td><td> 61</td><td>+13</td><td>66   </td><td>Qualification to Europa League league phase         </td></tr>\n",
       "\t<tr><td>20</td><td>Southampton (R) </td><td>38</td><td>6</td><td> 7</td><td>25</td><td>36</td><td>73</td><td>−37</td><td>25</td><td>⋯</td><td> 6</td><td>Chelsea                </td><td>18</td><td> 9</td><td>11</td><td>77</td><td> 63</td><td>+14</td><td>63   </td><td>Qualification to Conference League play-off round[a]</td></tr>\n",
       "\t<tr><td>20</td><td>Southampton (R) </td><td>38</td><td>6</td><td> 7</td><td>25</td><td>36</td><td>73</td><td>−37</td><td>25</td><td>⋯</td><td> 7</td><td>Newcastle United       </td><td>18</td><td> 6</td><td>14</td><td>85</td><td> 62</td><td>+23</td><td>60   </td><td>                                                    </td></tr>\n",
       "\t<tr><td>20</td><td>Southampton (R) </td><td>38</td><td>6</td><td> 7</td><td>25</td><td>36</td><td>73</td><td>−37</td><td>25</td><td>⋯</td><td> 8</td><td>Manchester United      </td><td>18</td><td> 6</td><td>14</td><td>57</td><td> 58</td><td>−1 </td><td>60   </td><td>Qualification to Europa League league phase[b]      </td></tr>\n",
       "\t<tr><td>20</td><td>Southampton (R) </td><td>38</td><td>6</td><td> 7</td><td>25</td><td>36</td><td>73</td><td>−37</td><td>25</td><td>⋯</td><td> 9</td><td>West Ham United        </td><td>14</td><td>10</td><td>14</td><td>60</td><td> 74</td><td>−14</td><td>52   </td><td>                                                    </td></tr>\n",
       "\t<tr><td>20</td><td>Southampton (R) </td><td>38</td><td>6</td><td> 7</td><td>25</td><td>36</td><td>73</td><td>−37</td><td>25</td><td>⋯</td><td>10</td><td>Crystal Palace         </td><td>13</td><td>10</td><td>15</td><td>57</td><td> 58</td><td>−1 </td><td>49   </td><td>                                                    </td></tr>\n",
       "\t<tr><td>20</td><td>Southampton (R) </td><td>38</td><td>6</td><td> 7</td><td>25</td><td>36</td><td>73</td><td>−37</td><td>25</td><td>⋯</td><td>11</td><td>Brighton &amp; Hove Albion </td><td>12</td><td>12</td><td>14</td><td>55</td><td> 62</td><td>−7 </td><td><span style=white-space:pre-wrap>48   </span></td><td><span style=white-space:pre-wrap>                                                    </span></td></tr>\n",
       "\t<tr><td>20</td><td>Southampton (R) </td><td>38</td><td>6</td><td> 7</td><td>25</td><td>36</td><td>73</td><td>−37</td><td>25</td><td>⋯</td><td>12</td><td>Bournemouth            </td><td>13</td><td> 9</td><td>16</td><td>54</td><td> 67</td><td>−13</td><td>48   </td><td>                                                    </td></tr>\n",
       "\t<tr><td>20</td><td>Southampton (R) </td><td>38</td><td>6</td><td> 7</td><td>25</td><td>36</td><td>73</td><td>−37</td><td>25</td><td>⋯</td><td>13</td><td>Fulham                 </td><td>13</td><td> 8</td><td>17</td><td>55</td><td> 61</td><td>−6 </td><td>47   </td><td>                                                    </td></tr>\n",
       "\t<tr><td>20</td><td>Southampton (R) </td><td>38</td><td>6</td><td> 7</td><td>25</td><td>36</td><td>73</td><td>−37</td><td>25</td><td>⋯</td><td>14</td><td>Wolverhampton Wanderers</td><td>13</td><td> 7</td><td>18</td><td>50</td><td> 65</td><td>−15</td><td>46   </td><td>                                                    </td></tr>\n",
       "\t<tr><td>20</td><td>Southampton (R) </td><td>38</td><td>6</td><td> 7</td><td>25</td><td>36</td><td>73</td><td>−37</td><td>25</td><td>⋯</td><td>15</td><td>Everton                </td><td>13</td><td> 9</td><td>16</td><td>40</td><td> 51</td><td>−11</td><td>40[c]</td><td>                                                    </td></tr>\n",
       "\t<tr><td>20</td><td>Southampton (R) </td><td>38</td><td>6</td><td> 7</td><td>25</td><td>36</td><td>73</td><td>−37</td><td>25</td><td>⋯</td><td>16</td><td>Brentford              </td><td>10</td><td> 9</td><td>19</td><td>56</td><td> 65</td><td>−9 </td><td>39   </td><td>                                                    </td></tr>\n",
       "\t<tr><td>20</td><td>Southampton (R) </td><td>38</td><td>6</td><td> 7</td><td>25</td><td>36</td><td>73</td><td>−37</td><td>25</td><td>⋯</td><td>17</td><td>Nottingham Forest      </td><td> 9</td><td> 9</td><td>20</td><td>49</td><td> 67</td><td>−18</td><td>32[d]</td><td>                                                    </td></tr>\n",
       "\t<tr><td>20</td><td>Southampton (R) </td><td>38</td><td>6</td><td> 7</td><td>25</td><td>36</td><td>73</td><td>−37</td><td>25</td><td>⋯</td><td>18</td><td>Luton Town (R)         </td><td> 6</td><td> 8</td><td>24</td><td>52</td><td> 85</td><td>−33</td><td>26   </td><td>Relegation to EFL Championship                      </td></tr>\n",
       "\t<tr><td>20</td><td>Southampton (R) </td><td>38</td><td>6</td><td> 7</td><td>25</td><td>36</td><td>73</td><td>−37</td><td>25</td><td>⋯</td><td>19</td><td>Burnley (R)            </td><td> 5</td><td> 9</td><td>24</td><td>41</td><td> 78</td><td>−37</td><td>24   </td><td>Relegation to EFL Championship                      </td></tr>\n",
       "\t<tr><td>20</td><td>Southampton (R) </td><td>38</td><td>6</td><td> 7</td><td>25</td><td>36</td><td>73</td><td>−37</td><td>25</td><td>⋯</td><td>20</td><td>Sheffield United (R)   </td><td> 3</td><td> 7</td><td>28</td><td>35</td><td>104</td><td>−69</td><td>16   </td><td>Relegation to EFL Championship                      </td></tr>\n",
       "</tbody>\n",
       "</table>\n"
      ],
      "text/latex": [
       "A tibble: 400 × 21\n",
       "\\begin{tabular}{lllllllllllllllllllll}\n",
       " Pos.x & Team.x & Pld & W.x & D.x & L.x & GF.x & GA.x & GD.x & Pts.x & ⋯ & Pos.y & Team.y & W.y & D.y & L.y & GF.y & GA.y & GD.y & Pts.y & Qualification or relegation.y\\\\\n",
       " <int> & <chr> & <int> & <int> & <int> & <int> & <int> & <int> & <chr> & <int> & ⋯ & <int> & <chr> & <int> & <int> & <int> & <int> & <int> & <chr> & <chr> & <chr>\\\\\n",
       "\\hline\n",
       "\t 1 & Manchester City (C) & 38 & 28 & 5 & 5 & 94 & 33 & +61 & 89 & ⋯ &  1 & Manchester City (C)     & 28 &  7 &  3 & 96 &  34 & +62 & 91    & Qualification to Champions League league phase      \\\\\n",
       "\t 1 & Manchester City (C) & 38 & 28 & 5 & 5 & 94 & 33 & +61 & 89 & ⋯ &  2 & Arsenal                 & 28 &  5 &  5 & 91 &  29 & +62 & 89    & Qualification to Champions League league phase      \\\\\n",
       "\t 1 & Manchester City (C) & 38 & 28 & 5 & 5 & 94 & 33 & +61 & 89 & ⋯ &  3 & Liverpool               & 24 & 10 &  4 & 86 &  41 & +45 & 82    & Qualification to Champions League league phase      \\\\\n",
       "\t 1 & Manchester City (C) & 38 & 28 & 5 & 5 & 94 & 33 & +61 & 89 & ⋯ &  4 & Aston Villa             & 20 &  8 & 10 & 76 &  61 & +15 & 68    & Qualification to Champions League league phase      \\\\\n",
       "\t 1 & Manchester City (C) & 38 & 28 & 5 & 5 & 94 & 33 & +61 & 89 & ⋯ &  5 & Tottenham Hotspur       & 20 &  6 & 12 & 74 &  61 & +13 & 66    & Qualification to Europa League league phase         \\\\\n",
       "\t 1 & Manchester City (C) & 38 & 28 & 5 & 5 & 94 & 33 & +61 & 89 & ⋯ &  6 & Chelsea                 & 18 &  9 & 11 & 77 &  63 & +14 & 63    & Qualification to Conference League play-off round{[}a{]}\\\\\n",
       "\t 1 & Manchester City (C) & 38 & 28 & 5 & 5 & 94 & 33 & +61 & 89 & ⋯ &  7 & Newcastle United        & 18 &  6 & 14 & 85 &  62 & +23 & 60    &                                                     \\\\\n",
       "\t 1 & Manchester City (C) & 38 & 28 & 5 & 5 & 94 & 33 & +61 & 89 & ⋯ &  8 & Manchester United       & 18 &  6 & 14 & 57 &  58 & −1  & 60    & Qualification to Europa League league phase{[}b{]}      \\\\\n",
       "\t 1 & Manchester City (C) & 38 & 28 & 5 & 5 & 94 & 33 & +61 & 89 & ⋯ &  9 & West Ham United         & 14 & 10 & 14 & 60 &  74 & −14 & 52    &                                                     \\\\\n",
       "\t 1 & Manchester City (C) & 38 & 28 & 5 & 5 & 94 & 33 & +61 & 89 & ⋯ & 10 & Crystal Palace          & 13 & 10 & 15 & 57 &  58 & −1  & 49    &                                                     \\\\\n",
       "\t 1 & Manchester City (C) & 38 & 28 & 5 & 5 & 94 & 33 & +61 & 89 & ⋯ & 11 & Brighton \\& Hove Albion  & 12 & 12 & 14 & 55 &  62 & −7  & 48    &                                                     \\\\\n",
       "\t 1 & Manchester City (C) & 38 & 28 & 5 & 5 & 94 & 33 & +61 & 89 & ⋯ & 12 & Bournemouth             & 13 &  9 & 16 & 54 &  67 & −13 & 48    &                                                     \\\\\n",
       "\t 1 & Manchester City (C) & 38 & 28 & 5 & 5 & 94 & 33 & +61 & 89 & ⋯ & 13 & Fulham                  & 13 &  8 & 17 & 55 &  61 & −6  & 47    &                                                     \\\\\n",
       "\t 1 & Manchester City (C) & 38 & 28 & 5 & 5 & 94 & 33 & +61 & 89 & ⋯ & 14 & Wolverhampton Wanderers & 13 &  7 & 18 & 50 &  65 & −15 & 46    &                                                     \\\\\n",
       "\t 1 & Manchester City (C) & 38 & 28 & 5 & 5 & 94 & 33 & +61 & 89 & ⋯ & 15 & Everton                 & 13 &  9 & 16 & 40 &  51 & −11 & 40{[}c{]} &                                                     \\\\\n",
       "\t 1 & Manchester City (C) & 38 & 28 & 5 & 5 & 94 & 33 & +61 & 89 & ⋯ & 16 & Brentford               & 10 &  9 & 19 & 56 &  65 & −9  & 39    &                                                     \\\\\n",
       "\t 1 & Manchester City (C) & 38 & 28 & 5 & 5 & 94 & 33 & +61 & 89 & ⋯ & 17 & Nottingham Forest       &  9 &  9 & 20 & 49 &  67 & −18 & 32{[}d{]} &                                                     \\\\\n",
       "\t 1 & Manchester City (C) & 38 & 28 & 5 & 5 & 94 & 33 & +61 & 89 & ⋯ & 18 & Luton Town (R)          &  6 &  8 & 24 & 52 &  85 & −33 & 26    & Relegation to EFL Championship                      \\\\\n",
       "\t 1 & Manchester City (C) & 38 & 28 & 5 & 5 & 94 & 33 & +61 & 89 & ⋯ & 19 & Burnley (R)             &  5 &  9 & 24 & 41 &  78 & −37 & 24    & Relegation to EFL Championship                      \\\\\n",
       "\t 1 & Manchester City (C) & 38 & 28 & 5 & 5 & 94 & 33 & +61 & 89 & ⋯ & 20 & Sheffield United (R)    &  3 &  7 & 28 & 35 & 104 & −69 & 16    & Relegation to EFL Championship                      \\\\\n",
       "\t 2 & Arsenal             & 38 & 26 & 6 & 6 & 88 & 43 & +45 & 84 & ⋯ &  1 & Manchester City (C)     & 28 &  7 &  3 & 96 &  34 & +62 & 91    & Qualification to Champions League league phase      \\\\\n",
       "\t 2 & Arsenal             & 38 & 26 & 6 & 6 & 88 & 43 & +45 & 84 & ⋯ &  2 & Arsenal                 & 28 &  5 &  5 & 91 &  29 & +62 & 89    & Qualification to Champions League league phase      \\\\\n",
       "\t 2 & Arsenal             & 38 & 26 & 6 & 6 & 88 & 43 & +45 & 84 & ⋯ &  3 & Liverpool               & 24 & 10 &  4 & 86 &  41 & +45 & 82    & Qualification to Champions League league phase      \\\\\n",
       "\t 2 & Arsenal             & 38 & 26 & 6 & 6 & 88 & 43 & +45 & 84 & ⋯ &  4 & Aston Villa             & 20 &  8 & 10 & 76 &  61 & +15 & 68    & Qualification to Champions League league phase      \\\\\n",
       "\t 2 & Arsenal             & 38 & 26 & 6 & 6 & 88 & 43 & +45 & 84 & ⋯ &  5 & Tottenham Hotspur       & 20 &  6 & 12 & 74 &  61 & +13 & 66    & Qualification to Europa League league phase         \\\\\n",
       "\t 2 & Arsenal             & 38 & 26 & 6 & 6 & 88 & 43 & +45 & 84 & ⋯ &  6 & Chelsea                 & 18 &  9 & 11 & 77 &  63 & +14 & 63    & Qualification to Conference League play-off round{[}a{]}\\\\\n",
       "\t 2 & Arsenal             & 38 & 26 & 6 & 6 & 88 & 43 & +45 & 84 & ⋯ &  7 & Newcastle United        & 18 &  6 & 14 & 85 &  62 & +23 & 60    &                                                     \\\\\n",
       "\t 2 & Arsenal             & 38 & 26 & 6 & 6 & 88 & 43 & +45 & 84 & ⋯ &  8 & Manchester United       & 18 &  6 & 14 & 57 &  58 & −1  & 60    & Qualification to Europa League league phase{[}b{]}      \\\\\n",
       "\t 2 & Arsenal             & 38 & 26 & 6 & 6 & 88 & 43 & +45 & 84 & ⋯ &  9 & West Ham United         & 14 & 10 & 14 & 60 &  74 & −14 & 52    &                                                     \\\\\n",
       "\t 2 & Arsenal             & 38 & 26 & 6 & 6 & 88 & 43 & +45 & 84 & ⋯ & 10 & Crystal Palace          & 13 & 10 & 15 & 57 &  58 & −1  & 49    &                                                     \\\\\n",
       "\t ⋮ & ⋮ & ⋮ & ⋮ & ⋮ & ⋮ & ⋮ & ⋮ & ⋮ & ⋮ & ⋱ & ⋮ & ⋮ & ⋮ & ⋮ & ⋮ & ⋮ & ⋮ & ⋮ & ⋮ & ⋮\\\\\n",
       "\t 19 & Leeds United (R) & 38 & 7 & 10 & 21 & 48 & 78 & −30 & 31 & ⋯ & 11 & Brighton \\& Hove Albion  & 12 & 12 & 14 & 55 &  62 & −7  & 48    &                                                     \\\\\n",
       "\t 19 & Leeds United (R) & 38 & 7 & 10 & 21 & 48 & 78 & −30 & 31 & ⋯ & 12 & Bournemouth             & 13 &  9 & 16 & 54 &  67 & −13 & 48    &                                                     \\\\\n",
       "\t 19 & Leeds United (R) & 38 & 7 & 10 & 21 & 48 & 78 & −30 & 31 & ⋯ & 13 & Fulham                  & 13 &  8 & 17 & 55 &  61 & −6  & 47    &                                                     \\\\\n",
       "\t 19 & Leeds United (R) & 38 & 7 & 10 & 21 & 48 & 78 & −30 & 31 & ⋯ & 14 & Wolverhampton Wanderers & 13 &  7 & 18 & 50 &  65 & −15 & 46    &                                                     \\\\\n",
       "\t 19 & Leeds United (R) & 38 & 7 & 10 & 21 & 48 & 78 & −30 & 31 & ⋯ & 15 & Everton                 & 13 &  9 & 16 & 40 &  51 & −11 & 40{[}c{]} &                                                     \\\\\n",
       "\t 19 & Leeds United (R) & 38 & 7 & 10 & 21 & 48 & 78 & −30 & 31 & ⋯ & 16 & Brentford               & 10 &  9 & 19 & 56 &  65 & −9  & 39    &                                                     \\\\\n",
       "\t 19 & Leeds United (R) & 38 & 7 & 10 & 21 & 48 & 78 & −30 & 31 & ⋯ & 17 & Nottingham Forest       &  9 &  9 & 20 & 49 &  67 & −18 & 32{[}d{]} &                                                     \\\\\n",
       "\t 19 & Leeds United (R) & 38 & 7 & 10 & 21 & 48 & 78 & −30 & 31 & ⋯ & 18 & Luton Town (R)          &  6 &  8 & 24 & 52 &  85 & −33 & 26    & Relegation to EFL Championship                      \\\\\n",
       "\t 19 & Leeds United (R) & 38 & 7 & 10 & 21 & 48 & 78 & −30 & 31 & ⋯ & 19 & Burnley (R)             &  5 &  9 & 24 & 41 &  78 & −37 & 24    & Relegation to EFL Championship                      \\\\\n",
       "\t 19 & Leeds United (R) & 38 & 7 & 10 & 21 & 48 & 78 & −30 & 31 & ⋯ & 20 & Sheffield United (R)    &  3 &  7 & 28 & 35 & 104 & −69 & 16    & Relegation to EFL Championship                      \\\\\n",
       "\t 20 & Southampton (R)  & 38 & 6 &  7 & 25 & 36 & 73 & −37 & 25 & ⋯ &  1 & Manchester City (C)     & 28 &  7 &  3 & 96 &  34 & +62 & 91    & Qualification to Champions League league phase      \\\\\n",
       "\t 20 & Southampton (R)  & 38 & 6 &  7 & 25 & 36 & 73 & −37 & 25 & ⋯ &  2 & Arsenal                 & 28 &  5 &  5 & 91 &  29 & +62 & 89    & Qualification to Champions League league phase      \\\\\n",
       "\t 20 & Southampton (R)  & 38 & 6 &  7 & 25 & 36 & 73 & −37 & 25 & ⋯ &  3 & Liverpool               & 24 & 10 &  4 & 86 &  41 & +45 & 82    & Qualification to Champions League league phase      \\\\\n",
       "\t 20 & Southampton (R)  & 38 & 6 &  7 & 25 & 36 & 73 & −37 & 25 & ⋯ &  4 & Aston Villa             & 20 &  8 & 10 & 76 &  61 & +15 & 68    & Qualification to Champions League league phase      \\\\\n",
       "\t 20 & Southampton (R)  & 38 & 6 &  7 & 25 & 36 & 73 & −37 & 25 & ⋯ &  5 & Tottenham Hotspur       & 20 &  6 & 12 & 74 &  61 & +13 & 66    & Qualification to Europa League league phase         \\\\\n",
       "\t 20 & Southampton (R)  & 38 & 6 &  7 & 25 & 36 & 73 & −37 & 25 & ⋯ &  6 & Chelsea                 & 18 &  9 & 11 & 77 &  63 & +14 & 63    & Qualification to Conference League play-off round{[}a{]}\\\\\n",
       "\t 20 & Southampton (R)  & 38 & 6 &  7 & 25 & 36 & 73 & −37 & 25 & ⋯ &  7 & Newcastle United        & 18 &  6 & 14 & 85 &  62 & +23 & 60    &                                                     \\\\\n",
       "\t 20 & Southampton (R)  & 38 & 6 &  7 & 25 & 36 & 73 & −37 & 25 & ⋯ &  8 & Manchester United       & 18 &  6 & 14 & 57 &  58 & −1  & 60    & Qualification to Europa League league phase{[}b{]}      \\\\\n",
       "\t 20 & Southampton (R)  & 38 & 6 &  7 & 25 & 36 & 73 & −37 & 25 & ⋯ &  9 & West Ham United         & 14 & 10 & 14 & 60 &  74 & −14 & 52    &                                                     \\\\\n",
       "\t 20 & Southampton (R)  & 38 & 6 &  7 & 25 & 36 & 73 & −37 & 25 & ⋯ & 10 & Crystal Palace          & 13 & 10 & 15 & 57 &  58 & −1  & 49    &                                                     \\\\\n",
       "\t 20 & Southampton (R)  & 38 & 6 &  7 & 25 & 36 & 73 & −37 & 25 & ⋯ & 11 & Brighton \\& Hove Albion  & 12 & 12 & 14 & 55 &  62 & −7  & 48    &                                                     \\\\\n",
       "\t 20 & Southampton (R)  & 38 & 6 &  7 & 25 & 36 & 73 & −37 & 25 & ⋯ & 12 & Bournemouth             & 13 &  9 & 16 & 54 &  67 & −13 & 48    &                                                     \\\\\n",
       "\t 20 & Southampton (R)  & 38 & 6 &  7 & 25 & 36 & 73 & −37 & 25 & ⋯ & 13 & Fulham                  & 13 &  8 & 17 & 55 &  61 & −6  & 47    &                                                     \\\\\n",
       "\t 20 & Southampton (R)  & 38 & 6 &  7 & 25 & 36 & 73 & −37 & 25 & ⋯ & 14 & Wolverhampton Wanderers & 13 &  7 & 18 & 50 &  65 & −15 & 46    &                                                     \\\\\n",
       "\t 20 & Southampton (R)  & 38 & 6 &  7 & 25 & 36 & 73 & −37 & 25 & ⋯ & 15 & Everton                 & 13 &  9 & 16 & 40 &  51 & −11 & 40{[}c{]} &                                                     \\\\\n",
       "\t 20 & Southampton (R)  & 38 & 6 &  7 & 25 & 36 & 73 & −37 & 25 & ⋯ & 16 & Brentford               & 10 &  9 & 19 & 56 &  65 & −9  & 39    &                                                     \\\\\n",
       "\t 20 & Southampton (R)  & 38 & 6 &  7 & 25 & 36 & 73 & −37 & 25 & ⋯ & 17 & Nottingham Forest       &  9 &  9 & 20 & 49 &  67 & −18 & 32{[}d{]} &                                                     \\\\\n",
       "\t 20 & Southampton (R)  & 38 & 6 &  7 & 25 & 36 & 73 & −37 & 25 & ⋯ & 18 & Luton Town (R)          &  6 &  8 & 24 & 52 &  85 & −33 & 26    & Relegation to EFL Championship                      \\\\\n",
       "\t 20 & Southampton (R)  & 38 & 6 &  7 & 25 & 36 & 73 & −37 & 25 & ⋯ & 19 & Burnley (R)             &  5 &  9 & 24 & 41 &  78 & −37 & 24    & Relegation to EFL Championship                      \\\\\n",
       "\t 20 & Southampton (R)  & 38 & 6 &  7 & 25 & 36 & 73 & −37 & 25 & ⋯ & 20 & Sheffield United (R)    &  3 &  7 & 28 & 35 & 104 & −69 & 16    & Relegation to EFL Championship                      \\\\\n",
       "\\end{tabular}\n"
      ],
      "text/markdown": [
       "\n",
       "A tibble: 400 × 21\n",
       "\n",
       "| Pos.x &lt;int&gt; | Team.x &lt;chr&gt; | Pld &lt;int&gt; | W.x &lt;int&gt; | D.x &lt;int&gt; | L.x &lt;int&gt; | GF.x &lt;int&gt; | GA.x &lt;int&gt; | GD.x &lt;chr&gt; | Pts.x &lt;int&gt; | ⋯ ⋯ | Pos.y &lt;int&gt; | Team.y &lt;chr&gt; | W.y &lt;int&gt; | D.y &lt;int&gt; | L.y &lt;int&gt; | GF.y &lt;int&gt; | GA.y &lt;int&gt; | GD.y &lt;chr&gt; | Pts.y &lt;chr&gt; | Qualification or relegation.y &lt;chr&gt; |\n",
       "|---|---|---|---|---|---|---|---|---|---|---|---|---|---|---|---|---|---|---|---|---|\n",
       "| 1 | Manchester City (C) | 38 | 28 | 5 | 5 | 94 | 33 | +61 | 89 | ⋯ |  1 | Manchester City (C)     | 28 |  7 |  3 | 96 |  34 | +62 | 91    | Qualification to Champions League league phase       |\n",
       "| 1 | Manchester City (C) | 38 | 28 | 5 | 5 | 94 | 33 | +61 | 89 | ⋯ |  2 | Arsenal                 | 28 |  5 |  5 | 91 |  29 | +62 | 89    | Qualification to Champions League league phase       |\n",
       "| 1 | Manchester City (C) | 38 | 28 | 5 | 5 | 94 | 33 | +61 | 89 | ⋯ |  3 | Liverpool               | 24 | 10 |  4 | 86 |  41 | +45 | 82    | Qualification to Champions League league phase       |\n",
       "| 1 | Manchester City (C) | 38 | 28 | 5 | 5 | 94 | 33 | +61 | 89 | ⋯ |  4 | Aston Villa             | 20 |  8 | 10 | 76 |  61 | +15 | 68    | Qualification to Champions League league phase       |\n",
       "| 1 | Manchester City (C) | 38 | 28 | 5 | 5 | 94 | 33 | +61 | 89 | ⋯ |  5 | Tottenham Hotspur       | 20 |  6 | 12 | 74 |  61 | +13 | 66    | Qualification to Europa League league phase          |\n",
       "| 1 | Manchester City (C) | 38 | 28 | 5 | 5 | 94 | 33 | +61 | 89 | ⋯ |  6 | Chelsea                 | 18 |  9 | 11 | 77 |  63 | +14 | 63    | Qualification to Conference League play-off round[a] |\n",
       "| 1 | Manchester City (C) | 38 | 28 | 5 | 5 | 94 | 33 | +61 | 89 | ⋯ |  7 | Newcastle United        | 18 |  6 | 14 | 85 |  62 | +23 | 60    | <!----> |\n",
       "| 1 | Manchester City (C) | 38 | 28 | 5 | 5 | 94 | 33 | +61 | 89 | ⋯ |  8 | Manchester United       | 18 |  6 | 14 | 57 |  58 | −1  | 60    | Qualification to Europa League league phase[b]       |\n",
       "| 1 | Manchester City (C) | 38 | 28 | 5 | 5 | 94 | 33 | +61 | 89 | ⋯ |  9 | West Ham United         | 14 | 10 | 14 | 60 |  74 | −14 | 52    | <!----> |\n",
       "| 1 | Manchester City (C) | 38 | 28 | 5 | 5 | 94 | 33 | +61 | 89 | ⋯ | 10 | Crystal Palace          | 13 | 10 | 15 | 57 |  58 | −1  | 49    | <!----> |\n",
       "| 1 | Manchester City (C) | 38 | 28 | 5 | 5 | 94 | 33 | +61 | 89 | ⋯ | 11 | Brighton &amp; Hove Albion  | 12 | 12 | 14 | 55 |  62 | −7  | 48    | <!----> |\n",
       "| 1 | Manchester City (C) | 38 | 28 | 5 | 5 | 94 | 33 | +61 | 89 | ⋯ | 12 | Bournemouth             | 13 |  9 | 16 | 54 |  67 | −13 | 48    | <!----> |\n",
       "| 1 | Manchester City (C) | 38 | 28 | 5 | 5 | 94 | 33 | +61 | 89 | ⋯ | 13 | Fulham                  | 13 |  8 | 17 | 55 |  61 | −6  | 47    | <!----> |\n",
       "| 1 | Manchester City (C) | 38 | 28 | 5 | 5 | 94 | 33 | +61 | 89 | ⋯ | 14 | Wolverhampton Wanderers | 13 |  7 | 18 | 50 |  65 | −15 | 46    | <!----> |\n",
       "| 1 | Manchester City (C) | 38 | 28 | 5 | 5 | 94 | 33 | +61 | 89 | ⋯ | 15 | Everton                 | 13 |  9 | 16 | 40 |  51 | −11 | 40[c] | <!----> |\n",
       "| 1 | Manchester City (C) | 38 | 28 | 5 | 5 | 94 | 33 | +61 | 89 | ⋯ | 16 | Brentford               | 10 |  9 | 19 | 56 |  65 | −9  | 39    | <!----> |\n",
       "| 1 | Manchester City (C) | 38 | 28 | 5 | 5 | 94 | 33 | +61 | 89 | ⋯ | 17 | Nottingham Forest       |  9 |  9 | 20 | 49 |  67 | −18 | 32[d] | <!----> |\n",
       "| 1 | Manchester City (C) | 38 | 28 | 5 | 5 | 94 | 33 | +61 | 89 | ⋯ | 18 | Luton Town (R)          |  6 |  8 | 24 | 52 |  85 | −33 | 26    | Relegation to EFL Championship                       |\n",
       "| 1 | Manchester City (C) | 38 | 28 | 5 | 5 | 94 | 33 | +61 | 89 | ⋯ | 19 | Burnley (R)             |  5 |  9 | 24 | 41 |  78 | −37 | 24    | Relegation to EFL Championship                       |\n",
       "| 1 | Manchester City (C) | 38 | 28 | 5 | 5 | 94 | 33 | +61 | 89 | ⋯ | 20 | Sheffield United (R)    |  3 |  7 | 28 | 35 | 104 | −69 | 16    | Relegation to EFL Championship                       |\n",
       "| 2 | Arsenal             | 38 | 26 | 6 | 6 | 88 | 43 | +45 | 84 | ⋯ |  1 | Manchester City (C)     | 28 |  7 |  3 | 96 |  34 | +62 | 91    | Qualification to Champions League league phase       |\n",
       "| 2 | Arsenal             | 38 | 26 | 6 | 6 | 88 | 43 | +45 | 84 | ⋯ |  2 | Arsenal                 | 28 |  5 |  5 | 91 |  29 | +62 | 89    | Qualification to Champions League league phase       |\n",
       "| 2 | Arsenal             | 38 | 26 | 6 | 6 | 88 | 43 | +45 | 84 | ⋯ |  3 | Liverpool               | 24 | 10 |  4 | 86 |  41 | +45 | 82    | Qualification to Champions League league phase       |\n",
       "| 2 | Arsenal             | 38 | 26 | 6 | 6 | 88 | 43 | +45 | 84 | ⋯ |  4 | Aston Villa             | 20 |  8 | 10 | 76 |  61 | +15 | 68    | Qualification to Champions League league phase       |\n",
       "| 2 | Arsenal             | 38 | 26 | 6 | 6 | 88 | 43 | +45 | 84 | ⋯ |  5 | Tottenham Hotspur       | 20 |  6 | 12 | 74 |  61 | +13 | 66    | Qualification to Europa League league phase          |\n",
       "| 2 | Arsenal             | 38 | 26 | 6 | 6 | 88 | 43 | +45 | 84 | ⋯ |  6 | Chelsea                 | 18 |  9 | 11 | 77 |  63 | +14 | 63    | Qualification to Conference League play-off round[a] |\n",
       "| 2 | Arsenal             | 38 | 26 | 6 | 6 | 88 | 43 | +45 | 84 | ⋯ |  7 | Newcastle United        | 18 |  6 | 14 | 85 |  62 | +23 | 60    | <!----> |\n",
       "| 2 | Arsenal             | 38 | 26 | 6 | 6 | 88 | 43 | +45 | 84 | ⋯ |  8 | Manchester United       | 18 |  6 | 14 | 57 |  58 | −1  | 60    | Qualification to Europa League league phase[b]       |\n",
       "| 2 | Arsenal             | 38 | 26 | 6 | 6 | 88 | 43 | +45 | 84 | ⋯ |  9 | West Ham United         | 14 | 10 | 14 | 60 |  74 | −14 | 52    | <!----> |\n",
       "| 2 | Arsenal             | 38 | 26 | 6 | 6 | 88 | 43 | +45 | 84 | ⋯ | 10 | Crystal Palace          | 13 | 10 | 15 | 57 |  58 | −1  | 49    | <!----> |\n",
       "| ⋮ | ⋮ | ⋮ | ⋮ | ⋮ | ⋮ | ⋮ | ⋮ | ⋮ | ⋮ | ⋱ | ⋮ | ⋮ | ⋮ | ⋮ | ⋮ | ⋮ | ⋮ | ⋮ | ⋮ | ⋮ |\n",
       "| 19 | Leeds United (R) | 38 | 7 | 10 | 21 | 48 | 78 | −30 | 31 | ⋯ | 11 | Brighton &amp; Hove Albion  | 12 | 12 | 14 | 55 |  62 | −7  | 48    | <!----> |\n",
       "| 19 | Leeds United (R) | 38 | 7 | 10 | 21 | 48 | 78 | −30 | 31 | ⋯ | 12 | Bournemouth             | 13 |  9 | 16 | 54 |  67 | −13 | 48    | <!----> |\n",
       "| 19 | Leeds United (R) | 38 | 7 | 10 | 21 | 48 | 78 | −30 | 31 | ⋯ | 13 | Fulham                  | 13 |  8 | 17 | 55 |  61 | −6  | 47    | <!----> |\n",
       "| 19 | Leeds United (R) | 38 | 7 | 10 | 21 | 48 | 78 | −30 | 31 | ⋯ | 14 | Wolverhampton Wanderers | 13 |  7 | 18 | 50 |  65 | −15 | 46    | <!----> |\n",
       "| 19 | Leeds United (R) | 38 | 7 | 10 | 21 | 48 | 78 | −30 | 31 | ⋯ | 15 | Everton                 | 13 |  9 | 16 | 40 |  51 | −11 | 40[c] | <!----> |\n",
       "| 19 | Leeds United (R) | 38 | 7 | 10 | 21 | 48 | 78 | −30 | 31 | ⋯ | 16 | Brentford               | 10 |  9 | 19 | 56 |  65 | −9  | 39    | <!----> |\n",
       "| 19 | Leeds United (R) | 38 | 7 | 10 | 21 | 48 | 78 | −30 | 31 | ⋯ | 17 | Nottingham Forest       |  9 |  9 | 20 | 49 |  67 | −18 | 32[d] | <!----> |\n",
       "| 19 | Leeds United (R) | 38 | 7 | 10 | 21 | 48 | 78 | −30 | 31 | ⋯ | 18 | Luton Town (R)          |  6 |  8 | 24 | 52 |  85 | −33 | 26    | Relegation to EFL Championship                       |\n",
       "| 19 | Leeds United (R) | 38 | 7 | 10 | 21 | 48 | 78 | −30 | 31 | ⋯ | 19 | Burnley (R)             |  5 |  9 | 24 | 41 |  78 | −37 | 24    | Relegation to EFL Championship                       |\n",
       "| 19 | Leeds United (R) | 38 | 7 | 10 | 21 | 48 | 78 | −30 | 31 | ⋯ | 20 | Sheffield United (R)    |  3 |  7 | 28 | 35 | 104 | −69 | 16    | Relegation to EFL Championship                       |\n",
       "| 20 | Southampton (R)  | 38 | 6 |  7 | 25 | 36 | 73 | −37 | 25 | ⋯ |  1 | Manchester City (C)     | 28 |  7 |  3 | 96 |  34 | +62 | 91    | Qualification to Champions League league phase       |\n",
       "| 20 | Southampton (R)  | 38 | 6 |  7 | 25 | 36 | 73 | −37 | 25 | ⋯ |  2 | Arsenal                 | 28 |  5 |  5 | 91 |  29 | +62 | 89    | Qualification to Champions League league phase       |\n",
       "| 20 | Southampton (R)  | 38 | 6 |  7 | 25 | 36 | 73 | −37 | 25 | ⋯ |  3 | Liverpool               | 24 | 10 |  4 | 86 |  41 | +45 | 82    | Qualification to Champions League league phase       |\n",
       "| 20 | Southampton (R)  | 38 | 6 |  7 | 25 | 36 | 73 | −37 | 25 | ⋯ |  4 | Aston Villa             | 20 |  8 | 10 | 76 |  61 | +15 | 68    | Qualification to Champions League league phase       |\n",
       "| 20 | Southampton (R)  | 38 | 6 |  7 | 25 | 36 | 73 | −37 | 25 | ⋯ |  5 | Tottenham Hotspur       | 20 |  6 | 12 | 74 |  61 | +13 | 66    | Qualification to Europa League league phase          |\n",
       "| 20 | Southampton (R)  | 38 | 6 |  7 | 25 | 36 | 73 | −37 | 25 | ⋯ |  6 | Chelsea                 | 18 |  9 | 11 | 77 |  63 | +14 | 63    | Qualification to Conference League play-off round[a] |\n",
       "| 20 | Southampton (R)  | 38 | 6 |  7 | 25 | 36 | 73 | −37 | 25 | ⋯ |  7 | Newcastle United        | 18 |  6 | 14 | 85 |  62 | +23 | 60    | <!----> |\n",
       "| 20 | Southampton (R)  | 38 | 6 |  7 | 25 | 36 | 73 | −37 | 25 | ⋯ |  8 | Manchester United       | 18 |  6 | 14 | 57 |  58 | −1  | 60    | Qualification to Europa League league phase[b]       |\n",
       "| 20 | Southampton (R)  | 38 | 6 |  7 | 25 | 36 | 73 | −37 | 25 | ⋯ |  9 | West Ham United         | 14 | 10 | 14 | 60 |  74 | −14 | 52    | <!----> |\n",
       "| 20 | Southampton (R)  | 38 | 6 |  7 | 25 | 36 | 73 | −37 | 25 | ⋯ | 10 | Crystal Palace          | 13 | 10 | 15 | 57 |  58 | −1  | 49    | <!----> |\n",
       "| 20 | Southampton (R)  | 38 | 6 |  7 | 25 | 36 | 73 | −37 | 25 | ⋯ | 11 | Brighton &amp; Hove Albion  | 12 | 12 | 14 | 55 |  62 | −7  | 48    | <!----> |\n",
       "| 20 | Southampton (R)  | 38 | 6 |  7 | 25 | 36 | 73 | −37 | 25 | ⋯ | 12 | Bournemouth             | 13 |  9 | 16 | 54 |  67 | −13 | 48    | <!----> |\n",
       "| 20 | Southampton (R)  | 38 | 6 |  7 | 25 | 36 | 73 | −37 | 25 | ⋯ | 13 | Fulham                  | 13 |  8 | 17 | 55 |  61 | −6  | 47    | <!----> |\n",
       "| 20 | Southampton (R)  | 38 | 6 |  7 | 25 | 36 | 73 | −37 | 25 | ⋯ | 14 | Wolverhampton Wanderers | 13 |  7 | 18 | 50 |  65 | −15 | 46    | <!----> |\n",
       "| 20 | Southampton (R)  | 38 | 6 |  7 | 25 | 36 | 73 | −37 | 25 | ⋯ | 15 | Everton                 | 13 |  9 | 16 | 40 |  51 | −11 | 40[c] | <!----> |\n",
       "| 20 | Southampton (R)  | 38 | 6 |  7 | 25 | 36 | 73 | −37 | 25 | ⋯ | 16 | Brentford               | 10 |  9 | 19 | 56 |  65 | −9  | 39    | <!----> |\n",
       "| 20 | Southampton (R)  | 38 | 6 |  7 | 25 | 36 | 73 | −37 | 25 | ⋯ | 17 | Nottingham Forest       |  9 |  9 | 20 | 49 |  67 | −18 | 32[d] | <!----> |\n",
       "| 20 | Southampton (R)  | 38 | 6 |  7 | 25 | 36 | 73 | −37 | 25 | ⋯ | 18 | Luton Town (R)          |  6 |  8 | 24 | 52 |  85 | −33 | 26    | Relegation to EFL Championship                       |\n",
       "| 20 | Southampton (R)  | 38 | 6 |  7 | 25 | 36 | 73 | −37 | 25 | ⋯ | 19 | Burnley (R)             |  5 |  9 | 24 | 41 |  78 | −37 | 24    | Relegation to EFL Championship                       |\n",
       "| 20 | Southampton (R)  | 38 | 6 |  7 | 25 | 36 | 73 | −37 | 25 | ⋯ | 20 | Sheffield United (R)    |  3 |  7 | 28 | 35 | 104 | −69 | 16    | Relegation to EFL Championship                       |\n",
       "\n"
      ],
      "text/plain": [
       "    Pos.x Team.x              Pld W.x D.x L.x GF.x GA.x GD.x Pts.x ⋯ Pos.y\n",
       "1   1     Manchester City (C) 38  28  5   5   94   33   +61  89    ⋯  1   \n",
       "2   1     Manchester City (C) 38  28  5   5   94   33   +61  89    ⋯  2   \n",
       "3   1     Manchester City (C) 38  28  5   5   94   33   +61  89    ⋯  3   \n",
       "4   1     Manchester City (C) 38  28  5   5   94   33   +61  89    ⋯  4   \n",
       "5   1     Manchester City (C) 38  28  5   5   94   33   +61  89    ⋯  5   \n",
       "6   1     Manchester City (C) 38  28  5   5   94   33   +61  89    ⋯  6   \n",
       "7   1     Manchester City (C) 38  28  5   5   94   33   +61  89    ⋯  7   \n",
       "8   1     Manchester City (C) 38  28  5   5   94   33   +61  89    ⋯  8   \n",
       "9   1     Manchester City (C) 38  28  5   5   94   33   +61  89    ⋯  9   \n",
       "10  1     Manchester City (C) 38  28  5   5   94   33   +61  89    ⋯ 10   \n",
       "11  1     Manchester City (C) 38  28  5   5   94   33   +61  89    ⋯ 11   \n",
       "12  1     Manchester City (C) 38  28  5   5   94   33   +61  89    ⋯ 12   \n",
       "13  1     Manchester City (C) 38  28  5   5   94   33   +61  89    ⋯ 13   \n",
       "14  1     Manchester City (C) 38  28  5   5   94   33   +61  89    ⋯ 14   \n",
       "15  1     Manchester City (C) 38  28  5   5   94   33   +61  89    ⋯ 15   \n",
       "16  1     Manchester City (C) 38  28  5   5   94   33   +61  89    ⋯ 16   \n",
       "17  1     Manchester City (C) 38  28  5   5   94   33   +61  89    ⋯ 17   \n",
       "18  1     Manchester City (C) 38  28  5   5   94   33   +61  89    ⋯ 18   \n",
       "19  1     Manchester City (C) 38  28  5   5   94   33   +61  89    ⋯ 19   \n",
       "20  1     Manchester City (C) 38  28  5   5   94   33   +61  89    ⋯ 20   \n",
       "21  2     Arsenal             38  26  6   6   88   43   +45  84    ⋯  1   \n",
       "22  2     Arsenal             38  26  6   6   88   43   +45  84    ⋯  2   \n",
       "23  2     Arsenal             38  26  6   6   88   43   +45  84    ⋯  3   \n",
       "24  2     Arsenal             38  26  6   6   88   43   +45  84    ⋯  4   \n",
       "25  2     Arsenal             38  26  6   6   88   43   +45  84    ⋯  5   \n",
       "26  2     Arsenal             38  26  6   6   88   43   +45  84    ⋯  6   \n",
       "27  2     Arsenal             38  26  6   6   88   43   +45  84    ⋯  7   \n",
       "28  2     Arsenal             38  26  6   6   88   43   +45  84    ⋯  8   \n",
       "29  2     Arsenal             38  26  6   6   88   43   +45  84    ⋯  9   \n",
       "30  2     Arsenal             38  26  6   6   88   43   +45  84    ⋯ 10   \n",
       "⋮   ⋮     ⋮                   ⋮   ⋮   ⋮   ⋮   ⋮    ⋮    ⋮    ⋮     ⋱ ⋮    \n",
       "371 19    Leeds United (R)    38  7   10  21  48   78   −30  31    ⋯ 11   \n",
       "372 19    Leeds United (R)    38  7   10  21  48   78   −30  31    ⋯ 12   \n",
       "373 19    Leeds United (R)    38  7   10  21  48   78   −30  31    ⋯ 13   \n",
       "374 19    Leeds United (R)    38  7   10  21  48   78   −30  31    ⋯ 14   \n",
       "375 19    Leeds United (R)    38  7   10  21  48   78   −30  31    ⋯ 15   \n",
       "376 19    Leeds United (R)    38  7   10  21  48   78   −30  31    ⋯ 16   \n",
       "377 19    Leeds United (R)    38  7   10  21  48   78   −30  31    ⋯ 17   \n",
       "378 19    Leeds United (R)    38  7   10  21  48   78   −30  31    ⋯ 18   \n",
       "379 19    Leeds United (R)    38  7   10  21  48   78   −30  31    ⋯ 19   \n",
       "380 19    Leeds United (R)    38  7   10  21  48   78   −30  31    ⋯ 20   \n",
       "381 20    Southampton (R)     38  6    7  25  36   73   −37  25    ⋯  1   \n",
       "382 20    Southampton (R)     38  6    7  25  36   73   −37  25    ⋯  2   \n",
       "383 20    Southampton (R)     38  6    7  25  36   73   −37  25    ⋯  3   \n",
       "384 20    Southampton (R)     38  6    7  25  36   73   −37  25    ⋯  4   \n",
       "385 20    Southampton (R)     38  6    7  25  36   73   −37  25    ⋯  5   \n",
       "386 20    Southampton (R)     38  6    7  25  36   73   −37  25    ⋯  6   \n",
       "387 20    Southampton (R)     38  6    7  25  36   73   −37  25    ⋯  7   \n",
       "388 20    Southampton (R)     38  6    7  25  36   73   −37  25    ⋯  8   \n",
       "389 20    Southampton (R)     38  6    7  25  36   73   −37  25    ⋯  9   \n",
       "390 20    Southampton (R)     38  6    7  25  36   73   −37  25    ⋯ 10   \n",
       "391 20    Southampton (R)     38  6    7  25  36   73   −37  25    ⋯ 11   \n",
       "392 20    Southampton (R)     38  6    7  25  36   73   −37  25    ⋯ 12   \n",
       "393 20    Southampton (R)     38  6    7  25  36   73   −37  25    ⋯ 13   \n",
       "394 20    Southampton (R)     38  6    7  25  36   73   −37  25    ⋯ 14   \n",
       "395 20    Southampton (R)     38  6    7  25  36   73   −37  25    ⋯ 15   \n",
       "396 20    Southampton (R)     38  6    7  25  36   73   −37  25    ⋯ 16   \n",
       "397 20    Southampton (R)     38  6    7  25  36   73   −37  25    ⋯ 17   \n",
       "398 20    Southampton (R)     38  6    7  25  36   73   −37  25    ⋯ 18   \n",
       "399 20    Southampton (R)     38  6    7  25  36   73   −37  25    ⋯ 19   \n",
       "400 20    Southampton (R)     38  6    7  25  36   73   −37  25    ⋯ 20   \n",
       "    Team.y                  W.y D.y L.y GF.y GA.y GD.y Pts.y\n",
       "1   Manchester City (C)     28   7   3  96    34  +62  91   \n",
       "2   Arsenal                 28   5   5  91    29  +62  89   \n",
       "3   Liverpool               24  10   4  86    41  +45  82   \n",
       "4   Aston Villa             20   8  10  76    61  +15  68   \n",
       "5   Tottenham Hotspur       20   6  12  74    61  +13  66   \n",
       "6   Chelsea                 18   9  11  77    63  +14  63   \n",
       "7   Newcastle United        18   6  14  85    62  +23  60   \n",
       "8   Manchester United       18   6  14  57    58  −1   60   \n",
       "9   West Ham United         14  10  14  60    74  −14  52   \n",
       "10  Crystal Palace          13  10  15  57    58  −1   49   \n",
       "11  Brighton & Hove Albion  12  12  14  55    62  −7   48   \n",
       "12  Bournemouth             13   9  16  54    67  −13  48   \n",
       "13  Fulham                  13   8  17  55    61  −6   47   \n",
       "14  Wolverhampton Wanderers 13   7  18  50    65  −15  46   \n",
       "15  Everton                 13   9  16  40    51  −11  40[c]\n",
       "16  Brentford               10   9  19  56    65  −9   39   \n",
       "17  Nottingham Forest        9   9  20  49    67  −18  32[d]\n",
       "18  Luton Town (R)           6   8  24  52    85  −33  26   \n",
       "19  Burnley (R)              5   9  24  41    78  −37  24   \n",
       "20  Sheffield United (R)     3   7  28  35   104  −69  16   \n",
       "21  Manchester City (C)     28   7   3  96    34  +62  91   \n",
       "22  Arsenal                 28   5   5  91    29  +62  89   \n",
       "23  Liverpool               24  10   4  86    41  +45  82   \n",
       "24  Aston Villa             20   8  10  76    61  +15  68   \n",
       "25  Tottenham Hotspur       20   6  12  74    61  +13  66   \n",
       "26  Chelsea                 18   9  11  77    63  +14  63   \n",
       "27  Newcastle United        18   6  14  85    62  +23  60   \n",
       "28  Manchester United       18   6  14  57    58  −1   60   \n",
       "29  West Ham United         14  10  14  60    74  −14  52   \n",
       "30  Crystal Palace          13  10  15  57    58  −1   49   \n",
       "⋮   ⋮                       ⋮   ⋮   ⋮   ⋮    ⋮    ⋮    ⋮    \n",
       "371 Brighton & Hove Albion  12  12  14  55    62  −7   48   \n",
       "372 Bournemouth             13   9  16  54    67  −13  48   \n",
       "373 Fulham                  13   8  17  55    61  −6   47   \n",
       "374 Wolverhampton Wanderers 13   7  18  50    65  −15  46   \n",
       "375 Everton                 13   9  16  40    51  −11  40[c]\n",
       "376 Brentford               10   9  19  56    65  −9   39   \n",
       "377 Nottingham Forest        9   9  20  49    67  −18  32[d]\n",
       "378 Luton Town (R)           6   8  24  52    85  −33  26   \n",
       "379 Burnley (R)              5   9  24  41    78  −37  24   \n",
       "380 Sheffield United (R)     3   7  28  35   104  −69  16   \n",
       "381 Manchester City (C)     28   7   3  96    34  +62  91   \n",
       "382 Arsenal                 28   5   5  91    29  +62  89   \n",
       "383 Liverpool               24  10   4  86    41  +45  82   \n",
       "384 Aston Villa             20   8  10  76    61  +15  68   \n",
       "385 Tottenham Hotspur       20   6  12  74    61  +13  66   \n",
       "386 Chelsea                 18   9  11  77    63  +14  63   \n",
       "387 Newcastle United        18   6  14  85    62  +23  60   \n",
       "388 Manchester United       18   6  14  57    58  −1   60   \n",
       "389 West Ham United         14  10  14  60    74  −14  52   \n",
       "390 Crystal Palace          13  10  15  57    58  −1   49   \n",
       "391 Brighton & Hove Albion  12  12  14  55    62  −7   48   \n",
       "392 Bournemouth             13   9  16  54    67  −13  48   \n",
       "393 Fulham                  13   8  17  55    61  −6   47   \n",
       "394 Wolverhampton Wanderers 13   7  18  50    65  −15  46   \n",
       "395 Everton                 13   9  16  40    51  −11  40[c]\n",
       "396 Brentford               10   9  19  56    65  −9   39   \n",
       "397 Nottingham Forest        9   9  20  49    67  −18  32[d]\n",
       "398 Luton Town (R)           6   8  24  52    85  −33  26   \n",
       "399 Burnley (R)              5   9  24  41    78  −37  24   \n",
       "400 Sheffield United (R)     3   7  28  35   104  −69  16   \n",
       "    Qualification or relegation.y                       \n",
       "1   Qualification to Champions League league phase      \n",
       "2   Qualification to Champions League league phase      \n",
       "3   Qualification to Champions League league phase      \n",
       "4   Qualification to Champions League league phase      \n",
       "5   Qualification to Europa League league phase         \n",
       "6   Qualification to Conference League play-off round[a]\n",
       "7                                                       \n",
       "8   Qualification to Europa League league phase[b]      \n",
       "9                                                       \n",
       "10                                                      \n",
       "11                                                      \n",
       "12                                                      \n",
       "13                                                      \n",
       "14                                                      \n",
       "15                                                      \n",
       "16                                                      \n",
       "17                                                      \n",
       "18  Relegation to EFL Championship                      \n",
       "19  Relegation to EFL Championship                      \n",
       "20  Relegation to EFL Championship                      \n",
       "21  Qualification to Champions League league phase      \n",
       "22  Qualification to Champions League league phase      \n",
       "23  Qualification to Champions League league phase      \n",
       "24  Qualification to Champions League league phase      \n",
       "25  Qualification to Europa League league phase         \n",
       "26  Qualification to Conference League play-off round[a]\n",
       "27                                                      \n",
       "28  Qualification to Europa League league phase[b]      \n",
       "29                                                      \n",
       "30                                                      \n",
       "⋮   ⋮                                                   \n",
       "371                                                     \n",
       "372                                                     \n",
       "373                                                     \n",
       "374                                                     \n",
       "375                                                     \n",
       "376                                                     \n",
       "377                                                     \n",
       "378 Relegation to EFL Championship                      \n",
       "379 Relegation to EFL Championship                      \n",
       "380 Relegation to EFL Championship                      \n",
       "381 Qualification to Champions League league phase      \n",
       "382 Qualification to Champions League league phase      \n",
       "383 Qualification to Champions League league phase      \n",
       "384 Qualification to Champions League league phase      \n",
       "385 Qualification to Europa League league phase         \n",
       "386 Qualification to Conference League play-off round[a]\n",
       "387                                                     \n",
       "388 Qualification to Europa League league phase[b]      \n",
       "389                                                     \n",
       "390                                                     \n",
       "391                                                     \n",
       "392                                                     \n",
       "393                                                     \n",
       "394                                                     \n",
       "395                                                     \n",
       "396                                                     \n",
       "397                                                     \n",
       "398 Relegation to EFL Championship                      \n",
       "399 Relegation to EFL Championship                      \n",
       "400 Relegation to EFL Championship                      "
      ]
     },
     "metadata": {},
     "output_type": "display_data"
    }
   ],
   "source": [
    "full_join(table23,table24, by = \"Pld\")"
   ]
  },
  {
   "cell_type": "code",
   "execution_count": 21,
   "id": "5a8096e8-eca6-461a-9fec-df7a32c5113b",
   "metadata": {},
   "outputs": [
    {
     "name": "stdout",
     "output_type": "stream",
     "text": [
      " [1] \"Pos\"                         \"Team\"                       \n",
      " [3] \"Pld\"                         \"W\"                          \n",
      " [5] \"D\"                           \"L\"                          \n",
      " [7] \"GF\"                          \"GA\"                         \n",
      " [9] \"GD\"                          \"Pts\"                        \n",
      "[11] \"Qualification or relegation\"\n",
      " [1] \"Pos\"                         \"Team\"                       \n",
      " [3] \"Pld\"                         \"W\"                          \n",
      " [5] \"D\"                           \"L\"                          \n",
      " [7] \"GF\"                          \"GA\"                         \n",
      " [9] \"GD\"                          \"Pts\"                        \n",
      "[11] \"Qualification or relegation\"\n"
     ]
    }
   ],
   "source": [
    "print(colnames(table23))\n",
    "print(colnames(table24))"
   ]
  },
  {
   "cell_type": "code",
   "execution_count": null,
   "id": "06265c24-3000-46de-93b9-08515ae5be52",
   "metadata": {},
   "outputs": [],
   "source": [
    "table23 <- table23[, c(\"Pld\", \"Team\", \"Pts\")]\n",
    "table23$Year <- 2023\n",
    "table23\n",
    "\n",
    "table24 <- table24[, c(\"Pld\", \"Team\", \"Pts\")]\n",
    "table24$Years <- 2024"
   ]
  },
  {
   "cell_type": "code",
   "execution_count": null,
   "id": "3b824d5f-a6b3-406a-aa07-91cb39e849d6",
   "metadata": {},
   "outputs": [],
   "source": [
    "df <- table23 %>%\n",
    "  mutate(Team = gsub(\" \\\\(C\\\\)| \\\\(R\\\\)$\", \"\", Team))\n",
    "\n",
    "df2 <- table24 %>%\n",
    "  mutate(Team = gsub(\" \\\\(C\\\\)| \\\\(R\\\\)$\", \"\", Team))"
   ]
  },
  {
   "cell_type": "code",
   "execution_count": null,
   "id": "e1106ef4-392d-4630-8cac-03d193918cf0",
   "metadata": {},
   "outputs": [],
   "source": [
    "df"
   ]
  },
  {
   "cell_type": "code",
   "execution_count": null,
   "id": "2759818f-0c93-4b9d-b717-620154db1c39",
   "metadata": {},
   "outputs": [],
   "source": [
    "library(ggplot2)\n",
    "\n",
    "# Example data\n",
    "data <- matrix(runif(100), nrow = 10, ncol = 10)\n",
    "\n",
    "# Convert matrix to a dataframe for ggplot\n",
    "df <- as.data.frame(as.table(data))\n",
    "\n",
    "# Create heatmap using ggplot2\n",
    "ggplot(df, aes(Var1, Var2, fill = Freq)) +\n",
    "  geom_tile() +\n",
    "  scale_fill_gradient(low = \"blue\", high = \"red\") +\n",
    "  theme_minimal() +\n",
    "  labs(title = \"Heatmap\", x = \"Column\", y = \"Row\")"
   ]
  },
  {
   "cell_type": "code",
   "execution_count": null,
   "id": "5d2eb57b-a04b-499a-b6f0-c55ff9efe398",
   "metadata": {},
   "outputs": [],
   "source": []
  },
  {
   "cell_type": "code",
   "execution_count": null,
   "id": "83978130-b749-4e54-a781-1ee2f4810f85",
   "metadata": {},
   "outputs": [],
   "source": [
    "# Example data with 'X' as non-numeric values\n",
    "data <- matrix(sample(c(0:100, \"X\"), 100, replace = TRUE), nrow = 10, ncol = 10)\n",
    "\n",
    "# Convert the matrix to a data frame\n",
    "df <- as.data.frame(as.table(data))\n",
    "\n",
    "# Create the heatmap\n",
    "ggplot(df, aes(Var1, Var2, fill = ifelse(Freq == \"X\", NA, as.numeric(Freq)))) +\n",
    "  geom_tile() +\n",
    "  scale_fill_gradient(low = \"blue\", high = \"red\", na.value = \"black\") +  # NA values will be black\n",
    "  theme_minimal() +\n",
    "  labs(title = \"Heatmap with 'X' as non-numeric values\", x = \"Column\", y = \"Row\") +\n",
    "  theme(axis.text.x = element_text(angle = 45, hjust = 1))  # Rotate x-axis labels for better readability"
   ]
  },
  {
   "cell_type": "code",
   "execution_count": 15,
   "id": "e633111f-597b-417b-b5df-cc4f62394517",
   "metadata": {},
   "outputs": [
    {
     "data": {
      "text/html": [
       "<pre class=language-r><code>function (x, df1, df2, ncp, log = FALSE) \n",
       "{\n",
       "<span style=white-space:pre-wrap>    if (missing(ncp)) </span>\n",
       "<span style=white-space:pre-wrap>        .Call(C_df, x, df1, df2, log)</span>\n",
       "<span style=white-space:pre-wrap>    else .Call(C_dnf, x, df1, df2, ncp, log)</span>\n",
       "}</code></pre>"
      ],
      "text/latex": [
       "\\begin{minted}{r}\n",
       "function (x, df1, df2, ncp, log = FALSE) \n",
       "\\{\n",
       "    if (missing(ncp)) \n",
       "        .Call(C\\_df, x, df1, df2, log)\n",
       "    else .Call(C\\_dnf, x, df1, df2, ncp, log)\n",
       "\\}\n",
       "\\end{minted}"
      ],
      "text/markdown": [
       "```r\n",
       "function (x, df1, df2, ncp, log = FALSE) \n",
       "{\n",
       "    if (missing(ncp)) \n",
       "        .Call(C_df, x, df1, df2, log)\n",
       "    else .Call(C_dnf, x, df1, df2, ncp, log)\n",
       "}\n",
       "```"
      ],
      "text/plain": [
       "function (x, df1, df2, ncp, log = FALSE) \n",
       "{\n",
       "    if (missing(ncp)) \n",
       "        .Call(C_df, x, df1, df2, log)\n",
       "    else .Call(C_dnf, x, df1, df2, ncp, log)\n",
       "}\n",
       "<bytecode: 0x00000207a43a7e38>\n",
       "<environment: namespace:stats>"
      ]
     },
     "metadata": {},
     "output_type": "display_data"
    },
    {
     "ename": "ERROR",
     "evalue": "Error in eval(expr, envir, enclos): object 'df2' not found\n",
     "output_type": "error",
     "traceback": [
      "Error in eval(expr, envir, enclos): object 'df2' not found\nTraceback:\n"
     ]
    }
   ],
   "source": [
    "df\n",
    "df2"
   ]
  },
  {
   "cell_type": "code",
   "execution_count": 14,
   "id": "a2a3320b-2a13-4d19-831a-65009de3e14f",
   "metadata": {},
   "outputs": [
    {
     "ename": "ERROR",
     "evalue": "Error in UseMethod(\"select\"): no applicable method for 'select' applied to an object of class \"function\"\n",
     "output_type": "error",
     "traceback": [
      "Error in UseMethod(\"select\"): no applicable method for 'select' applied to an object of class \"function\"\nTraceback:\n",
      "1. select(df, -Years)"
     ]
    }
   ],
   "source": [
    "# Poäng år XXXX ska vara en kolumn, lag ska vara en variabel. Om laget inte spelade ett år \n",
    "# markerade det med \"X\" eller något i den stilen. \n",
    "\n",
    "\n",
    "df <- select(df,-Years)\n",
    "df"
   ]
  },
  {
   "cell_type": "code",
   "execution_count": null,
   "id": "e06e6525-ffee-47dc-acc7-b5625fc12280",
   "metadata": {},
   "outputs": [],
   "source": []
  }
 ],
 "metadata": {
  "kernelspec": {
   "display_name": "R",
   "language": "R",
   "name": "ir"
  },
  "language_info": {
   "codemirror_mode": "r",
   "file_extension": ".r",
   "mimetype": "text/x-r-source",
   "name": "R",
   "pygments_lexer": "r",
   "version": "4.3.1"
  }
 },
 "nbformat": 4,
 "nbformat_minor": 5
}
