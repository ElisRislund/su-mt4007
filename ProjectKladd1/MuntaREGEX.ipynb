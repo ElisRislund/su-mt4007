{
 "cells": [
  {
   "cell_type": "code",
   "execution_count": null,
   "id": "39eeb407-ed18-432b-9412-dec3f81f973d",
   "metadata": {},
   "outputs": [],
   "source": [
    "# Regex stands for Regular expressions and is a tool used for\n",
    "# pattern matching in texts, validating texts, and in general manipulating text\n",
    "# it allows one to match, search and manipulate texts based on patterns\n",
    "# a regular expresion is a sequence of characters that determines a search pattern. \n",
    "# It is for instance used for extracting phone numbers, URLS, or emails from a big chunk of text.\n",
    "\n",
    "# regex begins and ends with \\b these are the boundaries of the expression for instance\n",
    "# \\bcat\\b means cat\n",
    "\n",
    "# in regex there is normal characters, ie normal letters such as abcdefg and so on\n",
    "# there are also meta-characters with regex-specific meanings. For instance\n",
    "\n",
    "# . matches any single character EXCEPT a new line\n",
    "# ^ anchors the regex at the beginning of the string\n",
    "# $ anchors the regex at the end of the string (as used in the project...)\n",
    "# * and + and ? matches occcurces of the preceding character or group\n",
    "# a|b matches a or b\n",
    "# (abc)+ matches more than 0 occurences of abc all together, i.e not just a or c.\n",
    "# [] are for character classes\n",
    "# {n} matches precisely n occurences. \n",
    "# \\ is used in front of a metacharacter to escape the metacharacter.\n",
    "# i.e. \\. means literally the character ., whereas . is a metacharacter meaning any character.\n",
    "\n",
    "\n",
    "# There are some predefined character classes (for instance digits) methods to anchor the regex ie where\n",
    "# should the pattern be located in the string\n",
    "# and modifiers (for instance find the first occurence of some pattern or something like that)\n"
   ]
  }
 ],
 "metadata": {
  "kernelspec": {
   "display_name": "R",
   "language": "R",
   "name": "ir"
  },
  "language_info": {
   "codemirror_mode": "r",
   "file_extension": ".r",
   "mimetype": "text/x-r-source",
   "name": "R",
   "pygments_lexer": "r",
   "version": "4.3.1"
  }
 },
 "nbformat": 4,
 "nbformat_minor": 5
}
