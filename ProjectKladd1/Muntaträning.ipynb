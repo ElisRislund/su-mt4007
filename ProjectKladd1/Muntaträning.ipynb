{
 "cells": [
  {
   "cell_type": "code",
   "execution_count": 9,
   "id": "739bd37c-af6d-437b-adf5-ad1e3f0c85a0",
   "metadata": {},
   "outputs": [],
   "source": [
    "suppressWarnings(library(dplyr))"
   ]
  },
  {
   "cell_type": "code",
   "execution_count": 11,
   "id": "03288755-96ac-4b14-bc5a-d6c874dca474",
   "metadata": {},
   "outputs": [],
   "source": [
    "# Tränar joins\n",
    "\n",
    "# Givet två dataframes kan man joina data på flera olika sätt. Inner_join() tar data och joinar dom via\n",
    "# en variabel, och låter dom nya raderna vara dom observationer som är gemensamma för dom två dataframesen\n",
    "\n",
    "df1 <- data.frame(\n",
    "    ID = c(1,3,5,7,9),\n",
    "    Var = c(\"A\",\"B\",\"C\",\"D\",\"E\")\n",
    "    )\n",
    "\n",
    "df2 <- data.frame(\n",
    "    ID = c(1,2,3,4,5),\n",
    "    Var = c(\"1\",\"2\",\"3\",\"4\",\"5\")\n",
    "    )"
   ]
  },
  {
   "cell_type": "code",
   "execution_count": 12,
   "id": "3ef02893-8697-4c27-ac89-d46f0a45f0e6",
   "metadata": {},
   "outputs": [
    {
     "data": {
      "text/html": [
       "<table class=\"dataframe\">\n",
       "<caption>A data.frame: 3 × 3</caption>\n",
       "<thead>\n",
       "\t<tr><th scope=col>ID</th><th scope=col>Var.x</th><th scope=col>Var.y</th></tr>\n",
       "\t<tr><th scope=col>&lt;dbl&gt;</th><th scope=col>&lt;chr&gt;</th><th scope=col>&lt;chr&gt;</th></tr>\n",
       "</thead>\n",
       "<tbody>\n",
       "\t<tr><td>1</td><td>A</td><td>1</td></tr>\n",
       "\t<tr><td>3</td><td>B</td><td>3</td></tr>\n",
       "\t<tr><td>5</td><td>C</td><td>5</td></tr>\n",
       "</tbody>\n",
       "</table>\n"
      ],
      "text/latex": [
       "A data.frame: 3 × 3\n",
       "\\begin{tabular}{lll}\n",
       " ID & Var.x & Var.y\\\\\n",
       " <dbl> & <chr> & <chr>\\\\\n",
       "\\hline\n",
       "\t 1 & A & 1\\\\\n",
       "\t 3 & B & 3\\\\\n",
       "\t 5 & C & 5\\\\\n",
       "\\end{tabular}\n"
      ],
      "text/markdown": [
       "\n",
       "A data.frame: 3 × 3\n",
       "\n",
       "| ID &lt;dbl&gt; | Var.x &lt;chr&gt; | Var.y &lt;chr&gt; |\n",
       "|---|---|---|\n",
       "| 1 | A | 1 |\n",
       "| 3 | B | 3 |\n",
       "| 5 | C | 5 |\n",
       "\n"
      ],
      "text/plain": [
       "  ID Var.x Var.y\n",
       "1 1  A     1    \n",
       "2 3  B     3    \n",
       "3 5  C     5    "
      ]
     },
     "metadata": {},
     "output_type": "display_data"
    }
   ],
   "source": [
    "inner_join(df1,df2, by = \"ID\")"
   ]
  },
  {
   "cell_type": "code",
   "execution_count": 15,
   "id": "1b384650-42b2-4656-907c-4bf574ad19e2",
   "metadata": {},
   "outputs": [
    {
     "data": {
      "text/html": [
       "<table class=\"dataframe\">\n",
       "<caption>A data.frame: 7 × 3</caption>\n",
       "<thead>\n",
       "\t<tr><th scope=col>ID</th><th scope=col>Var.x</th><th scope=col>Var.y</th></tr>\n",
       "\t<tr><th scope=col>&lt;dbl&gt;</th><th scope=col>&lt;chr&gt;</th><th scope=col>&lt;chr&gt;</th></tr>\n",
       "</thead>\n",
       "<tbody>\n",
       "\t<tr><td>1</td><td>A </td><td>1 </td></tr>\n",
       "\t<tr><td>3</td><td>B </td><td>3 </td></tr>\n",
       "\t<tr><td>5</td><td>C </td><td>5 </td></tr>\n",
       "\t<tr><td>7</td><td>D </td><td>NA</td></tr>\n",
       "\t<tr><td>9</td><td>E </td><td>NA</td></tr>\n",
       "\t<tr><td>2</td><td>NA</td><td>2 </td></tr>\n",
       "\t<tr><td>4</td><td>NA</td><td>4 </td></tr>\n",
       "</tbody>\n",
       "</table>\n"
      ],
      "text/latex": [
       "A data.frame: 7 × 3\n",
       "\\begin{tabular}{lll}\n",
       " ID & Var.x & Var.y\\\\\n",
       " <dbl> & <chr> & <chr>\\\\\n",
       "\\hline\n",
       "\t 1 & A  & 1 \\\\\n",
       "\t 3 & B  & 3 \\\\\n",
       "\t 5 & C  & 5 \\\\\n",
       "\t 7 & D  & NA\\\\\n",
       "\t 9 & E  & NA\\\\\n",
       "\t 2 & NA & 2 \\\\\n",
       "\t 4 & NA & 4 \\\\\n",
       "\\end{tabular}\n"
      ],
      "text/markdown": [
       "\n",
       "A data.frame: 7 × 3\n",
       "\n",
       "| ID &lt;dbl&gt; | Var.x &lt;chr&gt; | Var.y &lt;chr&gt; |\n",
       "|---|---|---|\n",
       "| 1 | A  | 1  |\n",
       "| 3 | B  | 3  |\n",
       "| 5 | C  | 5  |\n",
       "| 7 | D  | NA |\n",
       "| 9 | E  | NA |\n",
       "| 2 | NA | 2  |\n",
       "| 4 | NA | 4  |\n",
       "\n"
      ],
      "text/plain": [
       "  ID Var.x Var.y\n",
       "1 1  A     1    \n",
       "2 3  B     3    \n",
       "3 5  C     5    \n",
       "4 7  D     NA   \n",
       "5 9  E     NA   \n",
       "6 2  NA    2    \n",
       "7 4  NA    4    "
      ]
     },
     "metadata": {},
     "output_type": "display_data"
    }
   ],
   "source": [
    "full_join(df1,df2, by = \"ID\")"
   ]
  },
  {
   "cell_type": "code",
   "execution_count": 16,
   "id": "af12d50a-99ce-4d53-a534-6184f22e3a36",
   "metadata": {},
   "outputs": [
    {
     "data": {
      "text/html": [
       "<table class=\"dataframe\">\n",
       "<caption>A data.frame: 5 × 3</caption>\n",
       "<thead>\n",
       "\t<tr><th scope=col>ID</th><th scope=col>Var.x</th><th scope=col>Var.y</th></tr>\n",
       "\t<tr><th scope=col>&lt;dbl&gt;</th><th scope=col>&lt;chr&gt;</th><th scope=col>&lt;chr&gt;</th></tr>\n",
       "</thead>\n",
       "<tbody>\n",
       "\t<tr><td>1</td><td>A </td><td>1</td></tr>\n",
       "\t<tr><td>3</td><td>B </td><td>3</td></tr>\n",
       "\t<tr><td>5</td><td>C </td><td>5</td></tr>\n",
       "\t<tr><td>2</td><td>NA</td><td>2</td></tr>\n",
       "\t<tr><td>4</td><td>NA</td><td>4</td></tr>\n",
       "</tbody>\n",
       "</table>\n"
      ],
      "text/latex": [
       "A data.frame: 5 × 3\n",
       "\\begin{tabular}{lll}\n",
       " ID & Var.x & Var.y\\\\\n",
       " <dbl> & <chr> & <chr>\\\\\n",
       "\\hline\n",
       "\t 1 & A  & 1\\\\\n",
       "\t 3 & B  & 3\\\\\n",
       "\t 5 & C  & 5\\\\\n",
       "\t 2 & NA & 2\\\\\n",
       "\t 4 & NA & 4\\\\\n",
       "\\end{tabular}\n"
      ],
      "text/markdown": [
       "\n",
       "A data.frame: 5 × 3\n",
       "\n",
       "| ID &lt;dbl&gt; | Var.x &lt;chr&gt; | Var.y &lt;chr&gt; |\n",
       "|---|---|---|\n",
       "| 1 | A  | 1 |\n",
       "| 3 | B  | 3 |\n",
       "| 5 | C  | 5 |\n",
       "| 2 | NA | 2 |\n",
       "| 4 | NA | 4 |\n",
       "\n"
      ],
      "text/plain": [
       "  ID Var.x Var.y\n",
       "1 1  A     1    \n",
       "2 3  B     3    \n",
       "3 5  C     5    \n",
       "4 2  NA    2    \n",
       "5 4  NA    4    "
      ]
     },
     "metadata": {},
     "output_type": "display_data"
    }
   ],
   "source": [
    "right_join(df1,df2, by = \"ID\")"
   ]
  },
  {
   "cell_type": "code",
   "execution_count": 17,
   "id": "dd057051-f9cc-486a-8770-0095ea71c9b9",
   "metadata": {},
   "outputs": [
    {
     "data": {
      "text/html": [
       "<table class=\"dataframe\">\n",
       "<caption>A data.frame: 5 × 3</caption>\n",
       "<thead>\n",
       "\t<tr><th scope=col>ID</th><th scope=col>Var.x</th><th scope=col>Var.y</th></tr>\n",
       "\t<tr><th scope=col>&lt;dbl&gt;</th><th scope=col>&lt;chr&gt;</th><th scope=col>&lt;chr&gt;</th></tr>\n",
       "</thead>\n",
       "<tbody>\n",
       "\t<tr><td>1</td><td>A</td><td>1 </td></tr>\n",
       "\t<tr><td>3</td><td>B</td><td>3 </td></tr>\n",
       "\t<tr><td>5</td><td>C</td><td>5 </td></tr>\n",
       "\t<tr><td>7</td><td>D</td><td>NA</td></tr>\n",
       "\t<tr><td>9</td><td>E</td><td>NA</td></tr>\n",
       "</tbody>\n",
       "</table>\n"
      ],
      "text/latex": [
       "A data.frame: 5 × 3\n",
       "\\begin{tabular}{lll}\n",
       " ID & Var.x & Var.y\\\\\n",
       " <dbl> & <chr> & <chr>\\\\\n",
       "\\hline\n",
       "\t 1 & A & 1 \\\\\n",
       "\t 3 & B & 3 \\\\\n",
       "\t 5 & C & 5 \\\\\n",
       "\t 7 & D & NA\\\\\n",
       "\t 9 & E & NA\\\\\n",
       "\\end{tabular}\n"
      ],
      "text/markdown": [
       "\n",
       "A data.frame: 5 × 3\n",
       "\n",
       "| ID &lt;dbl&gt; | Var.x &lt;chr&gt; | Var.y &lt;chr&gt; |\n",
       "|---|---|---|\n",
       "| 1 | A | 1  |\n",
       "| 3 | B | 3  |\n",
       "| 5 | C | 5  |\n",
       "| 7 | D | NA |\n",
       "| 9 | E | NA |\n",
       "\n"
      ],
      "text/plain": [
       "  ID Var.x Var.y\n",
       "1 1  A     1    \n",
       "2 3  B     3    \n",
       "3 5  C     5    \n",
       "4 7  D     NA   \n",
       "5 9  E     NA   "
      ]
     },
     "metadata": {},
     "output_type": "display_data"
    }
   ],
   "source": [
    "left_join(df1,df2, by = \"ID\")"
   ]
  },
  {
   "cell_type": "code",
   "execution_count": 18,
   "id": "4a8d601c-1fc2-4e2a-b547-440084725505",
   "metadata": {},
   "outputs": [
    {
     "ename": "ERROR",
     "evalue": "Error in outer_join(df1, df2, by = \"ID\"): could not find function \"outer_join\"\n",
     "output_type": "error",
     "traceback": [
      "Error in outer_join(df1, df2, by = \"ID\"): could not find function \"outer_join\"\nTraceback:\n"
     ]
    }
   ],
   "source": [
    "outer_join(df1,df2, by = \"ID\")"
   ]
  },
  {
   "cell_type": "code",
   "execution_count": null,
   "id": "5e305393-9114-4c2c-97f4-3bec4b488a90",
   "metadata": {},
   "outputs": [],
   "source": [
    "# Joinsen som finns är full, inner, right, och left. Ibland kallas full_join för en \"outer_join\" istället\n",
    "# men funktionen i dplyr som används för att göra en outer join kallas för full_join(). Arguemntetn\n",
    "# för funktionerna är typavjoin_join(förstadataframen,andradataframen, by = \"NamnpåIDcolumnensommanjoinarefter)"
   ]
  },
  {
   "cell_type": "code",
   "execution_count": null,
   "id": "6bca2992-29a3-40ed-bfe7-c876306857d6",
   "metadata": {},
   "outputs": [],
   "source": []
  }
 ],
 "metadata": {
  "kernelspec": {
   "display_name": "R",
   "language": "R",
   "name": "ir"
  },
  "language_info": {
   "codemirror_mode": "r",
   "file_extension": ".r",
   "mimetype": "text/x-r-source",
   "name": "R",
   "pygments_lexer": "r",
   "version": "4.3.1"
  }
 },
 "nbformat": 4,
 "nbformat_minor": 5
}
