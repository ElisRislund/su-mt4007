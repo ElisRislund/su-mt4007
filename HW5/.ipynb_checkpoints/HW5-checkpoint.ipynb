{
 "cells": [
  {
   "cell_type": "markdown",
   "id": "7d014c09-4c9c-4838-b8b3-93f3b5ab6f7f",
   "metadata": {},
   "source": [
    "# Homework 5\n",
    "\n",
    "## Part 1: Rest API "
   ]
  },
  {
   "cell_type": "code",
   "execution_count": 1,
   "id": "5f894ec7-24fd-447c-930b-1299f0477519",
   "metadata": {},
   "outputs": [
    {
     "name": "stderr",
     "output_type": "stream",
     "text": [
      "Warning message:\n",
      "\"package 'httr2' was built under R version 4.3.3\"\n"
     ]
    }
   ],
   "source": [
    "suppressWarnings(library(httr2))"
   ]
  },
  {
   "cell_type": "code",
   "execution_count": null,
   "id": "6811ea4f-aea7-4c37-b452-1b0b3322cd3b",
   "metadata": {},
   "outputs": [],
   "source": []
  }
 ],
 "metadata": {
  "kernelspec": {
   "display_name": "R",
   "language": "R",
   "name": "ir"
  },
  "language_info": {
   "codemirror_mode": "r",
   "file_extension": ".r",
   "mimetype": "text/x-r-source",
   "name": "R",
   "pygments_lexer": "r",
   "version": "4.3.1"
  }
 },
 "nbformat": 4,
 "nbformat_minor": 5
}
