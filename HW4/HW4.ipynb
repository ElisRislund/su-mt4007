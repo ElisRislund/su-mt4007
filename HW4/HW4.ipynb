{
 "cells": [
  {
   "cell_type": "markdown",
   "id": "86085190-f0a1-4c3a-be37-c011e751d52d",
   "metadata": {},
   "source": [
    "# Homework 4"
   ]
  },
  {
   "cell_type": "code",
   "execution_count": null,
   "id": "82b56d62-0f77-4f80-b31f-290b37e053ee",
   "metadata": {},
   "outputs": [],
   "source": [
    "library(tidyverse)\n",
    "library(DBI)\n",
    "library(RSQLite)"
   ]
  },
  {
   "cell_type": "markdown",
   "id": "6c0e9b12-2a8c-4beb-b784-0e47bb3e9023",
   "metadata": {},
   "source": [
    "## Task 1: Joining Data\n",
    "\n",
    "We begin by joining the data of cellphones from the previous homework with the new data of population sizes. First we need to deal with the missing values (same as last homework)."
   ]
  },
  {
   "cell_type": "code",
   "execution_count": 2,
   "id": "2a28aca8-6aa8-48fd-8928-23d05fd504be",
   "metadata": {},
   "outputs": [],
   "source": [
    "df_prep_untidy <- read.csv(\"https://raw.githubusercontent.com/su-mt4007/data/refs/heads/main/cell_phones_total.csv\")\n",
    "\n",
    "\n",
    "# Removing data for years prior 2000 \n",
    "df_prep_2000 <- select(df_prep_untidy,-2:-37) \n",
    "\n",
    "\n",
    "# Changing empty strings to NA's for locf and locb\n",
    "df_with_na <- mutate(df_prep_2000,across(everything(), ~ na_if(., \"\")))\n",
    "\n",
    "\n",
    "# Removing id row for countries\n",
    "column_1_prep <- df_with_na[, 1, drop = FALSE]\n",
    "\n",
    "# Filling in missing data with locf & locb, binding id column and filled data frame\n",
    "df_filled <- as.data.frame(\n",
    "  cbind(\n",
    "    column_1_prep,  # Add the id row back for countries to the locf + locb data frame\n",
    "    t(apply(df_with_na[, -1], 1, function(row) zoo::na.locf(zoo::na.locf(row, na.rm = FALSE), fromLast = TRUE)))\n",
    "  )\n",
    ")\n",
    "\n",
    "      \n",
    "# Function for converting strings like \"2.6k\" to a real number\n",
    "convert_to_numeric <- function(x) {\n",
    "  if (str_detect(x, \"k\")) {\n",
    "    return(as.numeric(str_remove(x, \"k\")) * 1e3)\n",
    "  } else if (str_detect(x, \"M\")) {\n",
    "    return(as.numeric(str_remove(x, \"M\")) * 1e6)\n",
    "  } else if (str_detect(x, \"B\")) {\n",
    "    return(as.numeric(str_remove(x, \"B\")) * 1e9)\n",
    "  } else {\n",
    "    # If no suffix, just return the numeric value\n",
    "    return(as.numeric(x))\n",
    "  }\n",
    "}\n",
    "\n",
    "\n",
    "# Convert strings to numbers\n",
    "df_cph <- df_filled |>\n",
    "  mutate(across(\n",
    "    .cols = -1,  \n",
    "    .fns = ~sapply(., convert_to_numeric)\n",
    "  ))"
   ]
  },
  {
   "cell_type": "markdown",
   "id": "55626d9f-1a63-428e-90d7-a080db4f09aa",
   "metadata": {},
   "source": [
    "In the proces of dealing with missing values in the last lab, some years were removed. To make our new population data frame compatible with the prior we remove these years as well (so the years of the two data frames match). We also deal with the missing values in our data frame. In the data frame for populations sizes the missing values are written with NAs."
   ]
  },
  {
   "cell_type": "code",
   "execution_count": 3,
   "id": "0267de37-a88b-4a3e-8e36-adde7534cc04",
   "metadata": {},
   "outputs": [],
   "source": [
    "df_pop_untidy <- read.csv(\"https://raw.githubusercontent.com/su-mt4007/data/refs/heads/main/pop_data.csv\")\n",
    "\n",
    "\n",
    "# Removing years to make the years of our two data frames match\n",
    "df_pop_2000 <- select(df_pop_untidy,-3:-41) \n",
    "df_pop_2000 <- select(df_pop_2000,-last_col())[,-1]\n",
    "df_pop_2000 <- mutate(df_pop_2000,across(everything(), as.character))\n",
    "\n",
    "\n",
    "# Removing countries with only missing values (locf + locb wouldn't work)\n",
    "df_pop_2000 <- filter(df_pop_2000,rowSums(df_pop_2000 == \"\") < 20)\n",
    "\n",
    "\n",
    "# Removing id row for country\n",
    "column_1_pop <- df_pop_2000[, 1, drop = FALSE]\n",
    "\n",
    "\n",
    "# Applying locf to population data frame\n",
    "df_pop_forw <- t(apply(df_pop_2000[, -1], 1, function(row) zoo::na.locf(row, na.rm = FALSE)))\n",
    "\n",
    "\n",
    "# Applying locb to population data frame \n",
    "df_pop_back <- t(apply(df_pop_forw[, -1], 1, function(row) zoo::na.locf(row, na.rm = FALSE, fromLast=TRUE)))\n",
    "\n",
    "\n",
    "# Binding filled data and id & converting years as strings to years as numerical\n",
    "df_pop <- as.data.frame(cbind(column_1_pop,df_pop_back))\n",
    "                       \n",
    "df_pop <- df_pop |>\n",
    "  mutate(across(\n",
    "    .cols = -1,  \n",
    "    .fns = ~sapply(., convert_to_numeric)\n",
    "  ))"
   ]
  },
  {
   "cell_type": "markdown",
   "id": "6431e387-18ab-4aad-a239-5e71efee3cf5",
   "metadata": {},
   "source": [
    "We now have a filled data frame for population sizes and for cellphone numbers (for years from 2000 to 2019).\n",
    "However our data frames need not contain the same countries (they don't). So we filter out those countries only found in one of the data frames and not in the other:"
   ]
  },
  {
   "cell_type": "code",
   "execution_count": 4,
   "id": "1e0b8a05-ec40-451e-8ea7-cb84516fc912",
   "metadata": {},
   "outputs": [],
   "source": [
    "df_pop <- df_pop |>\n",
    "  filter(iso.3 %in% df_cph$iso.3)\n",
    "\n",
    "df_cph <- df_cph |>\n",
    "  filter(iso.3 %in% df_pop$iso.3)"
   ]
  },
  {
   "cell_type": "markdown",
   "id": "7c53c81f-fd99-4e82-8bbf-8cae4f537c65",
   "metadata": {},
   "source": [
    "We now join our two data frames together (note that instead of manually removing countries not shared in our\n",
    "two data frames we could instead have used inner_join when joining them)."
   ]
  },
  {
   "cell_type": "code",
   "execution_count": null,
   "id": "ae606f10-cf11-4eea-9377-f39cd0e319ad",
   "metadata": {},
   "outputs": [],
   "source": [
    "df_pop_long <- pivot_longer(df_pop,cols = X2000:X2019,names_to = \"Year\", values_to = \"Population\")\n",
    "df_cph_long <- pivot_longer(df_cph,cols = X2000:X2019,names_to = \"Year\", values_to = \"Number_of_cellphones\")\n",
    "df_pop_cph <- full_join(df_pop_long,df_cph_long)"
   ]
  },
  {
   "cell_type": "markdown",
   "id": "66122f9e-a0d1-4d68-b514-52f759a48448",
   "metadata": {},
   "source": [
    "We now present a table similar to the one found homework instructions. I changed the year from 1960 to 2000 since my data starts at 2000 and not 1960. Otherwise I kept the countries the same. "
   ]
  },
  {
   "cell_type": "code",
   "execution_count": 6,
   "id": "21e23635-6d0f-4302-94d2-1fceed02b8c3",
   "metadata": {},
   "outputs": [
    {
     "data": {
      "text/html": [
       "<table class=\"dataframe\">\n",
       "<caption>A tibble: 5 × 4</caption>\n",
       "<thead>\n",
       "\t<tr><th scope=col>iso.3</th><th scope=col>Year</th><th scope=col>Population</th><th scope=col>Number_of_cellphones</th></tr>\n",
       "\t<tr><th scope=col>&lt;chr&gt;</th><th scope=col>&lt;chr&gt;</th><th scope=col>&lt;dbl&gt;</th><th scope=col>&lt;dbl&gt;</th></tr>\n",
       "</thead>\n",
       "<tbody>\n",
       "\t<tr><td>ABW</td><td>X2000</td><td>   89101</td><td>15000</td></tr>\n",
       "\t<tr><td>AFG</td><td>X2000</td><td>19542982</td><td>    0</td></tr>\n",
       "\t<tr><td>AGO</td><td>X2000</td><td>16394062</td><td>25800</td></tr>\n",
       "\t<tr><td>ALB</td><td>X2000</td><td> 3089027</td><td>29800</td></tr>\n",
       "\t<tr><td>AND</td><td>X2000</td><td>   66097</td><td>23500</td></tr>\n",
       "</tbody>\n",
       "</table>\n"
      ],
      "text/latex": [
       "A tibble: 5 × 4\n",
       "\\begin{tabular}{llll}\n",
       " iso.3 & Year & Population & Number\\_of\\_cellphones\\\\\n",
       " <chr> & <chr> & <dbl> & <dbl>\\\\\n",
       "\\hline\n",
       "\t ABW & X2000 &    89101 & 15000\\\\\n",
       "\t AFG & X2000 & 19542982 &     0\\\\\n",
       "\t AGO & X2000 & 16394062 & 25800\\\\\n",
       "\t ALB & X2000 &  3089027 & 29800\\\\\n",
       "\t AND & X2000 &    66097 & 23500\\\\\n",
       "\\end{tabular}\n"
      ],
      "text/markdown": [
       "\n",
       "A tibble: 5 × 4\n",
       "\n",
       "| iso.3 &lt;chr&gt; | Year &lt;chr&gt; | Population &lt;dbl&gt; | Number_of_cellphones &lt;dbl&gt; |\n",
       "|---|---|---|---|\n",
       "| ABW | X2000 |    89101 | 15000 |\n",
       "| AFG | X2000 | 19542982 |     0 |\n",
       "| AGO | X2000 | 16394062 | 25800 |\n",
       "| ALB | X2000 |  3089027 | 29800 |\n",
       "| AND | X2000 |    66097 | 23500 |\n",
       "\n"
      ],
      "text/plain": [
       "         iso.3 Year  Population Number_of_cellphones\n",
       "89101    ABW   X2000    89101   15000               \n",
       "19542982 AFG   X2000 19542982       0               \n",
       "16394062 AGO   X2000 16394062   25800               \n",
       "3089027  ALB   X2000  3089027   29800               \n",
       "66097    AND   X2000    66097   23500               "
      ]
     },
     "metadata": {},
     "output_type": "display_data"
    }
   ],
   "source": [
    "for_table <- filter(df_pop_cph, iso.3 %in% c(\"ABW\",\"AFG\",\"AGO\",\"ALB\",\"AND\") & Year == \"X2000\")\n",
    "for_table"
   ]
  },
  {
   "cell_type": "markdown",
   "id": "aa953830-c8f5-4f68-a2c9-b759b18e6459",
   "metadata": {},
   "source": [
    "We now combine the three data frames (cellphones, population and country names) and change the names of the countries from just three letters to their full names."
   ]
  },
  {
   "cell_type": "code",
   "execution_count": 7,
   "id": "47a0bab9-c9dc-4939-b28a-7a4d2f6942d3",
   "metadata": {},
   "outputs": [],
   "source": [
    "df_country <- read.csv(\"https://raw.githubusercontent.com/su-mt4007/data/refs/heads/main/country_data.csv\")\n",
    "\n",
    "\n",
    "country_names <- df_country |>\n",
    "    select(alpha.3,name)\n",
    "\n",
    "\n",
    "df_combined <- df_pop_cph |>\n",
    "    left_join(country_names, by = c(\"iso.3\" = \"alpha.3\")) |>\n",
    "    select(-iso.3) |>\n",
    "    relocate(name, .before = Year)"
   ]
  },
  {
   "cell_type": "markdown",
   "id": "7d923cce-dee7-4514-a30d-8af23eeb6b9c",
   "metadata": {},
   "source": [
    "We also calculate the number of cellphones per capita and add it as a new variable in our dataframe."
   ]
  },
  {
   "cell_type": "code",
   "execution_count": 8,
   "id": "bb4c3233-6ec8-4f63-8b06-ac8cb2dcfbbd",
   "metadata": {},
   "outputs": [],
   "source": [
    "df_combined <- mutate(df_combined, cellphones_per_capita = Number_of_cellphones / Population )"
   ]
  },
  {
   "cell_type": "markdown",
   "id": "f318817b-e52f-4972-985c-c9ec19ca7e4a",
   "metadata": {},
   "source": [
    "We give a table similar to the one found in the homework instructions:"
   ]
  },
  {
   "cell_type": "code",
   "execution_count": 9,
   "id": "86f0bbd5-9a91-4f13-8248-a755d69ede4a",
   "metadata": {},
   "outputs": [
    {
     "data": {
      "text/html": [
       "<table class=\"dataframe\">\n",
       "<caption>A tibble: 5 × 6</caption>\n",
       "<thead>\n",
       "\t<tr><th scope=col>Year</th><th scope=col>United Arab Emirates</th><th scope=col>Antigua and Barbuda</th><th scope=col>Hong Kong</th><th scope=col>Macao</th><th scope=col>Seychelles</th></tr>\n",
       "\t<tr><th scope=col>&lt;chr&gt;</th><th scope=col>&lt;dbl&gt;</th><th scope=col>&lt;dbl&gt;</th><th scope=col>&lt;dbl&gt;</th><th scope=col>&lt;dbl&gt;</th><th scope=col>&lt;dbl&gt;</th></tr>\n",
       "</thead>\n",
       "<tbody>\n",
       "\t<tr><td>X2015</td><td>2.007424</td><td>1.956838</td><td>2.290401</td><td>3.088231</td><td>1.584260</td></tr>\n",
       "\t<tr><td>X2016</td><td>2.212521</td><td>1.987545</td><td>2.398931</td><td>3.143510</td><td>1.605459</td></tr>\n",
       "\t<tr><td>X2017</td><td>2.183431</td><td>2.019337</td><td>2.488773</td><td>3.210102</td><td>1.742433</td></tr>\n",
       "\t<tr><td>X2018</td><td>2.199084</td><td>2.008164</td><td>2.670209</td><td>3.348741</td><td>1.849900</td></tr>\n",
       "\t<tr><td>X2019</td><td>2.127739</td><td>1.997460</td><td>2.863650</td><td>3.284849</td><td>1.987196</td></tr>\n",
       "</tbody>\n",
       "</table>\n"
      ],
      "text/latex": [
       "A tibble: 5 × 6\n",
       "\\begin{tabular}{llllll}\n",
       " Year & United Arab Emirates & Antigua and Barbuda & Hong Kong & Macao & Seychelles\\\\\n",
       " <chr> & <dbl> & <dbl> & <dbl> & <dbl> & <dbl>\\\\\n",
       "\\hline\n",
       "\t X2015 & 2.007424 & 1.956838 & 2.290401 & 3.088231 & 1.584260\\\\\n",
       "\t X2016 & 2.212521 & 1.987545 & 2.398931 & 3.143510 & 1.605459\\\\\n",
       "\t X2017 & 2.183431 & 2.019337 & 2.488773 & 3.210102 & 1.742433\\\\\n",
       "\t X2018 & 2.199084 & 2.008164 & 2.670209 & 3.348741 & 1.849900\\\\\n",
       "\t X2019 & 2.127739 & 1.997460 & 2.863650 & 3.284849 & 1.987196\\\\\n",
       "\\end{tabular}\n"
      ],
      "text/markdown": [
       "\n",
       "A tibble: 5 × 6\n",
       "\n",
       "| Year &lt;chr&gt; | United Arab Emirates &lt;dbl&gt; | Antigua and Barbuda &lt;dbl&gt; | Hong Kong &lt;dbl&gt; | Macao &lt;dbl&gt; | Seychelles &lt;dbl&gt; |\n",
       "|---|---|---|---|---|---|\n",
       "| X2015 | 2.007424 | 1.956838 | 2.290401 | 3.088231 | 1.584260 |\n",
       "| X2016 | 2.212521 | 1.987545 | 2.398931 | 3.143510 | 1.605459 |\n",
       "| X2017 | 2.183431 | 2.019337 | 2.488773 | 3.210102 | 1.742433 |\n",
       "| X2018 | 2.199084 | 2.008164 | 2.670209 | 3.348741 | 1.849900 |\n",
       "| X2019 | 2.127739 | 1.997460 | 2.863650 | 3.284849 | 1.987196 |\n",
       "\n"
      ],
      "text/plain": [
       "  Year  United Arab Emirates Antigua and Barbuda Hong Kong Macao    Seychelles\n",
       "1 X2015 2.007424             1.956838            2.290401  3.088231 1.584260  \n",
       "2 X2016 2.212521             1.987545            2.398931  3.143510 1.605459  \n",
       "3 X2017 2.183431             2.019337            2.488773  3.210102 1.742433  \n",
       "4 X2018 2.199084             2.008164            2.670209  3.348741 1.849900  \n",
       "5 X2019 2.127739             1.997460            2.863650  3.284849 1.987196  "
      ]
     },
     "metadata": {},
     "output_type": "display_data"
    }
   ],
   "source": [
    "df_combined|>\n",
    "filter(name %in% c(\"Macao\",\"Hong Kong\",\"United Arab Emirates\",\"Antigua and Barbuda\",\"Seychelles\"))|>\n",
    "filter(Year %in% c(\"X2015\",\"X2016\",\"X2017\",\"X2018\",\"X2019\"))|>\n",
    "select(name,Year, cellphones_per_capita)|>\n",
    "pivot_wider(names_from = name, values_from = cellphones_per_capita)"
   ]
  },
  {
   "cell_type": "markdown",
   "id": "526821ee-e7ed-4d08-9416-cbab7248d9b3",
   "metadata": {},
   "source": [
    "Lastly we analyse which country has the largest growth in number of cellphones per capita during the last 10 years. Since my data ends at year 2019, this means that we plot the growth rate of the countries in the table above for years 2010 through 2019."
   ]
  },
  {
   "cell_type": "code",
   "execution_count": 10,
   "id": "826a06d0-b841-4869-ada4-707444023ce6",
   "metadata": {},
   "outputs": [
    {
     "data": {
      "image/png": "[encoded data removed]",
      "text/plain": [
       "plot without title"
      ]
     },
     "metadata": {
      "image/png": {
       "height": 420,
       "width": 420
      }
     },
     "output_type": "display_data"
    }
   ],
   "source": [
    "df_combined|>\n",
    "filter(Year %in% c(\"X2010\",\"X2011\",\"X2012\",\"X2013\",\"X2014\",\"X2015\",\"X20016\"\n",
    "                   ,\"X2017\",\"X2018\",\"X2019\"))|>\n",
    "filter(name %in% c(\"Macao\",\"Hong Kong\",\"United Arab Emirates\",\"Antigua and Barbuda\",\"Seychelles\"))|>\n",
    "ggplot(aes(x=Year,y= cellphones_per_capita, group = name))+\n",
    "geom_line(alpha=0.25)+\n",
    "labs(x=\"Year\",y=\"Cellphones per capita\")"
   ]
  },
  {
   "cell_type": "markdown",
   "id": "c378d293-4306-441c-8bca-c5c7915e1ee4",
   "metadata": {},
   "source": [
    "It seems like Macao is the country that has had the largest growth rate in cellphones per capita in the last decade."
   ]
  },
  {
   "cell_type": "markdown",
   "id": "84da4f2c-acc7-42e3-955c-f15ce6522cb5",
   "metadata": {},
   "source": [
    "# Task 2: SQL"
   ]
  },
  {
   "cell_type": "code",
   "execution_count": 11,
   "id": "739aeae2-2ab7-419c-a530-32079dd5b38d",
   "metadata": {},
   "outputs": [],
   "source": [
    "db_path <- \"C:\\\\Users\\\\elisr\\\\Downloads\\\\user_actions.db\"\n",
    "con <- dbConnect(RSQLite::SQLite(), dbname = db_path)\n",
    "tables <- dbListTables(con)"
   ]
  },
  {
   "cell_type": "markdown",
   "id": "9080f441-e19f-4867-b936-7ff51cb33578",
   "metadata": {},
   "source": [
    "We find all (unique) usernames who have performed the \"signup\" action and print them. "
   ]
  },
  {
   "cell_type": "code",
   "execution_count": 12,
   "id": "ff8a7da7-fb5d-498a-ad83-7d41d023726a",
   "metadata": {},
   "outputs": [
    {
     "name": "stdout",
     "output_type": "stream",
     "text": [
      "   username\n",
      "1    user34\n",
      "2    user28\n",
      "3     user1\n",
      "4    user24\n",
      "5    user15\n",
      "6    user20\n",
      "7    user18\n",
      "8    user25\n",
      "9     user3\n",
      "10    user9\n",
      "11   user27\n",
      "12   user16\n",
      "13   user17\n",
      "14    user4\n",
      "15    user8\n",
      "16   user13\n",
      "17   user19\n",
      "18   user31\n",
      "19   user10\n",
      "20   user23\n",
      "21   user11\n",
      "22   user33\n",
      "23   user12\n",
      "24   user29\n",
      "25   user21\n",
      "26    user6\n",
      "27   user14\n",
      "28   user30\n",
      "29    user7\n",
      "30   user26\n",
      "31   user22\n",
      "32    user5\n",
      "33   user35\n",
      "34    user2\n",
      "35   user32\n"
     ]
    }
   ],
   "source": [
    "query <- \"\n",
    "  SELECT DISTINCT username \n",
    "  FROM user_actions \n",
    "  WHERE action = 'signup';\n",
    "\"\n",
    "\n",
    "\n",
    "signup_users <- dbGetQuery(con, query)\n",
    "print(signup_users)"
   ]
  },
  {
   "cell_type": "markdown",
   "id": "b07e75e1-dc6e-4ef7-887f-bffeb83a3824",
   "metadata": {},
   "source": [
    "We find the total number of log entries for each user and display it together with their username and user_id. "
   ]
  },
  {
   "cell_type": "code",
   "execution_count": 13,
   "id": "f96c16bc-b7b2-4379-83fd-8077b92ff0ad",
   "metadata": {},
   "outputs": [
    {
     "name": "stdout",
     "output_type": "stream",
     "text": [
      "   user_id username log_count\n",
      "1        1    user1       104\n",
      "2        2    user2       149\n",
      "3        3    user3       108\n",
      "4        4    user4       436\n",
      "5        5    user5       192\n",
      "6        6    user6       457\n",
      "7        7    user7       362\n",
      "8        8    user8       329\n",
      "9        9    user9       118\n",
      "10      10   user10       170\n",
      "11      11   user11       328\n",
      "12      12   user12       209\n",
      "13      13   user13       470\n",
      "14      14   user14       320\n",
      "15      15   user15        35\n",
      "16      16   user16       379\n",
      "17      17   user17       367\n",
      "18      18   user18       122\n",
      "19      19   user19        58\n",
      "20      20   user20       362\n",
      "21      21   user21       323\n",
      "22      22   user22       275\n",
      "23      23   user23       309\n",
      "24      24   user24       162\n",
      "25      25   user25       136\n",
      "26      26   user26       217\n",
      "27      27   user27       211\n",
      "28      28   user28        91\n",
      "29      29   user29        49\n",
      "30      30   user30       165\n",
      "31      31   user31       389\n",
      "32      32   user32        32\n",
      "33      33   user33        32\n",
      "34      34   user34       180\n",
      "35      35   user35       394\n"
     ]
    }
   ],
   "source": [
    "query <- \"\n",
    "  SELECT \n",
    "    user_id, \n",
    "    username, \n",
    "    COUNT(*) AS log_count\n",
    "  FROM \n",
    "    user_actions\n",
    "  GROUP BY \n",
    "    user_id, username \n",
    "\"\n",
    "\n",
    "\n",
    "user_log_counts <- dbGetQuery(con, query)\n",
    "print(user_log_counts)"
   ]
  },
  {
   "cell_type": "markdown",
   "id": "055c5d86-83a1-4c50-94ea-e8d8c38d8eb5",
   "metadata": {},
   "source": [
    "We find all users who have both logged in (as in action = 'login') and signed up (as in action = 'signup') on the same day. We then display the username and user_id for these people. "
   ]
  },
  {
   "cell_type": "code",
   "execution_count": 14,
   "id": "5e755da3-4a5f-4eab-bede-356958d34a25",
   "metadata": {},
   "outputs": [
    {
     "name": "stdout",
     "output_type": "stream",
     "text": [
      "  user_id username\n",
      "1       8    user8\n",
      "2      12   user12\n",
      "3      30   user30\n",
      "4       7    user7\n",
      "5      22   user22\n",
      "6       5    user5\n",
      "7       2    user2\n",
      "8      32   user32\n"
     ]
    }
   ],
   "source": [
    "query <- \"\n",
    "  SELECT DISTINCT\n",
    "    a.user_id,\n",
    "    a.username\n",
    "  FROM\n",
    "    user_actions AS a\n",
    "  JOIN\n",
    "    user_actions AS b\n",
    "  ON\n",
    "    a.user_id = b.user_id\n",
    "    AND a.action = 'signup'\n",
    "    AND b.action = 'login'\n",
    "    AND DATE(a.timestamp) = DATE(b.timestamp);\n",
    "\"\n",
    "\n",
    "\n",
    "users_with_both_actions <- dbGetQuery(con, query)\n",
    "print(users_with_both_actions)"
   ]
  },
  {
   "cell_type": "markdown",
   "id": "258bea12-6ebb-4a7a-84d8-9c1461425566",
   "metadata": {},
   "source": [
    "# Task 3: Regex"
   ]
  },
  {
   "cell_type": "code",
   "execution_count": null,
   "id": "d4466c92-0c36-40fd-9a5b-6678ee48b590",
   "metadata": {},
   "outputs": [],
   "source": [
    "lines <- readLines(\"C:\\\\Users\\\\elisr\\\\Downloads\\\\comments.txt\")\n",
    "lines"
   ]
  },
  {
   "cell_type": "markdown",
   "id": "8fbcda06-dc9e-4ae5-8d05-c8668676e777",
   "metadata": {},
   "source": [
    "We begin by writing a regular expression to extract all hashtags from a given comment. For ease of use\n",
    "I decided to bake it into a function. "
   ]
  },
  {
   "cell_type": "code",
   "execution_count": 16,
   "id": "9284373d-a055-4ffd-b013-283b89a651e9",
   "metadata": {},
   "outputs": [],
   "source": [
    "finding_hashtags <- function(comment){\n",
    "        hashtags <- regmatches(comment, gregexpr(\"#\\\\w+\", comment))\n",
    "    return (hashtags)\n",
    "}"
   ]
  },
  {
   "cell_type": "markdown",
   "id": "0c6970a1-4c18-4f85-b27a-57ac3fd87a53",
   "metadata": {},
   "source": [
    "We can now test this on the first comment. "
   ]
  },
  {
   "cell_type": "code",
   "execution_count": 17,
   "id": "df641faa-22a8-4d17-9d5b-9b4d434a7f52",
   "metadata": {},
   "outputs": [
    {
     "data": {
      "text/html": [
       "<ol>\n",
       "\t<li><style>\n",
       ".list-inline {list-style: none; margin:0; padding: 0}\n",
       ".list-inline>li {display: inline-block}\n",
       ".list-inline>li:not(:last-child)::after {content: \"\\00b7\"; padding: 0 .5ex}\n",
       "</style>\n",
       "<ol class=list-inline><li>'#programming'</li><li>'#tips'</li></ol>\n",
       "</li>\n",
       "</ol>\n"
      ],
      "text/latex": [
       "\\begin{enumerate}\n",
       "\\item \\begin{enumerate*}\n",
       "\\item '\\#programming'\n",
       "\\item '\\#tips'\n",
       "\\end{enumerate*}\n",
       "\n",
       "\\end{enumerate}\n"
      ],
      "text/markdown": [
       "1. 1. '#programming'\n",
       "2. '#tips'\n",
       "\n",
       "\n",
       "\n",
       "\n",
       "\n"
      ],
      "text/plain": [
       "[[1]]\n",
       "[1] \"#programming\" \"#tips\"       \n"
      ]
     },
     "metadata": {},
     "output_type": "display_data"
    }
   ],
   "source": [
    "comment_1 <- lines[1]\n",
    "finding_hashtags(comment_1)"
   ]
  },
  {
   "cell_type": "markdown",
   "id": "101d91a4-9aa3-47d2-8024-2bd57e2d33cc",
   "metadata": {},
   "source": [
    "Which shows that it prints exactly what we want it to (it doesn't print out with [] as in the homework instructions\n",
    "but I talked with a TA and it was okay). "
   ]
  },
  {
   "cell_type": "markdown",
   "id": "5fa0f628-7a79-4732-942f-2af9809a4c8f",
   "metadata": {},
   "source": [
    "We now continue and create a regular expression that we can use to find if a comment contains the \n",
    "two hashtags \"#programming\" and \"#python\". Once again for ease of use I bake it into a function:"
   ]
  },
  {
   "cell_type": "code",
   "execution_count": 18,
   "id": "b2d52df2-a11d-438a-9662-6a991c1879aa",
   "metadata": {},
   "outputs": [],
   "source": [
    "finding_prog_pyth <- function(comment){\n",
    "    matches <- grepl(\"(?=.*#programming)(?=.*#python)\", comment, perl = TRUE)\n",
    "    return(matches)\n",
    "}"
   ]
  },
  {
   "cell_type": "markdown",
   "id": "1186be8d-9c62-4f1d-8576-e5d03937c3f5",
   "metadata": {},
   "source": [
    "We can now test it on the second comment to see that it seems to work."
   ]
  },
  {
   "cell_type": "code",
   "execution_count": 19,
   "id": "1d82d828-3233-451b-95b0-9e01de735641",
   "metadata": {},
   "outputs": [
    {
     "data": {
      "text/html": [
       "'2. \"Enjoyed the article. #coding #python\"'"
      ],
      "text/latex": [
       "'2. \"Enjoyed the article. \\#coding \\#python\"'"
      ],
      "text/markdown": [
       "'2. \"Enjoyed the article. #coding #python\"'"
      ],
      "text/plain": [
       "[1] \"2. \\\"Enjoyed the article. #coding #python\\\"\""
      ]
     },
     "metadata": {},
     "output_type": "display_data"
    },
    {
     "data": {
      "text/html": [
       "FALSE"
      ],
      "text/latex": [
       "FALSE"
      ],
      "text/markdown": [
       "FALSE"
      ],
      "text/plain": [
       "[1] FALSE"
      ]
     },
     "metadata": {},
     "output_type": "display_data"
    }
   ],
   "source": [
    "comment_2 <- lines[2]\n",
    "comment_2\n",
    "finding_prog_pyth(comment_2)"
   ]
  },
  {
   "cell_type": "markdown",
   "id": "7d837c9c-634a-4347-86a5-17181c8b664d",
   "metadata": {},
   "source": [
    "This looks correct. As we can see comment two does not contain both \"#programming\" and \"#python\" so it prints FALSE. If we instead use it on a comment with both we'd get a TRUE:"
   ]
  },
  {
   "cell_type": "code",
   "execution_count": 20,
   "id": "a9f27b56-0949-4f60-9e9b-8c94cf838a5b",
   "metadata": {},
   "outputs": [
    {
     "data": {
      "text/html": [
       "'6. \"I learned a lot. #programming #python #tips\"'"
      ],
      "text/latex": [
       "'6. \"I learned a lot. \\#programming \\#python \\#tips\"'"
      ],
      "text/markdown": [
       "'6. \"I learned a lot. #programming #python #tips\"'"
      ],
      "text/plain": [
       "[1] \"6. \\\"I learned a lot. #programming #python #tips\\\"\""
      ]
     },
     "metadata": {},
     "output_type": "display_data"
    },
    {
     "data": {
      "text/html": [
       "TRUE"
      ],
      "text/latex": [
       "TRUE"
      ],
      "text/markdown": [
       "TRUE"
      ],
      "text/plain": [
       "[1] TRUE"
      ]
     },
     "metadata": {},
     "output_type": "display_data"
    }
   ],
   "source": [
    "comment_6 <- lines[6]\n",
    "comment_6\n",
    "finding_prog_pyth(comment_6)"
   ]
  }
 ],
 "metadata": {
  "kernelspec": {
   "display_name": "R",
   "language": "R",
   "name": "ir"
  },
  "language_info": {
   "codemirror_mode": "r",
   "file_extension": ".r",
   "mimetype": "text/x-r-source",
   "name": "R",
   "pygments_lexer": "r",
   "version": "4.3.1"
  }
 },
 "nbformat": 4,
 "nbformat_minor": 5
}
