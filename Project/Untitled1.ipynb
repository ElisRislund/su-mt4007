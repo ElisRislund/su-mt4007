{
 "cells": [
  {
   "cell_type": "code",
   "execution_count": 1,
   "id": "0eb640c0-9700-4dc4-9827-f52a4d85c526",
   "metadata": {},
   "outputs": [],
   "source": [
    "# Sammanfattning av arbetets status:\n",
    "\n",
    "# Heatmappen av (lag,position) är helt KLAR\n",
    "\n",
    "# Plotten av positionsförändringar mellan år är helt KLAR\n",
    "\n",
    "# Har delat upp lag efter regioner. Lineplotten är klar men ser inte jättebra ut. Kanske gör en uppdelning\n",
    "# av åren efter decennier och gör en pieshart av genomsnitten för respektive decennium istället. Alternativt \n",
    "# testa att slå samman vissa regioner efterom dom inte verkar vara särskilt representerade. \n",
    "\n",
    "# Göra något med poängen? Kolla ifall dom driftar iväg från varandra. \n",
    "\n",
    "# Fråga Taariq om strukturen på rapporten, kolla på Elins rapport för inspiration. Konkreta frågor:\n",
    "# Ska all kod vara på ett ställe? "
   ]
  }
 ],
 "metadata": {
  "kernelspec": {
   "display_name": "R",
   "language": "R",
   "name": "ir"
  },
  "language_info": {
   "codemirror_mode": "r",
   "file_extension": ".r",
   "mimetype": "text/x-r-source",
   "name": "R",
   "pygments_lexer": "r",
   "version": "4.3.1"
  }
 },
 "nbformat": 4,
 "nbformat_minor": 5
}
