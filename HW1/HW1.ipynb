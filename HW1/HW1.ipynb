{
 "cells": [
  {
   "cell_type": "markdown",
   "id": "38c76d42-7916-43fc-a344-0eb32fb9ff5e",
   "metadata": {},
   "source": [
    "# Homework 1\n",
    "Hi!\n",
    "\n",
    "My name is Elis Rislund. I am 23 years old and live in Stockholm, studying mathematics. I like sports, reading and maths. \n",
    "\n",
    "My previous experience with data science is none/limited to whatever we have done in the statistics and programming courses from the typical undergraduate sequence in mathematics at SU. "
   ]
  }
 ],
 "metadata": {
  "kernelspec": {
   "display_name": "R",
   "language": "R",
   "name": "ir"
  },
  "language_info": {
   "codemirror_mode": "r",
   "file_extension": ".r",
   "mimetype": "text/x-r-source",
   "name": "R",
   "pygments_lexer": "r",
   "version": "4.3.1"
  }
 },
 "nbformat": 4,
 "nbformat_minor": 5
}
